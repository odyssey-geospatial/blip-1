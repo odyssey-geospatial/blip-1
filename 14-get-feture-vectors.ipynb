{
 "cells": [
  {
   "cell_type": "markdown",
   "id": "848014b6-b749-4a8e-be5c-d00e2629dfea",
   "metadata": {},
   "source": [
    "# Feature vectors for training an embedding model\n",
    "\n",
    "In another notebook, we created\n",
    "embeddings for our tiles, using a masked geospatial model.\n",
    "They consist of a set of vectors that are still associated witht he individual \n",
    "geospatial entities in each tile. And the transformation is perm-e, \n",
    "which is not what we want for a regional embedding.\n",
    "\n",
    "We seek a model that aggregates these initial embeddings,\n",
    "using contrastive loss. But that means we need some feature vector by which\n",
    "we can judge different tiles as \"similar\" or \"dissimilar\". \n",
    "In this notebook, we create such feature vectors."
   ]
  },
  {
   "cell_type": "markdown",
   "id": "d8645871-3bcb-47b2-8b24-ff032accbcc0",
   "metadata": {},
   "source": [
    "## Processing Setup"
   ]
  },
  {
   "cell_type": "code",
   "execution_count": null,
   "id": "9df7db4b-d9da-456f-a4fc-7393962a3b02",
   "metadata": {},
   "outputs": [],
   "source": [
    "# Google colab setup\n",
    "# import os\n",
    "# from google.colab import drive\n",
    "# drive.mount('/content/drive')\n",
    "# project_home = '/content/drive/MyDrive/Projects/verge'\n",
    "# os.chdir(project_home)"
   ]
  },
  {
   "cell_type": "code",
   "execution_count": null,
   "id": "28e3f8c1-3ddc-4d1c-b6ea-ceccd9cbae0f",
   "metadata": {},
   "outputs": [],
   "source": [
    "# Local processing setup\n",
    "project_home = '..'"
   ]
  },
  {
   "cell_type": "markdown",
   "id": "bde8369a-1f67-47fb-9e16-96916d8f1573",
   "metadata": {},
   "source": [
    "## Notebook Setup"
   ]
  },
  {
   "cell_type": "code",
   "execution_count": null,
   "id": "8ea6f911-fdaf-46b1-8b36-558a49914b23",
   "metadata": {},
   "outputs": [],
   "source": [
    "import pandas as pd\n",
    "import numpy as np\n",
    "import glob\n",
    "import pickle\n",
    "import os\n",
    "import torch\n",
    "import torch.nn as nn\n",
    "import torch.utils\n",
    "import torch.utils.data\n",
    "from torch.utils.data import DataLoader\n",
    "import copy\n",
    "import json\n",
    "\n",
    "import sys\n",
    "sys.path.append(project_home)\n",
    "from utils.geo_transformer_mem import VergeDataset, verge_collate_fn, GeospatialTransformer\n"
   ]
  },
  {
   "cell_type": "markdown",
   "id": "f7e1bebe-4aa8-4b2f-a14e-46764a34ea82",
   "metadata": {},
   "source": [
    "## Parameters"
   ]
  },
  {
   "cell_type": "code",
   "execution_count": null,
   "id": "3a21044e-d7eb-4dcd-bbb4-fc061a20ce4c",
   "metadata": {},
   "outputs": [],
   "source": [
    "# The name of the ROI to use.\n",
    "roi_name = 'ne-laptop'\n",
    "\n",
    "# The name of the general-purpose data directory.\n",
    "data_home = '%s/data' % (project_home)\n",
    "\n",
    "# The name of the ROI-specific data directory.\n",
    "roi_home = '%s/data/%s' % (project_home, roi_name)\n",
    "\n",
    "# The unique identifier of the model to be used.\n",
    "run_id = '102'\n"
   ]
  },
  {
   "cell_type": "markdown",
   "id": "74bf5761-560f-4eef-90ed-dadf07fe9e09",
   "metadata": {},
   "source": [
    "## Preliminaries"
   ]
  },
  {
   "cell_type": "code",
   "execution_count": null,
   "id": "6cb11716-993e-4422-b22d-5f39908af16d",
   "metadata": {},
   "outputs": [],
   "source": [
    "# Load labels\n",
    "fname = \"%s/labels.csv\" % data_home\n",
    "labels = pd.read_csv(fname)\n",
    "labels.head(3)"
   ]
  },
  {
   "cell_type": "code",
   "execution_count": null,
   "id": "d1924793-cd8a-47bf-9c11-9e5659b14225",
   "metadata": {},
   "outputs": [],
   "source": [
    "# Get a list of tiles.\n",
    "fname = '%s/tiles.csv' % roi_home\n",
    "tile_info = pd.read_csv(fname)\n",
    "print('%d tiles' % len(tile_info))\n",
    "tile_info.head(3)"
   ]
  },
  {
   "cell_type": "code",
   "execution_count": null,
   "id": "a4045c08-7af1-4b45-baab-4224a5346c93",
   "metadata": {},
   "outputs": [],
   "source": [
    "# Get the list of AOI tags.\n",
    "aoi_tags = np.unique(tile_info['aoi_tag'])\n",
    "print('%d unique AOIs' % len(aoi_tags))"
   ]
  },
  {
   "cell_type": "markdown",
   "id": "379d5dc7-7d4b-46cb-b4d0-a12b5592b624",
   "metadata": {},
   "source": [
    "## Processing"
   ]
  },
  {
   "cell_type": "code",
   "execution_count": null,
   "id": "db9f231a-1b52-4fdb-ba7b-9e481194dde0",
   "metadata": {},
   "outputs": [],
   "source": [
    "for aoi_tag in aoi_tags:\n",
    "    iok = tile_info['aoi_tag'] == aoi_tag\n",
    "    aoi_tiles = tile_info[iok]\n",
    "    print(aoi_tag, len(aoi_tiles))\n",
    "\n",
    "    for k, ti in enumerate(aoi_tiles.to_dict('records')):\n",
    "\n",
    "        tile_tag = ti['tile_tag']\n",
    "        print('handling tile %s' % tile_tag)\n",
    "        \n",
    "        # Read the tile data.\n",
    "        fname = \"%s/%s/%s.pq\" % (roi_home, aoi_tag, tile_tag)\n",
    "        tile = geopandas.read_parquet(fname)\n",
    "\n",
    "        # Make a label column that matches the format of the \"labels\" data frame.\n",
    "        tile['full_label'] = tile['category'] + ' : ' + tile['label']\n",
    "    \n",
    "        # Get a tally of the coverage of each type of thing.\n",
    "        coverages = { z: 0.0 for z in labels['label'].values }\n",
    "        \n",
    "        for rec in tile.to_dict('records'):\n",
    "            if rec['gtype'] == 'Polygon':\n",
    "                numerator = rec['geometry'].area / 1000000.0\n",
    "            elif rec['gtype'] == 'LineString':\n",
    "                numerator = rec['geometry'].length / 1000.0\n",
    "            else:\n",
    "                numerator = 1.0\n",
    "        \n",
    "            label = rec['full_label']\n",
    "            coverages[label] += numerator\n",
    "\n",
    "        # Get a feature vector and add it to the list.\n",
    "        v = np.array([coverages[z] for z in sorted(labels['label'].values)])\n",
    "        feature_vectors.append(v)\n",
    "        center_lons.append(center_lon)\n",
    "        center_lats.append(center_lat)\n",
    "    "
   ]
  },
  {
   "cell_type": "code",
   "execution_count": null,
   "id": "30c6cfc8-8ccc-4c87-abcb-9bc538b4f533",
   "metadata": {},
   "outputs": [],
   "source": [
    "# Get feature vectors for each tile.\n",
    "\n",
    "feature_vectors = []\n",
    "center_lons = []\n",
    "center_lats = []\n",
    "\n",
    "for k, ti in enumerate(tile_info.to_dict('records')):\n",
    "\n",
    "    if k % 1000 == 0:\n",
    "        print('handling tile %d / %d' % (k, len(tile_info)))\n",
    "        \n",
    "    fname = \"%s/%s\" % (data_dname, ti['fname'][6:])\n",
    "    center_lon = ti['center_lon']\n",
    "    center_lat = ti['center_lat']\n",
    "\n",
    "    # Read the tile data.\n",
    "    tile = geopandas.read_parquet(fname)\n",
    "\n",
    "    # Make a label column that matches the format of the \"labels\" data frame.\n",
    "    tile['full_label'] = tile['category'] + ' : ' + tile['label']\n",
    "\n",
    "    # Get a tally of the coverage of each type of thing.\n",
    "    coverages = { z: 0.0 for z in labels['label'].values }\n",
    "    \n",
    "    for rec in tile.to_dict('records'):\n",
    "        if rec['gtype'] == 'Polygon':\n",
    "            numerator = rec['geometry'].area / 1000000.0\n",
    "        elif rec['gtype'] == 'LineString':\n",
    "            numerator = rec['geometry'].length / 1000.0\n",
    "        else:\n",
    "            numerator = 1.0\n",
    "    \n",
    "        label = rec['full_label']\n",
    "        coverages[label] += numerator\n",
    "\n",
    "    # Get a feature vector and add it to the list.\n",
    "    v = np.array([coverages[z] for z in sorted(labels['label'].values)])\n",
    "    feature_vectors.append(v)\n",
    "    center_lons.append(center_lon)\n",
    "    center_lats.append(center_lat)\n",
    "    "
   ]
  },
  {
   "cell_type": "code",
   "execution_count": null,
   "id": "22203599-1925-4664-a137-0aea20baa1dd",
   "metadata": {},
   "outputs": [],
   "source": [
    "features = np.vstack(feature_vectors)\n",
    "print('feature matrix shape', features.shape)"
   ]
  },
  {
   "cell_type": "code",
   "execution_count": null,
   "id": "0b2675dc-7e91-4595-8b37-8f0853880a3b",
   "metadata": {},
   "outputs": [],
   "source": [
    "# Normalize the rows and columns.\n",
    "m = features.mean(axis=0)\n",
    "s = features.std(axis=0)\n",
    "zzz = (features - m) / (s + 0.0001)"
   ]
  },
  {
   "cell_type": "markdown",
   "id": "1292682a-033d-4533-b3a9-3bd869b9f6dc",
   "metadata": {},
   "source": [
    "## TSNE plot of feature vectors"
   ]
  },
  {
   "cell_type": "code",
   "execution_count": null,
   "id": "e75b538e-d0ee-4d7c-a9ca-35f761f9786f",
   "metadata": {},
   "outputs": [],
   "source": [
    "# Make a TSNE plot of the scaled features\n",
    "from sklearn.manifold import TSNE\n",
    "tsne = TSNE()\n",
    "xy = tsne.fit_transform(zzz)"
   ]
  },
  {
   "cell_type": "markdown",
   "id": "4b7463b1-657b-4958-986a-70ad86aa1fa7",
   "metadata": {},
   "source": [
    "## Run a DBSCAN clustering on the feature vectors."
   ]
  },
  {
   "cell_type": "code",
   "execution_count": null,
   "id": "d3c2c580-99ad-414a-a527-398b953ff325",
   "metadata": {},
   "outputs": [],
   "source": [
    "from sklearn.cluster import KMeans\n",
    "model = KMeans(n_clusters=12)\n",
    "model.fit(feature_vectors)\n",
    "print('%d clusters' % len(set(model.labels_)))"
   ]
  },
  {
   "cell_type": "code",
   "execution_count": null,
   "id": "2cda0ff8-b0df-4b86-bd76-1e310d69da50",
   "metadata": {},
   "outputs": [],
   "source": [
    "import plotly\n",
    "from plotly.subplots import make_subplots\n",
    "from plotly.graph_objects import Scatter\n",
    "\n",
    "colors = [\n",
    "    \"#e41a1c\", \"#377eb8\", \"#4daf4a\", \"#984ea3\", \"#ff7f00\",\n",
    "    \"#ffff33\", \"#a65628\", \"#f781bf\", \"#999999\", \"#66c2a5\",\n",
    "    \"#fc8d62\", \"#8da0cb\", \"#e78ac3\", \"#a6d854\", \"#ffd92f\",\n",
    "    \"#e5c494\", \"#b3b3b3\", \"#1b9e77\", \"#d95f02\", \"#7570b3\",\n",
    "    \"#e7298a\", \"#66a61e\", \"#e6ab02\", \"#a6761d\", \"#666666\",\n",
    "    \"#8dd3c7\", \"#ffffb3\", \"#bebada\", \"#fb8072\", \"#80b1d3\",\n",
    "    \"#fdb462\", \"#b3de69\", \"#fccde5\", \"#d9d9d9\", \"#bc80bd\",\n",
    "    \"#ccebc5\", \"#ffed6f\", \"#a1dab4\", \"#41b6c4\", \"#2c7fb8\"\n",
    "]\n",
    "\n",
    "labels = model.labels_\n",
    "ulabels = set(labels)\n",
    "\n",
    "fig = make_subplots(rows=1, cols=1)\n",
    "for k, ulabel in enumerate(ulabels):\n",
    "    iok = labels == ulabel\n",
    "    tr = Scatter(x=xy[iok,0], y=xy[iok,1], mode='markers', \n",
    "                 marker={'color': colors[k%40]})\n",
    "    fig.append_trace(tr, 1, 1)\n",
    "        \n",
    "lo = fig['layout']\n",
    "lo['width'] = 800\n",
    "lo['height'] = 500\n",
    "fig\n"
   ]
  },
  {
   "cell_type": "markdown",
   "id": "c2f63a74-c8d9-4aad-b3d2-341b2d5bf7ae",
   "metadata": {},
   "source": [
    "## Make a map showing the locations of all elements of a cluster"
   ]
  },
  {
   "cell_type": "code",
   "execution_count": null,
   "id": "eba27851-9a63-4ad8-9fe1-f74678a54035",
   "metadata": {},
   "outputs": [],
   "source": [
    "import folium\n",
    "\n",
    "label = 7\n",
    "iok = labels == label\n",
    "coords = list(zip(np.array(center_lons)[iok], np.array(center_lats)[iok]))\n",
    "# coords = list(zip(np.array(center_lons), np.array(center_lats)))\n",
    "\n",
    "m = folium.Map(location=[coords[0][1], coords[0][0]], zoom_start=5)\n",
    "\n",
    "# Add solid circle markers for each coordinate\n",
    "for lon, lat in coords:\n",
    "    folium.CircleMarker(\n",
    "        location=[lat, lon],\n",
    "        radius=5,               # Small circle\n",
    "        color='black',          # Circle border color\n",
    "        fill=True,\n",
    "        fill_color='green',     # Solid fill color\n",
    "        fill_opacity=1.0        # Fully opaque\n",
    "    ).add_to(m)\n",
    "\n",
    "m\n"
   ]
  },
  {
   "cell_type": "code",
   "execution_count": null,
   "id": "80c8aa5c-04b9-477d-9d9e-171dd782a31a",
   "metadata": {},
   "outputs": [],
   "source": []
  }
 ],
 "metadata": {
  "kernelspec": {
   "display_name": "Python 3 (ipykernel)",
   "language": "python",
   "name": "python3"
  },
  "language_info": {
   "codemirror_mode": {
    "name": "ipython",
    "version": 3
   },
   "file_extension": ".py",
   "mimetype": "text/x-python",
   "name": "python",
   "nbconvert_exporter": "python",
   "pygments_lexer": "ipython3",
   "version": "3.10.1"
  }
 },
 "nbformat": 4,
 "nbformat_minor": 5
}
