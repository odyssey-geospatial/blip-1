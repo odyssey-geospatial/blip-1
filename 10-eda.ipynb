{
 "cells": [
  {
   "cell_type": "code",
   "execution_count": null,
   "id": "a65ba5c4-040c-4125-a5a0-0defad209858",
   "metadata": {},
   "outputs": [],
   "source": [
    "from transformers import BlipProcessor, BlipForConditionalGeneration\n",
    "from PIL import Image\n",
    "import requests"
   ]
  },
  {
   "cell_type": "code",
   "execution_count": null,
   "id": "a17f2409-082e-4f58-997f-155f7f8ae7fe",
   "metadata": {},
   "outputs": [],
   "source": [
    "processor = BlipProcessor.from_pretrained(\"Salesforce/blip-image-captioning-base\")\n",
    "model = BlipForConditionalGeneration.from_pretrained(\"Salesforce/blip-image-captioning-base\")"
   ]
  },
  {
   "cell_type": "code",
   "execution_count": null,
   "id": "bdec62e8-4804-4114-b603-68bc46f9de61",
   "metadata": {},
   "outputs": [],
   "source": [
    "# image_url = \"https://github.com/odyssey-geospatial/geo-encodings/blob/main/images/mpp-encodings-6.jpg\"\n",
    "# image_url = \"https://github.com/odyssey-geospatial/geo-encodings/raw/main/images/mpp-encodings-6.jpg\"\n",
    "# img = Image.open(requests.get(image_url, stream=True).raw)\n",
    "\n",
    "#image_fname = \"/Users/john/Work/Headshots/at-lake-win-2024-headshot-1.jpg\"\n",
    "image_fname = \"images/blue-blobs.png\"\n",
    "img = Image.open(image_fname)\n"
   ]
  },
  {
   "cell_type": "code",
   "execution_count": null,
   "id": "d343ebcd-d0b8-405c-857c-4f7e92b9feca",
   "metadata": {},
   "outputs": [],
   "source": [
    "img"
   ]
  },
  {
   "cell_type": "code",
   "execution_count": null,
   "id": "37c541db-c1c5-419b-ad07-9de4027427f8",
   "metadata": {},
   "outputs": [],
   "source": [
    "inputs = processor(images=img, return_tensors=\"pt\")\n",
    "out = model.generate(**inputs)\n",
    "caption = processor.decode(out[0], skip_special_tokens=True)\n",
    "print(caption)"
   ]
  },
  {
   "cell_type": "code",
   "execution_count": null,
   "id": "870f1d98-3b14-457a-b74b-f8886f002ee0",
   "metadata": {},
   "outputs": [],
   "source": []
  }
 ],
 "metadata": {
  "kernelspec": {
   "display_name": "e1",
   "language": "python",
   "name": "python3"
  },
  "language_info": {
   "codemirror_mode": {
    "name": "ipython",
    "version": 3
   },
   "file_extension": ".py",
   "mimetype": "text/x-python",
   "name": "python",
   "nbconvert_exporter": "python",
   "pygments_lexer": "ipython3",
   "version": "3.12.4"
  }
 },
 "nbformat": 4,
 "nbformat_minor": 5
}
