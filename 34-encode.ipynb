{
 "cells": [
  {
   "cell_type": "markdown",
   "id": "1dc8646d-83e6-4f48-8ea0-7df821dad8e9",
   "metadata": {},
   "source": [
    "# Encode geospatial data for MGM / VERGE processing\n",
    "\n",
    "Elsewhere we assembled geospatial data for a buynmch of tiles.\n",
    "Here we come up with encodings for each such entitiy.\n",
    "The encodings will consist of a concatenation of a Multi-Point Proximity (MPP) encoding\n",
    "and a one-hot vector indicating the entity type."
   ]
  },
  {
   "cell_type": "code",
   "execution_count": null,
   "id": "4763c195-85b1-472a-8226-54b8dc137951",
   "metadata": {},
   "outputs": [],
   "source": [
    "import pandas as pd\n",
    "import numpy as np\n",
    "import glob\n",
    "import geopandas\n",
    "import os\n",
    "import pickle\n",
    "\n",
    "from geo_encodings import MPPEncoder"
   ]
  },
  {
   "cell_type": "markdown",
   "id": "f1c39a9d-cbf7-4868-b9fe-bc7d6fd5fa71",
   "metadata": {},
   "source": [
    "## Setup"
   ]
  },
  {
   "cell_type": "code",
   "execution_count": null,
   "id": "3409db26-b2a3-4c25-9c5b-745e6eeb70b0",
   "metadata": {},
   "outputs": [],
   "source": [
    "# This is the dimension of the (square) AOIs. Set thi to match what was used\n",
    "# when the tiles were created.\n",
    "aoi_size = 500\n",
    "\n",
    "# This is the resiolution of the MPP encoding.\n",
    "resolution = 50"
   ]
  },
  {
   "cell_type": "markdown",
   "id": "826034c6-7dd0-4110-9ba4-285cee0a275e",
   "metadata": {},
   "source": [
    "## Data prep"
   ]
  },
  {
   "cell_type": "code",
   "execution_count": null,
   "id": "e3e313df-516d-4412-8e45-5e1ecfe2bd80",
   "metadata": {},
   "outputs": [],
   "source": [
    "# Read the list of labels.\n",
    "fname = 'labels.csv'\n",
    "labels = pd.read_csv(fname)\n",
    "label_count = len(labels)\n",
    "print(label_count)\n",
    "\n",
    "label_id_lookup = {\n",
    "    z['label']: z['id']\n",
    "    for z in labels.to_dict('records')\n",
    "}"
   ]
  },
  {
   "cell_type": "code",
   "execution_count": null,
   "id": "140b7b2e-d2b1-4db1-b5fb-5ab088d3f62c",
   "metadata": {},
   "outputs": [],
   "source": [
    "# Set up the MPP encoder.\n",
    "encoder = MPPEncoder(\n",
    "    region=[0, 0, aoi_size, aoi_size],\n",
    "    resolution=resolution,\n",
    "    center=False\n",
    ")\n",
    "len(encoder)"
   ]
  },
  {
   "cell_type": "markdown",
   "id": "14f9df2f-3bbf-437f-832c-119064c6cc7a",
   "metadata": {},
   "source": [
    "## Processing"
   ]
  },
  {
   "cell_type": "code",
   "execution_count": null,
   "id": "a2f5a8ae-8b00-4ee7-92c1-b9bab9a52fa4",
   "metadata": {},
   "outputs": [],
   "source": [
    "# Get a list of AOI tags.\n",
    "globstring = 'data/tiles/*'\n",
    "tile_dnames = glob.glob(globstring)\n",
    "aoi_names = [\n",
    "    z[z.rfind('/') + 1 :]\n",
    "    for z in tile_dnames\n",
    "]\n",
    "print('%d AOIs' % len(aoi_names))\n"
   ]
  },
  {
   "cell_type": "code",
   "execution_count": null,
   "id": "00621818-4f5a-4e62-917c-156f1d768e84",
   "metadata": {},
   "outputs": [],
   "source": [
    "# Loop over tiles\n",
    "\n",
    "for aoi_name in aoi_names:\n",
    "    print('\\nhandling tile %s' % aoi_name)\n",
    "\n",
    "    # This will hold all encodings for this AOI\n",
    "    tile_encodings_for_aoi = []\n",
    "\n",
    "    # Get a list of all tiles for this AOI.\n",
    "    globstring = 'data/tiles/%s/*.pq' % aoi_name\n",
    "    fnames = glob.glob(globstring)\n",
    "    print('%d tiles' % len(fnames))\n",
    "    for fname in fnames:\n",
    "        tile_vectors = []\n",
    "        gdf = geopandas.read_parquet(fname)\n",
    "        # for _, rec in gdf.iterrows():\n",
    "        for _, rec in gdf.sample(frac=1).iterrows():\n",
    "            encoding = encoder.encode(rec['geometry']).values()\n",
    "            etype = np.zeros(label_count)\n",
    "            label_string = '%s : %s' % (rec['category'], rec['label'])\n",
    "            label_id = label_id_lookup[label_string]\n",
    "            etype[label_id] = 1.0\n",
    "\n",
    "            # Concatenate the encoding and type vectors.\n",
    "            vector = np.hstack((etype, encoding))\n",
    "            tile_vectors.append(vector)\n",
    "        tile_encoding = np.vstack(tile_vectors)\n",
    "        tile_encodings_for_aoi.append(tile_encoding)\n",
    "\n",
    "    # Save all of the encodings for this tile.\n",
    "    fname = 'data/encodings/%s.pkl' % aoi_name\n",
    "    os.makedirs(os.path.dirname(fname), exist_ok=True)\n",
    "    with open(fname, 'wb') as dest:\n",
    "        pickle.dump(tile_encodings_for_aoi, dest)\n",
    "    print('wrote %s' % (fname))\n",
    "        "
   ]
  },
  {
   "cell_type": "code",
   "execution_count": null,
   "id": "186a8b50-742f-4f72-81c3-fedee858e351",
   "metadata": {},
   "outputs": [],
   "source": [
    "import numpy as np\n",
    "import matplotlib.pyplot as plt\n",
    "\n",
    "# Create a 2D array (example data)\n",
    "data = tile_encodings_for_aoi[0]\n",
    "\n",
    "# Plot as heatmap\n",
    "plt.imshow(data, cmap='viridis', origin='upper')\n",
    "plt.colorbar(label='Intensity')\n",
    "plt.title('encodings')\n",
    "plt.ylabel('entity number')\n",
    "plt.xlabel('encoding element')\n",
    "plt.show()\n"
   ]
  },
  {
   "cell_type": "code",
   "execution_count": null,
   "id": "fb3c8c0f-d91b-4952-8992-7e0aba8b591a",
   "metadata": {},
   "outputs": [],
   "source": [
    "gdf[['category', 'label']].value_counts().sort_index()"
   ]
  }
 ],
 "metadata": {
  "kernelspec": {
   "display_name": "Python 3 (ipykernel)",
   "language": "python",
   "name": "python3"
  },
  "language_info": {
   "codemirror_mode": {
    "name": "ipython",
    "version": 3
   },
   "file_extension": ".py",
   "mimetype": "text/x-python",
   "name": "python",
   "nbconvert_exporter": "python",
   "pygments_lexer": "ipython3",
   "version": "3.10.1"
  }
 },
 "nbformat": 4,
 "nbformat_minor": 5
}
