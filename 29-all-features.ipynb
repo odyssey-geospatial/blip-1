{
 "cells": [
  {
   "cell_type": "markdown",
   "id": "f57c8ee4-7198-4e1e-b2cf-767657175410",
   "metadata": {},
   "source": [
    "# Pull all features for an area\n",
    "\n",
    "In this notebook, I'm developing and testing code that pulls and standardizes all \n",
    "of the map features that we are interested in, for a box of a given size."
   ]
  },
  {
   "cell_type": "code",
   "execution_count": null,
   "id": "f8cfa816-f237-4de7-bfdd-61381d15f8d4",
   "metadata": {},
   "outputs": [],
   "source": [
    "import numpy as np\n",
    "import pandas as pd\n",
    "import pyproj\n",
    "import shapely\n",
    "import osmnx\n",
    "\n",
    "import plotly\n",
    "from plotly.subplots import make_subplots\n",
    "from plotly.graph_objects import Scatter\n",
    "\n",
    "from geo_encodings import draw_shape\n"
   ]
  },
  {
   "cell_type": "markdown",
   "id": "663ce7bf-904d-41fe-a294-036f8a5d28fa",
   "metadata": {},
   "source": [
    "## Parameters"
   ]
  },
  {
   "cell_type": "code",
   "execution_count": null,
   "id": "5c3e5ab8-b3c0-4fa3-80a5-f78aad6bc37e",
   "metadata": {},
   "outputs": [],
   "source": [
    "# AOIs are squares of this dimension, in meters.\n",
    "aoi_size = 10000\n",
    "\n",
    "# For testing\n",
    "# lat, lon = 42.981163, -70.946524 # Exeter NH\n",
    "# lat, lon = 43.077132, -70.757544 # Portsmouth NH\n",
    "# lat, lon = 42.969680, -71.000339 # pickpocket\n",
    "# lat, lon = 42.934, -72.278  # Keene NH\n",
    "lat, lon = 42.996,-71.455  # Manchester NH\n"
   ]
  },
  {
   "cell_type": "markdown",
   "id": "856c456d-e173-4328-a166-4ae5daf44c50",
   "metadata": {},
   "source": [
    "## Preliminaries"
   ]
  },
  {
   "cell_type": "code",
   "execution_count": null,
   "id": "5564eba5-2617-458f-802e-5004579534d7",
   "metadata": {},
   "outputs": [],
   "source": [
    "# Define a local map projection\n",
    "\n",
    "center_lat = lat\n",
    "center_lon = lon\n",
    "x0 = aoi_size / 2\n",
    "y0 = aoi_size / 2\n",
    "\n",
    "proj_def = f\"\"\"\n",
    "+proj=tmerc +lat_0={center_lat} +lon_0={center_lon} \n",
    "+k=1.0 +x_0={x0} +y_0={y0} +datum=WGS84 +units=m +no_defs\n",
    "\"\"\"\n",
    "\n",
    "ltm_crs = pyproj.CRS.from_proj4(proj_def)\n",
    "wgs84_crs = pyproj.CRS.from_epsg(4326)\n",
    "proj_forward = pyproj.Transformer.from_crs(wgs84_crs, ltm_crs, always_xy=True).transform\n",
    "proj_inverse = pyproj.Transformer.from_crs(ltm_crs, wgs84_crs, always_xy=True).transform\n"
   ]
  },
  {
   "cell_type": "code",
   "execution_count": null,
   "id": "7628fb21-f9a9-4261-a6b2-13cad221a335",
   "metadata": {},
   "outputs": [],
   "source": [
    "print(proj_forward(center_lon, center_lat))"
   ]
  },
  {
   "cell_type": "code",
   "execution_count": null,
   "id": "d542ead2-2209-4498-8f8d-c1f3767f9d04",
   "metadata": {},
   "outputs": [],
   "source": [
    "# Define a polygon for the AOI bounds.\n",
    "x0, y0 = 0, 0\n",
    "x1, y1 = aoi_size, aoi_size\n",
    "xx = [x0, x1, x1, x0, x0]\n",
    "yy = [y0, y0, y1, y1, y0]\n",
    "bbox = shapely.Polygon(list(zip(xx, yy)))\n",
    "print(bbox)"
   ]
  },
  {
   "cell_type": "code",
   "execution_count": null,
   "id": "18b039e4-ac44-416b-a3ff-3ffe34b1e12e",
   "metadata": {},
   "outputs": [],
   "source": [
    "# Use that projection to define lon/lat nbounds. Make sure the bounds go \n",
    "# a little farther out than necessary to avoid edge artifacts from map projections.\n",
    "buf = 100\n",
    "\n",
    "lon0, lat0 = proj_inverse(x0 - buf, y0 - buf)\n",
    "lon1, lat1 = proj_inverse(x1 + buf, y1 + buf)\n",
    "print(lon0, lat0, lon1, lat1)\n",
    "print(proj_forward(lon0, lat0))\n",
    "print(proj_forward(lon1, lat1))\n"
   ]
  },
  {
   "cell_type": "code",
   "execution_count": null,
   "id": "367032f7-e848-4309-80d0-3552d7ceb9c1",
   "metadata": {},
   "outputs": [],
   "source": [
    "# Define the boundng box to be used to query OSM.\n",
    "query_bounds = [lon0, lat0, lon1, lat1]\n",
    "center_lon = (lon0 + lon1) / 2\n",
    "center_lat = (lat0 + lat1) / 2"
   ]
  },
  {
   "cell_type": "code",
   "execution_count": null,
   "id": "6c407459-2969-4621-8cf1-3a0528342c75",
   "metadata": {},
   "outputs": [],
   "source": [
    "tags = {\n",
    "    'landuse': True,\n",
    "    'place': True,\n",
    "    'highway': True,\n",
    "    'railway': True,\n",
    "    'aeroway': True,\n",
    "    'bridge': True,\n",
    "    'tunnel': True,\n",
    "    'power': True,\n",
    "    'natural': True,\n",
    "    'waterway': True,\n",
    "    'landcover': True,\n",
    "    'building': True,\n",
    "    'amenity': True,\n",
    "    'shop': True,\n",
    "    'leisure': True\n",
    "}\n",
    "features = osmnx.features.features_from_bbox(query_bounds, tags=tags).reset_index()\n",
    "print('%d features' % len(features))"
   ]
  },
  {
   "cell_type": "code",
   "execution_count": null,
   "id": "6b8c30c5-5ae0-406c-bb0d-55d2998e4cf1",
   "metadata": {},
   "outputs": [],
   "source": [
    "import gent\n",
    "\n",
    "orecs = [] \n",
    "\n",
    "for feature in features.to_dict('records'):\n",
    "    \n",
    "    geomxy = shapely.ops.transform(proj_forward, feature['geometry'])\n",
    "    geomxy = geomxy.intersection(bbox)\n",
    "    if geomxy.is_empty:\n",
    "        continue\n",
    "    gtype = geomxy.geom_type\n",
    "\n",
    "    for rule in gent.rules:\n",
    "        if gtype == rule['gtype']:\n",
    "            osm_key = rule['osm_key']\n",
    "            if osm_key in feature:\n",
    "                osm_value = str(feature[osm_key])\n",
    "                if osm_value in rule['osm_values']:\n",
    "                    orecs.append({\n",
    "                        'category': rule['gent_category'],\n",
    "                        'label': rule['gent_label'],\n",
    "                        'geomxy': geomxy,\n",
    "                        'gtype': gtype\n",
    "                    })\n",
    "\n",
    "print(len(orecs))"
   ]
  },
  {
   "cell_type": "code",
   "execution_count": null,
   "id": "56b9f370-628e-486b-acd4-3975217c05d4",
   "metadata": {},
   "outputs": [],
   "source": [
    "df = pd.DataFrame(orecs)\n",
    "print(len(df))\n",
    "\n",
    "df2 = df.drop_duplicates()\n",
    "print(len(df2))"
   ]
  },
  {
   "cell_type": "code",
   "execution_count": null,
   "id": "30283539-f42f-4d03-966b-906e42821411",
   "metadata": {},
   "outputs": [],
   "source": [
    "df2[['category', 'label', 'gtype']].value_counts().sort_index()"
   ]
  },
  {
   "cell_type": "code",
   "execution_count": null,
   "id": "b44dd20c-d4bc-4191-92f8-7f7c18bf7ac5",
   "metadata": {},
   "outputs": [],
   "source": [
    "import folium\n",
    "from shapely.geometry import Polygon\n",
    "import geopandas as gpd\n",
    "\n",
    "# Define a list of Shapely Polygon objects\n",
    "polygons = [\n",
    "    shapely.ops.transform(proj_inverse, z['geomxy'])\n",
    "    for z in list(filter(lambda x: x['label'] == 'residential', orecs))\n",
    "]\n",
    "\n",
    "# Convert to GeoDataFrame\n",
    "gdf = gpd.GeoDataFrame({'geometry': polygons}, crs='EPSG:4326')\n",
    "\n",
    "# Create a Folium map centered at the mean location\n",
    "center = gdf.geometry.unary_union.centroid\n",
    "m = folium.Map(location=[center.y, center.x], zoom_start=14)\n",
    "\n",
    "# Add each polygon to the map\n",
    "for poly in gdf.geometry:\n",
    "    geo_json = folium.GeoJson(data=gpd.GeoSeries(poly).__geo_interface__)\n",
    "    geo_json.add_to(m)\n",
    "\n",
    "# Display the map in the notebook\n",
    "m\n"
   ]
  },
  {
   "cell_type": "code",
   "execution_count": null,
   "id": "e4564765-38b4-4904-8183-7562b85905b0",
   "metadata": {},
   "outputs": [],
   "source": [
    "x0, y0 = None, None\n",
    "x1, y1 = None, None\n",
    "\n",
    "for rec in df2.to_dict('records'):\n",
    "    g = rec['geomxy']\n",
    "    b = g.bounds\n",
    "    if x0 is None or b[0] < x0:\n",
    "        x0 = b[0]\n",
    "    if y0 is None or b[1] < y0:\n",
    "        y0 = b[0]\n",
    "    if x1 is None or b[2] > x1:\n",
    "        x1 = b[0]\n",
    "    if y1 is None or b[3] > y1:\n",
    "        y1 = b[0]\n",
    "        \n",
    "x0, y0, x1, y1    "
   ]
  },
  {
   "cell_type": "code",
   "execution_count": null,
   "id": "1bf6c3b5-b8e5-46b8-97a6-de18a5b8ec5a",
   "metadata": {},
   "outputs": [],
   "source": []
  }
 ],
 "metadata": {
  "kernelspec": {
   "display_name": "Python 3 (ipykernel)",
   "language": "python",
   "name": "python3"
  },
  "language_info": {
   "codemirror_mode": {
    "name": "ipython",
    "version": 3
   },
   "file_extension": ".py",
   "mimetype": "text/x-python",
   "name": "python",
   "nbconvert_exporter": "python",
   "pygments_lexer": "ipython3",
   "version": "3.12.4"
  }
 },
 "nbformat": 4,
 "nbformat_minor": 5
}
