{
 "cells": [
  {
   "cell_type": "markdown",
   "id": "f57c8ee4-7198-4e1e-b2cf-767657175410",
   "metadata": {},
   "source": [
    "# Pull all features of a given type for an area"
   ]
  },
  {
   "cell_type": "code",
   "execution_count": null,
   "id": "f8cfa816-f237-4de7-bfdd-61381d15f8d4",
   "metadata": {},
   "outputs": [],
   "source": [
    "import numpy as np\n",
    "import pandas as pd\n",
    "import pyproj\n",
    "import shapely\n",
    "import osmnx\n",
    "\n",
    "import plotly\n",
    "from plotly.subplots import make_subplots\n",
    "from plotly.graph_objects import Scatter\n",
    "\n",
    "from geo_encodings import draw_shape\n",
    "\n",
    "import polars as pl\n",
    "pl.Config.set_tbl_rows(25)\n"
   ]
  },
  {
   "cell_type": "code",
   "execution_count": null,
   "id": "5c3e5ab8-b3c0-4fa3-80a5-f78aad6bc37e",
   "metadata": {},
   "outputs": [],
   "source": [
    "# Portsmouth NH.\n",
    "lat0, lon0 = 43.043017, -70.790616\n",
    "lat1, lon1 = 43.089772, -70.695498\n"
   ]
  },
  {
   "cell_type": "code",
   "execution_count": null,
   "id": "367032f7-e848-4309-80d0-3552d7ceb9c1",
   "metadata": {},
   "outputs": [],
   "source": [
    "# Handy derived stuff.\n",
    "query_bounds = [lon0, lat0, lon1, lat1]\n",
    "center_lon = (lon0 + lon1) / 2\n",
    "center_lat = (lat0 + lat1) / 2\n"
   ]
  },
  {
   "cell_type": "code",
   "execution_count": null,
   "id": "5564eba5-2617-458f-802e-5004579534d7",
   "metadata": {},
   "outputs": [],
   "source": [
    "# Define a local map projection\n",
    "offset = 20000\n",
    "proj_def = f\"\"\"\n",
    "+proj=tmerc +lat_0={center_lat} +lon_0={center_lon} \n",
    "+k=1.0 +x_0={offset} +y_0={offset} +datum=WGS84 +units=m +no_defs\n",
    "\"\"\"\n",
    "ltm_crs = pyproj.CRS.from_proj4(proj_def)\n",
    "wgs84_crs = pyproj.CRS.from_epsg(4326)\n",
    "proj_forward = pyproj.Transformer.from_crs(wgs84_crs, ltm_crs, always_xy=True).transform\n",
    "proj_inverse = pyproj.Transformer.from_crs(ltm_crs, wgs84_crs, always_xy=True).transform\n"
   ]
  },
  {
   "cell_type": "code",
   "execution_count": null,
   "id": "6c407459-2969-4621-8cf1-3a0528342c75",
   "metadata": {},
   "outputs": [],
   "source": [
    "tags = {\n",
    "    'landuse': True,\n",
    "    'place': True,\n",
    "    'highway': True,\n",
    "    'railway': True,\n",
    "    'aeroway': True,\n",
    "    'bridge': True,\n",
    "    'tunnel': True,\n",
    "    'power': True,\n",
    "    'mannade': True,\n",
    "    'barrier': True,\n",
    "    'natural': True,\n",
    "    'waterway': True,\n",
    "    'landcover': True,\n",
    "    'building': True,\n",
    "    'amenity': True,\n",
    "    'shop': True,\n",
    "    'healthcare': True,\n",
    "    'leisure': True\n",
    "}\n",
    "features = osmnx.features.features_from_bbox(query_bounds, tags=tags).reset_index()\n",
    "print('%d features' % len(features))"
   ]
  },
  {
   "cell_type": "code",
   "execution_count": null,
   "id": "ce21c017-6154-49ad-8e64-3ab77381bb8f",
   "metadata": {},
   "outputs": [],
   "source": [
    "for c in sorted(features.columns):\n",
    "    print(c)"
   ]
  },
  {
   "cell_type": "code",
   "execution_count": null,
   "id": "9c678f83-1349-43fc-91f3-715fcc263f26",
   "metadata": {},
   "outputs": [],
   "source": []
  }
 ],
 "metadata": {
  "kernelspec": {
   "display_name": "Python 3 (ipykernel)",
   "language": "python",
   "name": "python3"
  },
  "language_info": {
   "codemirror_mode": {
    "name": "ipython",
    "version": 3
   },
   "file_extension": ".py",
   "mimetype": "text/x-python",
   "name": "python",
   "nbconvert_exporter": "python",
   "pygments_lexer": "ipython3",
   "version": "3.12.4"
  }
 },
 "nbformat": 4,
 "nbformat_minor": 5
}
