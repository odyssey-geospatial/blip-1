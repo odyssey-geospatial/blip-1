{
 "cells": [
  {
   "cell_type": "markdown",
   "id": "e86b8916-bdd0-46e6-8195-8de0a4a06ab4",
   "metadata": {},
   "source": [
    "### VERGE: Vector-mode Regional Geospatial Encoding\n",
    "# VERGE model implementation\n",
    "\n",
    "\n",
    "Here we build and train a \"masked geospatial model\". \n",
    "This is a model in which each inpout is a set of encoded geospatial entities,\n",
    "consisting of a cooncatenation of a multi-point proximity encoding and a one-hot label vector.\n",
    "Modeling consists of masking the labels for a random selection of entities, \n",
    "passing the data through an encoder-based architecutre to predicte the labels of masked entities. \n",
    "The idea is that the encodings then capture information about the region.\n",
    "\n",
    "## Version 2: Partial Autoencoder\n",
    "\n",
    "I';m trying an approache here, in which the model is trained to predict\n",
    "a subset of its inpout features. I'm calling it a \"partial autoencoder\".\n",
    "The idea is:\n",
    "* Train an embedding on sets of features A and B, whose verature vectors are concatenated together.\n",
    "* After the embedding part, add a \"head\" that predicts A based on B.\n",
    "* If that works, then presumably the model understands somethign about the relationship between the two.\n",
    "\n"
   ]
  },
  {
   "cell_type": "code",
   "execution_count": null,
   "id": "b54d7995-33a4-44b6-a248-4d97c86ce57c",
   "metadata": {},
   "outputs": [],
   "source": [
    "import pandas as pd\n",
    "import numpy as np\n",
    "import glob\n",
    "import pickle\n",
    "import os\n",
    "import torch\n",
    "import torch.nn as nn\n",
    "from torch.utils.data import DataLoader\n",
    "import copy"
   ]
  },
  {
   "cell_type": "markdown",
   "id": "445ca7e3-ead1-4ddd-b908-e3ecf2d2aef2",
   "metadata": {},
   "source": [
    "## Parameters"
   ]
  },
  {
   "cell_type": "code",
   "execution_count": null,
   "id": "ee168238-1ed3-44c8-af9b-c1907aadfab2",
   "metadata": {},
   "outputs": [],
   "source": [
    "# This is the dimension of the (square) AOIs. Set thi to match what was used\n",
    "# when the tiles were created.\n",
    "aoi_size = 500\n",
    "\n",
    "# This is the resolution of the MPP encoding.\n",
    "resolution = 50\n",
    "\n",
    "# Fraction of cases to use for training.\n",
    "train_fraction = 0.7"
   ]
  },
  {
   "cell_type": "markdown",
   "id": "ae4c1f54-443b-4820-ae36-b00ed6d575d1",
   "metadata": {},
   "source": [
    "## Preliminaries"
   ]
  },
  {
   "cell_type": "code",
   "execution_count": null,
   "id": "d216238e-a075-4a1d-81cf-3269d8c82fb8",
   "metadata": {},
   "outputs": [],
   "source": [
    "# Read the list of labels.\n",
    "fname = 'labels.csv'\n",
    "labels = pd.read_csv(fname)\n",
    "n_classes = len(labels)\n",
    "print('%d labels in this dataset' % n_classes)\n",
    "\n",
    "label_id_lookup = {\n",
    "    z['label']: z['id']\n",
    "    for z in labels.to_dict('records')\n",
    "}"
   ]
  },
  {
   "cell_type": "code",
   "execution_count": null,
   "id": "733ae19e-e8c4-41a4-8a34-9000d20698e8",
   "metadata": {},
   "outputs": [],
   "source": [
    "# Get a list of input data files. Each file consists of a list of encodings for \n",
    "# a number of square tiles in a particluar AOI.\n",
    "globstring = 'data/encodings/*'\n",
    "fnames = glob.glob(globstring)\n",
    "print('%d input files' % len(fnames))"
   ]
  },
  {
   "cell_type": "code",
   "execution_count": null,
   "id": "8d2cdcfd-701e-44e5-9565-840775cf6534",
   "metadata": {},
   "outputs": [],
   "source": [
    "# Read some data.\n",
    "tile_data_list = []\n",
    "for fname in fnames[:2]:\n",
    "    print('reading', fname)\n",
    "    with open(fname, 'rb') as source:\n",
    "        tile_data_list += pickle.load(source)\n",
    "\n",
    "# Divide things into training and validation sets.\n",
    "train_tiles = []\n",
    "val_tiles = []\n",
    "for t in tile_data_list:\n",
    "    if np.random.random() < train_fraction:\n",
    "        train_tiles.append(t)\n",
    "    else:\n",
    "        val_tiles.append(t)\n",
    "\n",
    "print('%d training instances' % len(train_tiles))\n",
    "print('%d validation instances' % len(val_tiles))"
   ]
  },
  {
   "cell_type": "code",
   "execution_count": null,
   "id": "575ef620-9a45-4215-8fdb-b9b35f3820dc",
   "metadata": {},
   "outputs": [],
   "source": [
    "# This class wraps a list of input tile data as a pytorch dataset.\n",
    "# The \"getitem\" method here parses apart the true labels and the encodings,\n",
    "# and applies random masking to the endocing.\n",
    "\n",
    "class VergeDataset(torch.utils.data.Dataset):\n",
    "    \n",
    "    def __init__(self, data_list, n_classes, mask_fraction=0.15):\n",
    "        self.data = data_list\n",
    "        self.n_classes = n_classes\n",
    "        self.mask_fraction = mask_fraction\n",
    "        self.encoding_dim = data_list[0].shape[1] - self.n_classes\n",
    "        # self.mask_label_index = mask_label_index\n",
    "\n",
    "    def __len__(self):\n",
    "        return len(self.data)\n",
    "\n",
    "    def __getitem__(self, idx):\n",
    "        \n",
    "        features = self.data[idx]\n",
    "        encodings = features[:, self.n_classes:]\n",
    "        true_labels_onehot = features[:, :self.n_classes]\n",
    "        true_labels = np.argmax(true_labels_onehot, axis=1)\n",
    "        n_entities = features.shape[0]\n",
    "\n",
    "        # Select a few entities for which to assign masked labels.\n",
    "        mask = np.random.rand(n_entities) < self.mask_fraction\n",
    "        mask_indices = np.where(mask)\n",
    "\n",
    "        # In the feature array, labels are one-hot vectors that get concatenated\n",
    "        # with the geometric encodings. To \"mask\" those labels, we replace the\n",
    "        # one-hot vector with a zero-hot vector.\n",
    "        mask_vector = np.zeros(self.n_classes)\n",
    "        # mask_label_onehot[self.mask_label_index] = 1.0\n",
    "        masked_labels_onehot = copy.copy(true_labels_onehot)\n",
    "        for i in mask_indices:\n",
    "            masked_labels_onehot[i] = mask_vector\n",
    "\n",
    "        # Re-concatenate the masked labels with the geometric encodings.\n",
    "        masked_features = torch.concat((\n",
    "            torch.tensor(masked_labels_onehot, dtype=torch.float32), \n",
    "            torch.tensor(encodings, dtype=torch.float32)\n",
    "        ), axis=-1)\n",
    "\n",
    "        # During model training below, we will be using the \"CrossEntropyLoss\" function,\n",
    "        # which has a built-in capability to ignore un-masked entitites. To get it to work,\n",
    "        # we need to pack an \"ignore\" token into any label slot that is not masked.\n",
    "        # Pytorch's standard value for that token is -100.\n",
    "        labels = torch.full(true_labels.shape, -100, dtype=torch.long)\n",
    "        for i in mask_indices[0]:\n",
    "            labels[i] = true_labels[i]\n",
    "        \n",
    "        return (masked_features, labels)\n",
    "\n",
    "dataset = VergeDataset(tile_data_list, n_classes, mask_fraction=0.2)\n",
    "features, labels = dataset[0]\n",
    "print('features.shape', features.shape)\n",
    "print('labels.shape', labels.shape)\n"
   ]
  },
  {
   "cell_type": "code",
   "execution_count": null,
   "id": "11cd86c9-551f-42f7-a303-c8f99af4c9e1",
   "metadata": {},
   "outputs": [],
   "source": [
    "# Define the function that puts together a batch. The main thing we are handling here\n",
    "# is padding. We make all arrays have a size equal to the largest one in the batch,\n",
    "# ithe excess space filled with padding tokens.\n",
    "def collate_fn(batch):\n",
    "    \n",
    "    features, labels = zip(*batch)\n",
    "    max_len = max(x.shape[0] for x in features)\n",
    "    batch_size = len(features)\n",
    "    feature_dim = features[0].shape[1]\n",
    "\n",
    "    padded_features = torch.zeros(batch_size, max_len, feature_dim)\n",
    "    padded_labels = torch.full((batch_size, max_len), -100, dtype=torch.long)  # -100 is the \"ignore\" value\n",
    "    attention_mask = torch.zeros(batch_size, max_len, dtype=torch.bool)\n",
    "\n",
    "    for i in range(batch_size):\n",
    "        n = features[i].shape[0]\n",
    "        padded_features[i, :n] = features[i]\n",
    "        padded_labels[i, :n] = labels[i]\n",
    "        attention_mask[i, :n] = 1\n",
    "\n",
    "    return padded_features, padded_labels, attention_mask\n",
    "\n",
    "\n",
    "dataset = VergeDataset(train_tiles, n_classes)\n",
    "batch = [dataset[k] for k in [5, 6, 7, 8]]\n",
    "batch_features, batch_labels, batch_attention_mask = collate_fn(batch)\n",
    "print('batch_features.shape', batch_features.shape)\n",
    "print('batch_labels.shape', batch_labels.shape)\n",
    "print('batch_attention_mask.shape', batch_attention_mask.shape)\n"
   ]
  },
  {
   "cell_type": "markdown",
   "id": "419b685c-980f-42d5-8d7a-a195b3f8705e",
   "metadata": {},
   "source": [
    "## Model definition"
   ]
  },
  {
   "cell_type": "code",
   "execution_count": null,
   "id": "0030a547-f3d6-43c0-b167-decde1b40080",
   "metadata": {},
   "outputs": [],
   "source": [
    "class Collector(torch.nn.Module):\n",
    "    \n",
    "    def __init__(self, feature_dim, embed_dim, head_count):\n",
    "        \n",
    "        super().__init__()\n",
    "\n",
    "        self.feature_dim = feature_dim\n",
    "        self.embed_dim = embed_dim\n",
    "        self.head_count = head_count\n",
    "        \n",
    "        weights_r = torch.Tensor(feature_dim, embed_dim)\n",
    "        self.weights_r = nn.Parameter(weights_r)\n",
    "        torch.nn.init.normal_(self.weights_r, mean=0.0, std=1.0)\n",
    "\n",
    "        weights_h = torch.Tensor(feature_dim, head_count)\n",
    "        self.weights_h = nn.Parameter(weights_h)\n",
    "        torch.nn.init.normal_(self.weights_h, mean=0.0, std=1.0)\n",
    "\n",
    "    def forward(self, x):\n",
    "        print('x', x.shape)\n",
    "        \n",
    "        matrix_r = torch.matmul(x, self.weights_r)\n",
    "        print('matrix_r', matrix_r.shape)\n",
    "\n",
    "        matrix_h = torch.matmul(x, self.weights_h)\n",
    "        matrix_h = torch.nn.functional.softmax(matrix_h, dim=1)\n",
    "        print('matrix_h', matrix_h.shape)\n",
    "        print('sum of columns of h:', torch.sum(matrix_h, dim=1))\n",
    "\n",
    "        matrix_e = torch.matmul(torch.transpose(matrix_r, 1, 2), matrix_h)\n",
    "        return matrix_e\n"
   ]
  },
  {
   "cell_type": "code",
   "execution_count": null,
   "id": "075bfddc-5d69-4797-866d-a300b20fb006",
   "metadata": {},
   "outputs": [],
   "source": [
    "class GeospatialTransformer(nn.Module):\n",
    "    \n",
    "    def __init__(self, feature_dim, model_dim=256, num_heads=4, num_layers=2, num_classes=10, dropout=0.1):\n",
    "        super().__init__()\n",
    "        self.input_proj = nn.Linear(feature_dim, model_dim)\n",
    "\n",
    "        encoder_layer = nn.TransformerEncoderLayer(\n",
    "            d_model=model_dim,\n",
    "            nhead=num_heads,\n",
    "            dim_feedforward=4 * model_dim,\n",
    "            dropout=dropout,\n",
    "            batch_first=True  \n",
    "        )\n",
    "        self.encoder = nn.TransformerEncoder(encoder_layer, num_layers=num_layers)\n",
    "\n",
    "        self.collector = Collector(model_dim, 20, 13)\n",
    "\n",
    "        self.output_head = nn.Linear(20 * 13, num_classes)\n",
    "\n",
    "    def forward(self, x, attention_mask):\n",
    "        \"\"\"\n",
    "        x: Tensor of shape [batch_size, n_entities, encoding_dim]\n",
    "        attention_mask: Tensor of shape [batch_size, n_entities], with 1 for valid, 0 for padding\n",
    "        \"\"\"\n",
    "        print('input', x.shape)\n",
    "        \n",
    "        x = self.input_proj(x)\n",
    "        print('projected', x.shape)\n",
    "\n",
    "        # Transformer expects padding mask: True for PAD tokens\n",
    "        pad_mask = (attention_mask == 0)\n",
    "        x = self.encoder(x, src_key_padding_mask=pad_mask)\n",
    "        print('transformed', x.shape)\n",
    "\n",
    "        x = self.collector(x)\n",
    "        print('collected', x.shape)\n",
    "\n",
    "        x = torch.flatten(x, start_dim=1)\n",
    "        print('flattened', x.shape)\n",
    "\n",
    "        logits = self.output_head(x)\n",
    "        print('logits', logits.shape)\n",
    "\n",
    "        return logits\n",
    "\n",
    "    \n",
    "    def embed(self, x, attention_mask):\n",
    "        \"\"\"\n",
    "        Returns an embedding for the input features\n",
    "        \"\"\"\n",
    "        x = self.input_proj(x)\n",
    "        pad_mask = (attention_mask == 0)\n",
    "        x = self.encoder(x, src_key_padding_mask=pad_mask)\n",
    "        x = self.collector(x)\n",
    "        return x\n"
   ]
  },
  {
   "cell_type": "code",
   "execution_count": null,
   "id": "daedea23-2671-49d1-85a8-ec5c557a8ea2",
   "metadata": {},
   "outputs": [],
   "source": [
    "model = GeospatialTransformer(feature_dim=171, model_dim=64, num_heads=4, num_layers=2, num_classes=50, dropout=0.0)\n",
    "n_param = sum(p.numel() for p in model.parameters() if p.requires_grad)\n",
    "print('%d trainable parameters in model' % n_param)"
   ]
  },
  {
   "cell_type": "markdown",
   "id": "142ed6b2-9e4e-4776-9808-8261fed8b306",
   "metadata": {},
   "source": [
    "### For testing"
   ]
  },
  {
   "cell_type": "code",
   "execution_count": null,
   "id": "82d31215-685a-42f0-a834-c29f2b2c2b83",
   "metadata": {},
   "outputs": [],
   "source": [
    "dataset = VergeDataset(train_tiles, n_classes)\n",
    "dataloader = DataLoader(\n",
    "    dataset,\n",
    "    batch_size=1,            # Tune depending on GPU memory\n",
    "    shuffle=True,\n",
    "    collate_fn=collate_fn,   # Key for padding variable-length instances\n",
    "    drop_last=False\n",
    ")\n",
    "\n",
    "features, labels, attention_mask = dataloader.__iter__().__next__()\n",
    "print(features.shape, labels.shape, attention_mask.shape)"
   ]
  },
  {
   "cell_type": "code",
   "execution_count": null,
   "id": "ba0347ad-a9fc-4bb0-8051-70f4996b9080",
   "metadata": {},
   "outputs": [],
   "source": [
    "model.forward(features, attention_mask)"
   ]
  },
  {
   "cell_type": "markdown",
   "id": "a3793c7c-cf0b-4231-8bc1-3a484a676801",
   "metadata": {},
   "source": [
    "### Check permutation invariance"
   ]
  },
  {
   "cell_type": "code",
   "execution_count": null,
   "id": "1be8b1e8-b652-4b6e-b392-543694f31188",
   "metadata": {},
   "outputs": [],
   "source": [
    "device = 'cpu'\n",
    "model.to(device)\n",
    "features = features.to(device)\n",
    "labels = labels.to(device)\n",
    "attention_mask = attention_mask.to(device)\n",
    "e0 = model.embed(features, attention_mask)\n",
    "print(e0.shape)\n",
    "print(features[0, :, -1])\n",
    "print(e0[0, :, 0])\n"
   ]
  },
  {
   "cell_type": "code",
   "execution_count": null,
   "id": "25388524-3ef5-4145-b6d1-922c1e6658de",
   "metadata": {},
   "outputs": [],
   "source": [
    "torch.sum(e0, axis=1)"
   ]
  },
  {
   "cell_type": "code",
   "execution_count": null,
   "id": "599a3111-d919-4539-a456-79710ccec006",
   "metadata": {},
   "outputs": [],
   "source": [
    "perm = torch.randperm(features.size(1))\n",
    "print(perm)\n",
    "permuted_features = features[:, perm, :]\n",
    "permuted_features = permuted_features.to(device)\n",
    "e1 = model.embed(permuted_features, attention_mask)\n",
    "print(e1.shape)\n",
    "print(permuted_features[0, :, -1])\n",
    "print(e1[0, :, 0])\n"
   ]
  },
  {
   "cell_type": "code",
   "execution_count": null,
   "id": "91a79d80-9061-44f6-b9aa-a4c19230349f",
   "metadata": {},
   "outputs": [],
   "source": [
    "torch.sum(e1, axis=1)"
   ]
  },
  {
   "cell_type": "code",
   "execution_count": null,
   "id": "c20abe45-954e-4bad-92d1-a50fdf143032",
   "metadata": {},
   "outputs": [],
   "source": [
    "torch.sum(e0, axis=1) - torch.sum(e1, axis=1)"
   ]
  },
  {
   "cell_type": "markdown",
   "id": "fa310216-b622-42e2-a551-322943108993",
   "metadata": {},
   "source": [
    "### Real traing loop"
   ]
  },
  {
   "cell_type": "code",
   "execution_count": null,
   "id": "5116f8b4-2ad4-47ad-8c3d-7128e93456a0",
   "metadata": {},
   "outputs": [],
   "source": [
    "from torch.utils.data import DataLoader\n",
    "\n",
    "# Initialize dataset\n",
    "dataset = VergeDataset(train_tiles, n_classes)\n",
    "\n",
    "# Create DataLoader\n",
    "dataloader = DataLoader(\n",
    "    dataset,\n",
    "    batch_size=16,            # Tune depending on GPU memory\n",
    "    shuffle=True,\n",
    "    collate_fn=collate_fn,   # Key for padding variable-length instances\n",
    "    drop_last=False\n",
    ")"
   ]
  },
  {
   "cell_type": "code",
   "execution_count": null,
   "id": "80a432a9-dee4-42c8-a068-61d31492436a",
   "metadata": {},
   "outputs": [],
   "source": [
    "device = 'cpu'\n",
    "model.to(device)\n",
    "optimizer = torch.optim.Adam(model.parameters(), lr=1e-4)\n",
    "criterion = nn.CrossEntropyLoss(ignore_index=-100)\n",
    "\n",
    "losses = []\n",
    "\n",
    "model.train()\n",
    "for epoch in range(2):\n",
    "    for features, labels, attention_mask in dataloader:\n",
    "        features = features.to(device)\n",
    "        labels = labels.to(device)\n",
    "        attention_mask = attention_mask.to(device)\n",
    "\n",
    "        logits = model(features, attention_mask)  \n",
    "        loss = criterion(\n",
    "            logits.view(-1, n_classes),\n",
    "            labels.view(-1)\n",
    "        )\n",
    "\n",
    "        optimizer.zero_grad()\n",
    "        loss.backward()\n",
    "        optimizer.step()\n",
    "\n",
    "    losses.append(loss.item())\n",
    "\n",
    "    print(f\"Epoch {epoch+1}, Loss: {loss.item():.4f}\")\n"
   ]
  },
  {
   "cell_type": "code",
   "execution_count": null,
   "id": "c5d2246e-df72-48f6-98fa-8be691be1242",
   "metadata": {},
   "outputs": [],
   "source": [
    "import plotly\n",
    "from plotly.subplots import make_subplots\n",
    "from plotly.graph_objects import Scatter\n",
    "\n",
    "fig = make_subplots(rows=1, cols=1)\n",
    "trace = Scatter(\n",
    "    x=np.arange(len(losses)), y=losses, name='loss', \n",
    "    mode='markers+lines'\n",
    ")\n",
    "fig.append_trace(trace, 1, 1)\n",
    "fig"
   ]
  },
  {
   "cell_type": "code",
   "execution_count": null,
   "id": "90b96949-62e9-4104-a3d7-1d45c66d5654",
   "metadata": {},
   "outputs": [],
   "source": [
    "import torch\n",
    "import torch.nn as nn\n",
    "\n",
    "# Set seed for reproducibility\n",
    "torch.manual_seed(42)\n",
    "\n",
    "# Parameters\n",
    "batch_size = 1\n",
    "num_entities = 5\n",
    "embedding_dim = 8\n",
    "\n",
    "# Dummy input tensor: shape [1, 5, 8]\n",
    "x = torch.randn(batch_size, num_entities, embedding_dim)\n",
    "\n",
    "# Transformer encoder without positional encodings\n",
    "encoder_layer = nn.TransformerEncoderLayer(d_model=embedding_dim, nhead=2, batch_first=True, dropout=0.0)\n",
    "transformer = nn.TransformerEncoder(encoder_layer, num_layers=1)\n",
    "\n",
    "# Attention mask: all entities valid (no padding)\n",
    "attention_mask = torch.ones(batch_size, num_entities, dtype=torch.bool)\n",
    "\n",
    "# Forward pass with original order\n",
    "out_orig = transformer(x, src_key_padding_mask=~attention_mask)\n",
    "\n",
    "# Randomly permute the input rows\n",
    "perm = torch.randperm(num_entities)\n",
    "x_permuted = x[:, perm, :]\n",
    "mask_permuted = attention_mask[:, perm]\n",
    "\n",
    "# Forward pass with permuted input\n",
    "out_perm = transformer(x_permuted, src_key_padding_mask=~mask_permuted)\n",
    "\n",
    "# Undo permutation to align output rows for comparison\n",
    "out_perm_reordered = torch.zeros_like(out_orig)\n",
    "out_perm_reordered[:, perm] = out_perm\n",
    "\n",
    "# Compute difference\n",
    "diff = (out_orig - out_perm_reordered).abs().max().item()\n",
    "print(\"Max difference after permutation:\", diff)\n"
   ]
  },
  {
   "cell_type": "code",
   "execution_count": null,
   "id": "c8f5e59a-8f91-49e7-a0d3-19d7093c20e1",
   "metadata": {},
   "outputs": [],
   "source": []
  },
  {
   "cell_type": "markdown",
   "id": "4be82d49-1647-4ca8-8300-98aca9e9256b",
   "metadata": {},
   "source": [
    "#  based on A. "
   ]
  }
 ],
 "metadata": {
  "kernelspec": {
   "display_name": "Python 3 (ipykernel)",
   "language": "python",
   "name": "python3"
  },
  "language_info": {
   "codemirror_mode": {
    "name": "ipython",
    "version": 3
   },
   "file_extension": ".py",
   "mimetype": "text/x-python",
   "name": "python",
   "nbconvert_exporter": "python",
   "pygments_lexer": "ipython3",
   "version": "3.12.4"
  }
 },
 "nbformat": 4,
 "nbformat_minor": 5
}
