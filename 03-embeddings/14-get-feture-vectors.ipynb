{
 "cells": [
  {
   "cell_type": "markdown",
   "id": "848014b6-b749-4a8e-be5c-d00e2629dfea",
   "metadata": {},
   "source": [
    "# Feature vectors for training an embedding model\n",
    "\n",
    "In another notebook, we created\n",
    "embeddings for our tiles, using a masked geospatial model.\n",
    "They consist of a set of vectors that are still associated witht he individual \n",
    "geospatial entities in each tile. And the transformation is perm-e, \n",
    "which is not what we want for a regional embedding.\n",
    "\n",
    "We seek a model that aggregates these initial embeddings,\n",
    "using contrastive loss. But that means we need some feature vector by which\n",
    "we can judge different tiles as \"similar\" or \"dissimilar\". \n",
    "In this notebook, we create such feature vectors."
   ]
  },
  {
   "cell_type": "markdown",
   "id": "d8645871-3bcb-47b2-8b24-ff032accbcc0",
   "metadata": {},
   "source": [
    "## Processing Setup"
   ]
  },
  {
   "cell_type": "code",
   "execution_count": null,
   "id": "9df7db4b-d9da-456f-a4fc-7393962a3b02",
   "metadata": {},
   "outputs": [],
   "source": [
    "# Google colab setup\n",
    "# import os\n",
    "# from google.colab import drive\n",
    "# drive.mount('/content/drive')\n",
    "# project_home = '/content/drive/MyDrive/Projects/verge'\n",
    "# os.chdir(project_home)"
   ]
  },
  {
   "cell_type": "code",
   "execution_count": null,
   "id": "28e3f8c1-3ddc-4d1c-b6ea-ceccd9cbae0f",
   "metadata": {},
   "outputs": [],
   "source": [
    "# Local processing setup\n",
    "project_home = '..'"
   ]
  },
  {
   "cell_type": "markdown",
   "id": "bde8369a-1f67-47fb-9e16-96916d8f1573",
   "metadata": {},
   "source": [
    "## Notebook Setup"
   ]
  },
  {
   "cell_type": "code",
   "execution_count": null,
   "id": "8ea6f911-fdaf-46b1-8b36-558a49914b23",
   "metadata": {},
   "outputs": [],
   "source": [
    "import pandas as pd\n",
    "import numpy as np\n",
    "import glob\n",
    "import pickle\n",
    "import os\n",
    "import torch\n",
    "import torch.nn as nn\n",
    "import torch.utils\n",
    "import torch.utils.data\n",
    "from torch.utils.data import DataLoader\n",
    "import copy\n",
    "import json\n",
    "import geopandas\n",
    "\n",
    "import sys\n",
    "sys.path.append(project_home)\n",
    "from utils.geo_transformer_mem import VergeDataset, verge_collate_fn, GeospatialTransformer\n"
   ]
  },
  {
   "cell_type": "markdown",
   "id": "f7e1bebe-4aa8-4b2f-a14e-46764a34ea82",
   "metadata": {},
   "source": [
    "## Parameters"
   ]
  },
  {
   "cell_type": "code",
   "execution_count": null,
   "id": "3a21044e-d7eb-4dcd-bbb4-fc061a20ce4c",
   "metadata": {},
   "outputs": [],
   "source": [
    "# The name of the ROI to use.\n",
    "roi_name = 'ne-laptop'\n",
    "\n",
    "# The name of the general-purpose data directory.\n",
    "data_home = '%s/data' % (project_home)\n",
    "\n",
    "# The name of the ROI-specific data directory.\n",
    "roi_home = '%s/data/%s' % (project_home, roi_name)\n",
    "\n",
    "# The unique identifier of the model to be used.\n",
    "run_id = '102'\n"
   ]
  },
  {
   "cell_type": "markdown",
   "id": "74bf5761-560f-4eef-90ed-dadf07fe9e09",
   "metadata": {},
   "source": [
    "## Preliminaries"
   ]
  },
  {
   "cell_type": "code",
   "execution_count": null,
   "id": "6cb11716-993e-4422-b22d-5f39908af16d",
   "metadata": {},
   "outputs": [],
   "source": [
    "# Load labels\n",
    "fname = \"%s/labels.csv\" % data_home\n",
    "labels = pd.read_csv(fname)\n",
    "labels.head(3)"
   ]
  },
  {
   "cell_type": "code",
   "execution_count": null,
   "id": "d1924793-cd8a-47bf-9c11-9e5659b14225",
   "metadata": {},
   "outputs": [],
   "source": [
    "# Get a list of tiles.\n",
    "fname = '%s/tiles.csv' % roi_home\n",
    "tile_info = pd.read_csv(fname)\n",
    "print('%d tiles' % len(tile_info))\n",
    "tile_info.head(3)"
   ]
  },
  {
   "cell_type": "code",
   "execution_count": null,
   "id": "a4045c08-7af1-4b45-baab-4224a5346c93",
   "metadata": {},
   "outputs": [],
   "source": [
    "# Get the list of AOI tags.\n",
    "aoi_tags = np.unique(tile_info['aoi_tag'])\n",
    "print('%d unique AOIs' % len(aoi_tags))"
   ]
  },
  {
   "cell_type": "markdown",
   "id": "379d5dc7-7d4b-46cb-b4d0-a12b5592b624",
   "metadata": {},
   "source": [
    "## Processing"
   ]
  },
  {
   "cell_type": "code",
   "execution_count": null,
   "id": "db9f231a-1b52-4fdb-ba7b-9e481194dde0",
   "metadata": {},
   "outputs": [],
   "source": [
    "for aoi_tag in aoi_tags:\n",
    "\n",
    "    # This will hold the feature info for each tile in this AOI.\n",
    "    feature_info = []\n",
    "    \n",
    "    iok = tile_info['aoi_tag'] == aoi_tag\n",
    "    aoi_tiles = tile_info[iok]\n",
    "\n",
    "    for k, ti in enumerate(aoi_tiles.to_dict('records')):\n",
    "\n",
    "        tile_tag = ti['tile_tag']\n",
    "        # print('handling tile %s' % tile_tag)\n",
    "        \n",
    "        # Read the tile data.\n",
    "        fname = \"%s/tiles/%s/%s.pq\" % (roi_home, aoi_tag, tile_tag)\n",
    "        tile = geopandas.read_parquet(fname)\n",
    "\n",
    "        # Get a tally of the coverage of each geospatial entity type -- point, \n",
    "        ## linestring, or polygon.\n",
    "        coverages = { z: 0.0 for z in labels['label'].values }\n",
    "        \n",
    "        for rec in tile.to_dict('records'):\n",
    "            if rec['gtype'] == 'Polygon':\n",
    "                numerator = rec['geometry'].area / 1000000.0\n",
    "            elif rec['gtype'] == 'LineString':\n",
    "                numerator = rec['geometry'].length / 1000.0\n",
    "            else:\n",
    "                numerator = 1.0\n",
    "        \n",
    "            label = '%s : %s' % (rec['category'], rec['label'])\n",
    "            coverages[label] += numerator\n",
    "\n",
    "        # Get a feature vector and add it to the list.\n",
    "        v = np.array([coverages[z] for z in sorted(labels['label'].values)])\n",
    "        feature_info.append({\n",
    "            'aoi_tag': aoi_tag,\n",
    "            'tile_tag': tile_tag,\n",
    "            'lon0': ti['lon0'],\n",
    "            'lat0': ti['lat0'],\n",
    "            'lon1': ti['lon1'],\n",
    "            'lat1': ti['lat1'],\n",
    "            'features': v\n",
    "        })\n",
    "\n",
    "    # Save that.\n",
    "    ofname = '%s/features/%s.pkl' % (roi_home, aoi_tag)\n",
    "    os.makedirs(os.path.dirname(ofname), exist_ok=True)\n",
    "    with open(ofname, 'wb') as dest:\n",
    "        pickle.dump(feature_info, dest)\n",
    "    print('%d feature records written to %s' % (len(feature_info), ofname))\n",
    "    "
   ]
  },
  {
   "cell_type": "code",
   "execution_count": null,
   "id": "ab9d9516-ef6a-4b1f-96a4-6d7884979301",
   "metadata": {},
   "outputs": [],
   "source": [
    "len(feature_info)"
   ]
  },
  {
   "cell_type": "code",
   "execution_count": null,
   "id": "fdbd1945-f3a1-49df-b169-3239d0b77af3",
   "metadata": {},
   "outputs": [],
   "source": [
    "feature_info[0]"
   ]
  },
  {
   "cell_type": "code",
   "execution_count": null,
   "id": "80c8aa5c-04b9-477d-9d9e-171dd782a31a",
   "metadata": {},
   "outputs": [],
   "source": []
  }
 ],
 "metadata": {
  "kernelspec": {
   "display_name": "Python 3 (ipykernel)",
   "language": "python",
   "name": "python3"
  },
  "language_info": {
   "codemirror_mode": {
    "name": "ipython",
    "version": 3
   },
   "file_extension": ".py",
   "mimetype": "text/x-python",
   "name": "python",
   "nbconvert_exporter": "python",
   "pygments_lexer": "ipython3",
   "version": "3.10.1"
  }
 },
 "nbformat": 4,
 "nbformat_minor": 5
}
