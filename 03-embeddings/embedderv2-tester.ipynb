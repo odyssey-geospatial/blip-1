{
 "cells": [
  {
   "cell_type": "markdown",
   "id": "3e2daeab-4b8b-411b-84cc-dd88286bf67b",
   "metadata": {},
   "source": [
    "# Test the embedding model\n",
    "\n",
    "The embedding odel code was generted by Claude.\n",
    "Here I'm testing it to see how it works."
   ]
  },
  {
   "cell_type": "code",
   "execution_count": null,
   "id": "45908146-a047-477f-9f71-a417b5bc1c0e",
   "metadata": {},
   "outputs": [],
   "source": [
    "import torch\n",
    "import torch.nn as nn\n",
    "import torch.nn.functional as F\n",
    "import torch.optim as optim\n",
    "from torch.utils.data import DataLoader, Dataset\n",
    "import numpy as np\n",
    "from typing import List, Tuple, Optional\n",
    "\n",
    "from embedderv3 import *"
   ]
  },
  {
   "cell_type": "code",
   "execution_count": null,
   "id": "bbfd111e-db12-4b0f-8027-c8dbfd024773",
   "metadata": {},
   "outputs": [],
   "source": [
    "# Example usage and data generation\n",
    "def generate_sample_data(num_instances=1000, min_R=5, max_R=20, C=32, similarity_dim=16):\n",
    "    \"\"\"\n",
    "    Generate sample data for testing.\n",
    "    \"\"\"\n",
    "    sequences = []\n",
    "    similarity_features = []\n",
    "    \n",
    "    for i in range(num_instances):\n",
    "        R = np.random.randint(min_R, max_R + 1)\n",
    "        sequence = np.random.randn(R, C).astype(np.float32)\n",
    "        sequences.append(sequence)\n",
    "        \n",
    "        # Generate similarity features\n",
    "        sim_feature = np.random.randn(similarity_dim).astype(np.float32)\n",
    "        similarity_features.append(sim_feature)\n",
    "    \n",
    "    return sequences, np.array(similarity_features)"
   ]
  },
  {
   "cell_type": "code",
   "execution_count": null,
   "id": "3ef7a034-8bc3-4b1b-8fa9-45f55d9e0475",
   "metadata": {},
   "outputs": [],
   "source": [
    "# Set device\n",
    "device = torch.device('cuda' if torch.cuda.is_available() else 'cpu')\n",
    "print(f\"Using device: {device}\")"
   ]
  },
  {
   "cell_type": "code",
   "execution_count": null,
   "id": "2d1fab08-3b50-4ae4-a9bc-c3b6e2812c29",
   "metadata": {},
   "outputs": [],
   "source": [
    "# Generate sample data\n",
    "sequences, similarity_features = generate_sample_data(\n",
    "    num_instances=1000, min_R=5, max_R=20, C=32, similarity_dim=16\n",
    ")\n",
    "print(len(sequences))\n",
    "print(sequences[0].shape)\n",
    "print(sequences[1].shape)\n",
    "\n",
    "print(len(similarity_features))\n",
    "print(similarity_features[0].shape)\n",
    "print(similarity_features[1].shape)\n"
   ]
  },
  {
   "cell_type": "code",
   "execution_count": null,
   "id": "e40ec2e7-b5d3-4af3-8ea2-785046edd4c6",
   "metadata": {},
   "outputs": [],
   "source": [
    "# Create dataset and dataloader\n",
    "dataset = VariableLengthDataset(sequences, similarity_features)\n",
    "train_loader = DataLoader(dataset, batch_size=32, shuffle=True, collate_fn=collate_fn)\n"
   ]
  },
  {
   "cell_type": "code",
   "execution_count": null,
   "id": "6cc2d22a-0ac0-4a11-a75d-b95811a398d1",
   "metadata": {},
   "outputs": [],
   "source": [
    "# Initialize model\n",
    "model = PermutationInvariantModel(\n",
    "    input_dim=32,\n",
    "    hidden_dim=128,\n",
    "    embedding_dim=64,\n",
    "    num_attention_heads=4,  # Now using 4 attention heads\n",
    "    num_linear_layers=3,\n",
    "    dropout=0.1\n",
    ")\n",
    "\n",
    "print(f\"Model has {sum(p.numel() for p in model.parameters())} parameters\")\n"
   ]
  },
  {
   "cell_type": "code",
   "execution_count": null,
   "id": "eb966d9b-f8f9-4067-84a1-09016d764c24",
   "metadata": {},
   "outputs": [],
   "source": [
    "# Train the model\n",
    "train_model(model, train_loader, num_epochs=50, learning_rate=1e-3, device=device)\n"
   ]
  },
  {
   "cell_type": "code",
   "execution_count": null,
   "id": "221b1058-0351-40f4-aa0c-115563c6bdda",
   "metadata": {},
   "outputs": [],
   "source": [
    "# Example inference\n",
    "model.eval()\n",
    "with torch.no_grad():\n",
    "    sample_batch = next(iter(train_loader))\n",
    "    sequences, masks, similarity_features = sample_batch\n",
    "    sequences = sequences.to(device)\n",
    "    masks = masks.to(device)\n",
    "    \n",
    "    embeddings = model(sequences, masks)\n",
    "    print(f\"Generated embeddings shape: {embeddings.shape}\")\n",
    "    print(f\"Sample embedding norm: {torch.norm(embeddings[0]).item():.4f}\")"
   ]
  },
  {
   "cell_type": "code",
   "execution_count": null,
   "id": "ef789faf-9e5e-4afe-af22-bf509e13d1af",
   "metadata": {},
   "outputs": [],
   "source": [
    "embeddings[0]"
   ]
  },
  {
   "cell_type": "code",
   "execution_count": null,
   "id": "cce65fc9-f3c1-481e-a1a3-eaac1025316e",
   "metadata": {},
   "outputs": [],
   "source": []
  }
 ],
 "metadata": {
  "kernelspec": {
   "display_name": "Python 3 (ipykernel)",
   "language": "python",
   "name": "python3"
  },
  "language_info": {
   "codemirror_mode": {
    "name": "ipython",
    "version": 3
   },
   "file_extension": ".py",
   "mimetype": "text/x-python",
   "name": "python",
   "nbconvert_exporter": "python",
   "pygments_lexer": "ipython3",
   "version": "3.10.1"
  }
 },
 "nbformat": 4,
 "nbformat_minor": 5
}
