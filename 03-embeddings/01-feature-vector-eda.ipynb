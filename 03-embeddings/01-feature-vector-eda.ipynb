{
 "cells": [
  {
   "cell_type": "markdown",
   "id": "f7e1bebe-4aa8-4b2f-a14e-46764a34ea82",
   "metadata": {},
   "source": [
    "# Exploratory analysis for training an embedding model\n",
    "\n",
    "In a parallel folder, we trained a masked geospatial model to yield \"embeddings\"\n",
    "for regions. But they have the problme of not being perm-invariant WRT the ordering\n",
    "of the inputs. Material in this folder seeks to ake those embddings perm-invariant.\n",
    "\n",
    "We do this by applying a NN layer that computes a weighed sum of input vectors, where\n",
    "the weights are learned form the features themselves. \n",
    "\n",
    "That model will be trained using contrastive loss.\n",
    "\n",
    "And contrastive loss depends on an independent definition of whether a pair of regions\n",
    "is similar or dissimilar. THAT is what I'm looking into here. \n",
    "Specifially I hope to define some feature vector for a region such that \"similar\" regions\n",
    "have similar feature vectors. \n",
    "\n",
    "My first attempt at such a feature vector is one that encodes the coverage of different\n",
    "geospatial entity types in a region. So here I'm going to compute that for a bunch \n",
    "of regions andsee how the results cluster. \n",
    "\n"
   ]
  },
  {
   "cell_type": "markdown",
   "id": "c4f40538-f433-40a7-afac-8e1989da68f1",
   "metadata": {},
   "source": [
    "## Processing Setup"
   ]
  },
  {
   "cell_type": "code",
   "execution_count": null,
   "id": "5aab8f41-e513-42d6-86f5-414333cdc232",
   "metadata": {},
   "outputs": [],
   "source": [
    "# Google colab setup\n",
    "# import os\n",
    "# from google.colab import drive\n",
    "# drive.mount('/content/drive')\n",
    "# project_home = '/content/drive/MyDrive/Projects/verge'\n",
    "# os.chdir(project_home)"
   ]
  },
  {
   "cell_type": "code",
   "execution_count": null,
   "id": "943b11c8-6da5-448c-9c20-33a2d673082e",
   "metadata": {},
   "outputs": [],
   "source": [
    "# Local processing setup\n",
    "project_home = '..'"
   ]
  },
  {
   "cell_type": "markdown",
   "id": "b048c630-6f6c-4eb4-a7a6-8fc506ad0f07",
   "metadata": {},
   "source": [
    "## Code"
   ]
  },
  {
   "cell_type": "code",
   "execution_count": null,
   "id": "361666cc-e946-4ffe-8a72-50b7a1d1437a",
   "metadata": {},
   "outputs": [],
   "source": [
    "import pandas as pd\n",
    "import numpy as np\n",
    "import geopandas"
   ]
  },
  {
   "cell_type": "code",
   "execution_count": null,
   "id": "3a21044e-d7eb-4dcd-bbb4-fc061a20ce4c",
   "metadata": {},
   "outputs": [],
   "source": [
    "# The name of the ROI to use.\n",
    "roi_name = 'ne-dev'\n",
    "\n",
    "# The name of the general-purpose data directory.\n",
    "data_home = '%s/data' % (project_home)\n",
    "\n",
    "# The name of the ROI-specific data directory.\n",
    "roi_home = '%s/data/%s' % (project_home, roi_name)\n"
   ]
  },
  {
   "cell_type": "code",
   "execution_count": null,
   "id": "6cb11716-993e-4422-b22d-5f39908af16d",
   "metadata": {},
   "outputs": [],
   "source": [
    "# Load labels\n",
    "fname = \"%s/labels.csv\" % data_home\n",
    "labels = pd.read_csv(fname)\n",
    "labels.head(3)"
   ]
  },
  {
   "cell_type": "code",
   "execution_count": null,
   "id": "d1924793-cd8a-47bf-9c11-9e5659b14225",
   "metadata": {},
   "outputs": [],
   "source": [
    "# Get a list of tiles.\n",
    "fname = '%s/tile_info.csv' % roi_home\n",
    "tile_info = pd.read_csv(fname)\n",
    "print('%d tiles' % len(tile_info))\n",
    "tile_info.head(3)"
   ]
  },
  {
   "cell_type": "code",
   "execution_count": null,
   "id": "86326a5f-5aae-40f0-a5b7-6ade24bb44a5",
   "metadata": {},
   "outputs": [],
   "source": [
    "# Make a lookup table giving each tile's lon/lat as a function of\n",
    "# its path name components.\n",
    "tile_info['key'] = [\n",
    "    z['fname'][-21:]\n",
    "    for z in tile_info.to_dict('records')\n",
    "]\n",
    "tile_coord_lookup = {\n",
    "    z['fname'][-21:]: (z['center_lon'], z['center_lat'])\n",
    "    for z in tile_info.to_dict('records')\n",
    "}"
   ]
  },
  {
   "cell_type": "code",
   "execution_count": null,
   "id": "3799d4d1-2c7f-4638-8940-2b094ced3105",
   "metadata": {},
   "outputs": [],
   "source": [
    "tile_coord_lookup"
   ]
  },
  {
   "cell_type": "code",
   "execution_count": null,
   "id": "ab69dbdc-b793-42ad-a1f9-061ba707e934",
   "metadata": {},
   "outputs": [],
   "source": [
    "# Get a list of the tile file names.\n",
    "import glob\n",
    "globstring = '%s/tiles/*/*.pq' % roi_home\n",
    "tile_fnames = glob.glob(globstring)\n",
    "tile_fnames[:3]"
   ]
  },
  {
   "cell_type": "code",
   "execution_count": null,
   "id": "30c6cfc8-8ccc-4c87-abcb-9bc538b4f533",
   "metadata": {},
   "outputs": [],
   "source": [
    "# Get feature vectors for each tile.\n",
    "\n",
    "feature_vectors = []\n",
    "center_lons = []\n",
    "center_lats = []\n",
    "\n",
    "for k, tile_fname in enumerate(tile_fnames):\n",
    "\n",
    "    if k % 50 == 0:\n",
    "        print('handling tile %d / %d' % (k, len(tile_fnames)))\n",
    "\n",
    "    try:\n",
    "        tile_key = tile_fname[-21:]\n",
    "        coords = tile_coord_lookup[tile_key]\n",
    "        center_lon = coords[0]\n",
    "        center_lat = coords[1]\n",
    "    except:\n",
    "        print('bad tile key: %s' % tile_key)\n",
    "        continue\n",
    "\n",
    "    # Read the tile data.\n",
    "    tile = geopandas.read_parquet(tile_fname)\n",
    "\n",
    "    # Make a label column that matches the format of the \"labels\" data frame.\n",
    "    tile['full_label'] = tile['category'] + ' : ' + tile['label']\n",
    "\n",
    "    # Get a tally of the coverage of each type of thing.\n",
    "    coverages = { z: 0.0 for z in labels['label'].values }\n",
    "    \n",
    "    for rec in tile.to_dict('records'):\n",
    "        if rec['gtype'] == 'Polygon':\n",
    "            numerator = rec['geometry'].area / 1000000.0\n",
    "        elif rec['gtype'] == 'LineString':\n",
    "            numerator = rec['geometry'].length / 1000.0\n",
    "        else:\n",
    "            numerator = 1.0\n",
    "    \n",
    "        label = rec['full_label']\n",
    "        coverages[label] += numerator\n",
    "\n",
    "    # Get a feature vector and add it to the list.\n",
    "    v = np.array([coverages[z] for z in sorted(labels['label'].values)])\n",
    "    feature_vectors.append(v)\n",
    "    center_lons.append(center_lon)\n",
    "    center_lats.append(center_lat)\n",
    "    "
   ]
  },
  {
   "cell_type": "code",
   "execution_count": null,
   "id": "22203599-1925-4664-a137-0aea20baa1dd",
   "metadata": {},
   "outputs": [],
   "source": [
    "features = np.vstack(feature_vectors)\n",
    "print('feature matrix shape', features.shape)"
   ]
  },
  {
   "cell_type": "code",
   "execution_count": null,
   "id": "0b2675dc-7e91-4595-8b37-8f0853880a3b",
   "metadata": {},
   "outputs": [],
   "source": [
    "# Normalize the rows and columns.\n",
    "m = features.mean(axis=0)\n",
    "s = features.std(axis=0)\n",
    "zzz = (features - m) / (s + 0.0001)"
   ]
  },
  {
   "cell_type": "markdown",
   "id": "1292682a-033d-4533-b3a9-3bd869b9f6dc",
   "metadata": {},
   "source": [
    "## TSNE plot of feature vectors"
   ]
  },
  {
   "cell_type": "code",
   "execution_count": null,
   "id": "e75b538e-d0ee-4d7c-a9ca-35f761f9786f",
   "metadata": {},
   "outputs": [],
   "source": [
    "# Make a TSNE plot of the scaled features\n",
    "from sklearn.manifold import TSNE\n",
    "tsne = TSNE()\n",
    "xy = tsne.fit_transform(zzz)"
   ]
  },
  {
   "cell_type": "markdown",
   "id": "4b7463b1-657b-4958-986a-70ad86aa1fa7",
   "metadata": {},
   "source": [
    "## Run a DBSCAN clustering on the feature vectors."
   ]
  },
  {
   "cell_type": "code",
   "execution_count": null,
   "id": "d3c2c580-99ad-414a-a527-398b953ff325",
   "metadata": {},
   "outputs": [],
   "source": [
    "from sklearn.cluster import KMeans\n",
    "model = KMeans(n_clusters=30)\n",
    "model.fit(feature_vectors)\n",
    "print('%d clusters' % len(set(model.labels_)))"
   ]
  },
  {
   "cell_type": "code",
   "execution_count": null,
   "id": "2cda0ff8-b0df-4b86-bd76-1e310d69da50",
   "metadata": {},
   "outputs": [],
   "source": [
    "import plotly\n",
    "from plotly.subplots import make_subplots\n",
    "from plotly.graph_objects import Scatter\n",
    "\n",
    "colors = [\n",
    "    \"#e41a1c\", \"#377eb8\", \"#4daf4a\", \"#984ea3\", \"#ff7f00\",\n",
    "    \"#ffff33\", \"#a65628\", \"#f781bf\", \"#999999\", \"#66c2a5\",\n",
    "    \"#fc8d62\", \"#8da0cb\", \"#e78ac3\", \"#a6d854\", \"#ffd92f\",\n",
    "    \"#e5c494\", \"#b3b3b3\", \"#1b9e77\", \"#d95f02\", \"#7570b3\",\n",
    "    \"#e7298a\", \"#66a61e\", \"#e6ab02\", \"#a6761d\", \"#666666\",\n",
    "    \"#8dd3c7\", \"#ffffb3\", \"#bebada\", \"#fb8072\", \"#80b1d3\",\n",
    "    \"#fdb462\", \"#b3de69\", \"#fccde5\", \"#d9d9d9\", \"#bc80bd\",\n",
    "    \"#ccebc5\", \"#ffed6f\", \"#a1dab4\", \"#41b6c4\", \"#2c7fb8\"\n",
    "]\n",
    "\n",
    "labels = model.labels_\n",
    "ulabels = set(labels)\n",
    "\n",
    "fig = make_subplots(rows=1, cols=1)\n",
    "for k, ulabel in enumerate(ulabels):\n",
    "    iok = labels == ulabel\n",
    "    tr = Scatter(x=xy[iok,0], y=xy[iok,1], mode='markers', \n",
    "                 marker={'color': colors[k%40]})\n",
    "    fig.append_trace(tr, 1, 1)\n",
    "        \n",
    "lo = fig['layout']\n",
    "lo['width'] = 800\n",
    "lo['height'] = 500\n",
    "fig\n"
   ]
  },
  {
   "cell_type": "markdown",
   "id": "c2f63a74-c8d9-4aad-b3d2-341b2d5bf7ae",
   "metadata": {},
   "source": [
    "## Make a map showing the locations of all elements of a cluster"
   ]
  },
  {
   "cell_type": "code",
   "execution_count": null,
   "id": "eba27851-9a63-4ad8-9fe1-f74678a54035",
   "metadata": {},
   "outputs": [],
   "source": [
    "import folium\n",
    "\n",
    "label = 3\n",
    "iok = labels == label\n",
    "coords = list(zip(np.array(center_lons)[iok], np.array(center_lats)[iok]))\n",
    "# coords = list(zip(np.array(center_lons), np.array(center_lats)))\n",
    "\n",
    "m = folium.Map(location=[coords[0][1], coords[0][0]], zoom_start=5)\n",
    "\n",
    "# Add solid circle markers for each coordinate\n",
    "for lon, lat in coords:\n",
    "    folium.CircleMarker(\n",
    "        location=[lat, lon],\n",
    "        radius=5,               # Small circle\n",
    "        color='black',          # Circle border color\n",
    "        fill=True,\n",
    "        fill_color='green',     # Solid fill color\n",
    "        fill_opacity=1.0        # Fully opaque\n",
    "    ).add_to(m)\n",
    "\n",
    "m\n"
   ]
  },
  {
   "cell_type": "code",
   "execution_count": null,
   "id": "80c8aa5c-04b9-477d-9d9e-171dd782a31a",
   "metadata": {},
   "outputs": [],
   "source": [
    "import matplotlib.pyplot as plt\n",
    "\n",
    "plt.figure(figsize=(10, 8))\n",
    "plt.imshow(zzz, cmap='viridis', aspect='auto')\n",
    "plt.colorbar(label='Value')\n",
    "plt.title('Basic Heatmap')\n",
    "plt.xlabel('X axis')\n",
    "plt.ylabel('Y axis')\n",
    "plt.show()\n"
   ]
  },
  {
   "cell_type": "code",
   "execution_count": null,
   "id": "0e908386-e0bd-4b80-a41c-be8a989deab3",
   "metadata": {},
   "outputs": [],
   "source": [
    "subarrays = []\n",
    "for i in range(10):\n",
    "    iok = labels == i\n",
    "    subarrays.append(zzz[iok, :])\n",
    "    subarrays.append(10 * np.ones((5, zzz.shape[1])))\n",
    "\n",
    "ooo = np.vstack(subarrays)\n",
    "ooo.shape"
   ]
  },
  {
   "cell_type": "code",
   "execution_count": null,
   "id": "209e7917-22d1-4569-b488-103c20c9ccdf",
   "metadata": {},
   "outputs": [],
   "source": [
    "import matplotlib.pyplot as plt\n",
    "\n",
    "plt.figure(figsize=(10, 8))\n",
    "plt.imshow(ooo, cmap='viridis', aspect='auto')\n",
    "plt.colorbar(label='Value')\n",
    "plt.title('Rows grouped by cluster')\n",
    "plt.xlabel('X axis')\n",
    "plt.ylabel('Y axis')\n",
    "plt.show()\n"
   ]
  },
  {
   "cell_type": "code",
   "execution_count": null,
   "id": "91cb39b6-4035-44b9-a85d-51b685819799",
   "metadata": {},
   "outputs": [],
   "source": []
  },
  {
   "cell_type": "code",
   "execution_count": null,
   "id": "be0eeeba-b7ce-4dd2-aeae-9d81857c42c5",
   "metadata": {},
   "outputs": [],
   "source": []
  }
 ],
 "metadata": {
  "kernelspec": {
   "display_name": "Python 3 (ipykernel)",
   "language": "python",
   "name": "python3"
  },
  "language_info": {
   "codemirror_mode": {
    "name": "ipython",
    "version": 3
   },
   "file_extension": ".py",
   "mimetype": "text/x-python",
   "name": "python",
   "nbconvert_exporter": "python",
   "pygments_lexer": "ipython3",
   "version": "3.12.4"
  }
 },
 "nbformat": 4,
 "nbformat_minor": 5
}
