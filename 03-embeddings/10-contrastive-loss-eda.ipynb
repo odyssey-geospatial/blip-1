{
 "cells": [
  {
   "cell_type": "markdown",
   "id": "0e114677-2149-40c3-950c-2851bcdf1233",
   "metadata": {},
   "source": [
    "# Towards a contrastive loss model for regional embeddings\n",
    "\n",
    "OK so we have a few sample tiles. \n",
    "For each, we have computed vector embeddings (under the \"embeddings\" folder),\n",
    "and we have a baseline methodology for computing similarity vectors for contrastive loss\n",
    "(in the EDA notebook in this folder). \n",
    "Here I'm looking into putting these pieces together. The goal is\n",
    "* compute the perm-equivariant transformation using the trained MGM model,\n",
    "* Train an aggregator model using contrastive loss\n",
    "The aggregator will use a layer that computes the weighted sum of the elements in its input set.\n"
   ]
  }
 ],
 "metadata": {
  "kernelspec": {
   "display_name": "Python 3 (ipykernel)",
   "language": "python",
   "name": "python3"
  },
  "language_info": {
   "codemirror_mode": {
    "name": "ipython",
    "version": 3
   },
   "file_extension": ".py",
   "mimetype": "text/x-python",
   "name": "python",
   "nbconvert_exporter": "python",
   "pygments_lexer": "ipython3",
   "version": "3.12.4"
  }
 },
 "nbformat": 4,
 "nbformat_minor": 5
}
