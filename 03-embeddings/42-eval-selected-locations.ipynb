{
 "cells": [
  {
   "cell_type": "markdown",
   "id": "3e2daeab-4b8b-411b-84cc-dd88286bf67b",
   "metadata": {
    "id": "3e2daeab-4b8b-411b-84cc-dd88286bf67b"
   },
   "source": [
    "# Apply the trained embedding model to selected locations\n",
    "\n",
    "The real purpose of this notebook is to develop and end-to-end process\n",
    "to pull geo data, get MPP encodings, and then apply the initial and\n",
    "final embedding models."
   ]
  },
  {
   "cell_type": "markdown",
   "id": "9fdc7f7f-2399-4755-b7db-052b0132479a",
   "metadata": {
    "id": "9fdc7f7f-2399-4755-b7db-052b0132479a"
   },
   "source": [
    "## Processing Setup"
   ]
  },
  {
   "cell_type": "code",
   "execution_count": null,
   "id": "5856a24c-41a8-45fe-b254-8e4c31b330d9",
   "metadata": {
    "colab": {
     "base_uri": "https://localhost:8080/"
    },
    "executionInfo": {
     "elapsed": 7979,
     "status": "ok",
     "timestamp": 1755262692261,
     "user": {
      "displayName": "John Collins",
      "userId": "16643596247369517939"
     },
     "user_tz": 240
    },
    "id": "5856a24c-41a8-45fe-b254-8e4c31b330d9",
    "outputId": "0c2b7fbe-aa2b-455e-9d22-ae95b6e53c8b"
   },
   "outputs": [],
   "source": [
    "# Google colab\n",
    "# import os\n",
    "# from google.colab import drive\n",
    "# drive.mount('/content/drive')\n",
    "# project_home = '/content/drive/MyDrive/Projects/verge'\n",
    "# os.chdir(project_home)\n",
    "# !pip install geo_encodings"
   ]
  },
  {
   "cell_type": "code",
   "execution_count": 1,
   "id": "96eefe45-43a4-4665-8b29-484e2b32ae66",
   "metadata": {
    "id": "96eefe45-43a4-4665-8b29-484e2b32ae66"
   },
   "outputs": [],
   "source": [
    "# Local processing setup\n",
    "project_home = '..'"
   ]
  },
  {
   "cell_type": "markdown",
   "id": "928178a0-d593-4266-a683-5f9c5e3830ba",
   "metadata": {
    "id": "928178a0-d593-4266-a683-5f9c5e3830ba"
   },
   "source": [
    "## Notebook Setup"
   ]
  },
  {
   "cell_type": "code",
   "execution_count": 2,
   "id": "45908146-a047-477f-9f71-a417b5bc1c0e",
   "metadata": {
    "executionInfo": {
     "elapsed": 10,
     "status": "ok",
     "timestamp": 1755262605210,
     "user": {
      "displayName": "John Collins",
      "userId": "16643596247369517939"
     },
     "user_tz": 240
    },
    "id": "45908146-a047-477f-9f71-a417b5bc1c0e"
   },
   "outputs": [],
   "source": [
    "import torch\n",
    "import torch.nn as nn\n",
    "import torch.nn.functional as F\n",
    "import torch.optim as optim\n",
    "from torch.utils.data import DataLoader, Dataset\n",
    "from typing import List, Tuple, Optional\n",
    "\n",
    "import pickle\n",
    "import json\n",
    "import copy\n",
    "import pandas as pd\n",
    "import numpy as np\n",
    "import pyproj\n",
    "import shapely\n",
    "import osmnx\n",
    "import geopandas\n",
    "\n",
    "import sys\n",
    "sys.path.append('%s/03-embeddings' % project_home)\n",
    "from embedderv5 import *\n",
    "\n",
    "sys.path.append(project_home)\n",
    "from utils.verge import rules\n"
   ]
  },
  {
   "cell_type": "markdown",
   "id": "48aa408e-db4c-4f59-8a22-993ee4ec5a85",
   "metadata": {
    "id": "48aa408e-db4c-4f59-8a22-993ee4ec5a85"
   },
   "source": [
    "## Parameters"
   ]
  },
  {
   "cell_type": "code",
   "execution_count": 3,
   "id": "6886ae2e-4c09-4a9d-8104-5fd506c75ad8",
   "metadata": {
    "executionInfo": {
     "elapsed": 6,
     "status": "ok",
     "timestamp": 1755262578859,
     "user": {
      "displayName": "John Collins",
      "userId": "16643596247369517939"
     },
     "user_tz": 240
    },
    "id": "6886ae2e-4c09-4a9d-8104-5fd506c75ad8"
   },
   "outputs": [],
   "source": [
    "# The name of the ROI to use.\n",
    "roi_name = 'ne-dev'\n",
    "\n",
    "# The name of the general-purpose data directory.\n",
    "data_home = '%s/data' % (project_home)\n",
    "\n",
    "# The name of the ROI-specific data directory.\n",
    "roi_home = '%s/data/%s' % (project_home, roi_name)\n",
    "\n",
    "# The unique identifier of the model to be used.\n",
    "run_id = '201b'"
   ]
  },
  {
   "cell_type": "markdown",
   "id": "6WbnmtGQy6dt",
   "metadata": {
    "id": "6WbnmtGQy6dt"
   },
   "source": [
    "## Preliminaries"
   ]
  },
  {
   "cell_type": "code",
   "execution_count": 4,
   "id": "7PWm1IxGy5YD",
   "metadata": {
    "colab": {
     "base_uri": "https://localhost:8080/"
    },
    "executionInfo": {
     "elapsed": 613,
     "status": "ok",
     "timestamp": 1755262609664,
     "user": {
      "displayName": "John Collins",
      "userId": "16643596247369517939"
     },
     "user_tz": 240
    },
    "id": "7PWm1IxGy5YD",
    "outputId": "d1840ef4-db12-46f7-f408-a758664f10c8"
   },
   "outputs": [
    {
     "data": {
      "text/plain": [
       "{'name': 'ne-dev',\n",
       " 'lon0': -73.564321,\n",
       " 'lat0': 41.253746,\n",
       " 'lon1': -68.058533,\n",
       " 'lat1': 45.116468,\n",
       " 'proj_def': '\\n+proj=tmerc +lat_0=43.185107 +lon_0=-70.81142700000001\\n+k=1.0 +x_0=231000.0 +y_0=211000.0 +datum=WGS84 +units=m +no_defs\\n',\n",
       " 'tile_size': 2000,\n",
       " 'tile_shift': 1000,\n",
       " 'encoding_resolution': 100}"
      ]
     },
     "execution_count": 4,
     "metadata": {},
     "output_type": "execute_result"
    }
   ],
   "source": [
    "# Read the ROI definition.\n",
    "fname = '%s/roi.json' % roi_home\n",
    "with open(fname) as source:\n",
    "    roi = json.load(source)\n",
    "\n",
    "tile_size = roi['tile_size']\n",
    "encoding_resolution = roi['encoding_resolution']\n",
    "\n",
    "roi"
   ]
  },
  {
   "cell_type": "code",
   "execution_count": 22,
   "id": "01be9101-802b-4c1d-8191-d3a666ffbf83",
   "metadata": {},
   "outputs": [
    {
     "data": {
      "text/plain": [
       "{'amenity : commercial': 0,\n",
       " 'amenity : food and drink': 1,\n",
       " 'amenity : parking lot': 2,\n",
       " 'amenity : recreation': 3,\n",
       " 'landuse : agricultural': 4,\n",
       " 'landuse : commercial': 5,\n",
       " 'landuse : forest': 6,\n",
       " 'landuse : industrial': 7,\n",
       " 'landuse : meadow': 8,\n",
       " 'landuse : recreation': 9,\n",
       " 'landuse : residential': 10,\n",
       " 'landuse : retail': 11,\n",
       " 'railway : rail': 12,\n",
       " 'railway : rail stop': 13,\n",
       " 'route : highway': 14,\n",
       " 'route : primary road': 15,\n",
       " 'route : residential road': 16,\n",
       " 'route : secondary road': 17,\n",
       " 'route : tertiary road': 18,\n",
       " 'waterway : lakes and ponds': 19,\n",
       " 'waterway : land': 20,\n",
       " 'waterway : rivers and streams': 21}"
      ]
     },
     "execution_count": 22,
     "metadata": {},
     "output_type": "execute_result"
    }
   ],
   "source": [
    "# Read the file containing labels.\n",
    "fname = '%s/labels.csv' % data_home\n",
    "labels = pd.read_csv(fname)\n",
    "\n",
    "# Make a lookup tbale to get a numberical label from a text label.\n",
    "label_lookup = {\n",
    "    z['label']: z['id']\n",
    "    for z in labels.to_dict('records')\n",
    "}\n",
    "label_count = len(label_lookup)\n",
    "label_lookup"
   ]
  },
  {
   "cell_type": "code",
   "execution_count": 5,
   "id": "08288cec-bbfb-4170-81ff-e54a3464b94e",
   "metadata": {},
   "outputs": [],
   "source": [
    "# Define a local map projection, using the definition from the ROI file.\n",
    "def get_projections(proj_def):\n",
    "    ltm_crs = pyproj.CRS.from_proj4(proj_def)\n",
    "    wgs84_crs = pyproj.CRS.from_epsg(4326)\n",
    "    proj_forward = pyproj.Transformer.from_crs(wgs84_crs, ltm_crs, always_xy=True).transform\n",
    "    proj_inverse = pyproj.Transformer.from_crs(ltm_crs, wgs84_crs, always_xy=True).transform\n",
    "    return proj_forward, proj_inverse\n",
    "\n",
    "proj_forward, proj_inverse = get_projections(roi['proj_def'])"
   ]
  },
  {
   "cell_type": "code",
   "execution_count": 6,
   "id": "91d1ca56-35e4-47f3-9a0f-eb2cf8563f8a",
   "metadata": {},
   "outputs": [
    {
     "name": "stdout",
     "output_type": "stream",
     "text": [
      "3514 coastline polygons\n"
     ]
    }
   ],
   "source": [
    "# Read the coastline file.\n",
    "fname = '%s/coastlines' % (roi_home)\n",
    "coastlines_gdf = geopandas.read_file(fname)\n",
    "print('%d coastline polygons' % len(coastlines_gdf))\n",
    "\n",
    "def get_land_water(bounds, features):\n",
    "\n",
    "    # Create a baseline polygon consisting of the whole AOI.\n",
    "    landwater = copy.deepcopy(bounds)\n",
    "\n",
    "    # Intersect that with the coastlines data.\n",
    "    coastlines = shapely.union_all(coastlines_gdf['geometry'].values)\n",
    "    landwater = landwater.intersection(coastlines)\n",
    "\n",
    "    # subtract out any polygonal water feature.\n",
    "    for _, f in features.iterrows():\n",
    "        if f['geometry'].geom_type in ['Polygon', 'MultiPolygon']:\n",
    "            if f['natural'] == 'water':\n",
    "                landwater = shapely.difference(landwater, f['geometry'])\n",
    "\n",
    "    return landwater"
   ]
  },
  {
   "cell_type": "markdown",
   "id": "13ffc010-4ee2-43ad-b82f-0bfb063c0de7",
   "metadata": {
    "id": "13ffc010-4ee2-43ad-b82f-0bfb063c0de7"
   },
   "source": [
    "## Processing\n"
   ]
  },
  {
   "cell_type": "markdown",
   "id": "0904cb62-4f01-47ee-a198-3423106d5987",
   "metadata": {},
   "source": [
    "### Set a tile center location"
   ]
  },
  {
   "cell_type": "code",
   "execution_count": 7,
   "id": "DpWSFGxIz9Vn",
   "metadata": {
    "executionInfo": {
     "elapsed": 3,
     "status": "ok",
     "timestamp": 1755262753489,
     "user": {
      "displayName": "John Collins",
      "userId": "16643596247369517939"
     },
     "user_tz": 240
    },
    "id": "DpWSFGxIz9Vn"
   },
   "outputs": [],
   "source": [
    "center_lat, center_lon = 43.000659, -70.921196 # Stratham Subaru"
   ]
  },
  {
   "cell_type": "markdown",
   "id": "03004f1f-80b0-4a86-ad5a-e0de47fb4de3",
   "metadata": {},
   "source": [
    "### Pull OSM data for the area around this location"
   ]
  },
  {
   "cell_type": "code",
   "execution_count": 8,
   "id": "X1tjsEFMz9NS",
   "metadata": {
    "id": "X1tjsEFMz9NS"
   },
   "outputs": [
    {
     "name": "stdout",
     "output_type": "stream",
     "text": [
      "[-70.93589085254257, 42.98984217038265, -70.90649599145738, 43.011473927536166]\n"
     ]
    }
   ],
   "source": [
    "# Get bounds for which to query OSM features.\n",
    "buffer = roi['tile_size'] / 2 + 200\n",
    "center_x, center_y = proj_forward(center_lon, center_lat)\n",
    "x0, y0 = center_x - buffer, center_y - buffer\n",
    "x1, y1 = center_x + buffer, center_y + buffer\n",
    "lon0, lat0 = proj_inverse(x0, y0)\n",
    "lon1, lat1 = proj_inverse(x1, y1)\n",
    "query_bounds = [lon0, lat0, lon1, lat1]\n",
    "print(query_bounds)\n"
   ]
  },
  {
   "cell_type": "code",
   "execution_count": 10,
   "id": "7c64b91a-13c7-40c9-b7b0-c579109edfc9",
   "metadata": {},
   "outputs": [
    {
     "name": "stdout",
     "output_type": "stream",
     "text": [
      "1823 features from OSM\n"
     ]
    }
   ],
   "source": [
    "# Query for all relevant geospatial entities we need within the bounding box.\n",
    "import osmnx\n",
    "tags = {\n",
    "    'landuse': True,\n",
    "    'place': True,\n",
    "    'highway': True,\n",
    "    'railway': True,\n",
    "    #'aeroway': True,\n",
    "    'bridge': True,\n",
    "    'tunnel': True,\n",
    "    #'power': True,\n",
    "    'natural': True,\n",
    "    'waterway': True,\n",
    "    'landcover': True,\n",
    "    #'building': True,\n",
    "    'amenity': True,\n",
    "    'shop': True,\n",
    "    'leisure': True\n",
    "}\n",
    "features = osmnx.features.features_from_bbox(query_bounds, tags=tags).reset_index()\n",
    "print('%d features from OSM' % len(features))\n"
   ]
  },
  {
   "cell_type": "code",
   "execution_count": 11,
   "id": "bac1ca68-fb85-4aa8-8840-5e8918788052",
   "metadata": {},
   "outputs": [
    {
     "data": {
      "text/html": [
       "<div>\n",
       "<style scoped>\n",
       "    .dataframe tbody tr th:only-of-type {\n",
       "        vertical-align: middle;\n",
       "    }\n",
       "\n",
       "    .dataframe tbody tr th {\n",
       "        vertical-align: top;\n",
       "    }\n",
       "\n",
       "    .dataframe thead th {\n",
       "        text-align: right;\n",
       "    }\n",
       "</style>\n",
       "<table border=\"1\" class=\"dataframe\">\n",
       "  <thead>\n",
       "    <tr style=\"text-align: right;\">\n",
       "      <th></th>\n",
       "      <th>geometry</th>\n",
       "      <th>amenity</th>\n",
       "      <th>waterway</th>\n",
       "      <th>water</th>\n",
       "      <th>highway</th>\n",
       "      <th>natural</th>\n",
       "      <th>landuse</th>\n",
       "    </tr>\n",
       "  </thead>\n",
       "  <tbody>\n",
       "    <tr>\n",
       "      <th>0</th>\n",
       "      <td>POINT (-70.92247 42.99919)</td>\n",
       "      <td>NaN</td>\n",
       "      <td>NaN</td>\n",
       "      <td>NaN</td>\n",
       "      <td>traffic_signals</td>\n",
       "      <td>NaN</td>\n",
       "      <td>NaN</td>\n",
       "    </tr>\n",
       "    <tr>\n",
       "      <th>1</th>\n",
       "      <td>POINT (-70.93157 42.99691)</td>\n",
       "      <td>NaN</td>\n",
       "      <td>NaN</td>\n",
       "      <td>NaN</td>\n",
       "      <td>motorway_junction</td>\n",
       "      <td>NaN</td>\n",
       "      <td>NaN</td>\n",
       "    </tr>\n",
       "    <tr>\n",
       "      <th>2</th>\n",
       "      <td>POINT (-70.92713 42.99249)</td>\n",
       "      <td>NaN</td>\n",
       "      <td>NaN</td>\n",
       "      <td>NaN</td>\n",
       "      <td>traffic_signals</td>\n",
       "      <td>NaN</td>\n",
       "      <td>NaN</td>\n",
       "    </tr>\n",
       "  </tbody>\n",
       "</table>\n",
       "</div>"
      ],
      "text/plain": [
       "                     geometry amenity waterway water            highway  \\\n",
       "0  POINT (-70.92247 42.99919)     NaN      NaN   NaN    traffic_signals   \n",
       "1  POINT (-70.93157 42.99691)     NaN      NaN   NaN  motorway_junction   \n",
       "2  POINT (-70.92713 42.99249)     NaN      NaN   NaN    traffic_signals   \n",
       "\n",
       "  natural landuse  \n",
       "0     NaN     NaN  \n",
       "1     NaN     NaN  \n",
       "2     NaN     NaN  "
      ]
     },
     "execution_count": 11,
     "metadata": {},
     "output_type": "execute_result"
    }
   ],
   "source": [
    "# Just retain the relevant columns.\n",
    "columns_in_rules = set(['geometry', 'amenity', 'highway', 'landuse', 'railway', 'water', 'waterway', 'natural'])\n",
    "columns_in_features = set(features.columns)\n",
    "columns_to_keep = list(columns_in_rules.intersection(columns_in_features))\n",
    "features = features[columns_to_keep]\n",
    "features.head(3)"
   ]
  },
  {
   "cell_type": "markdown",
   "id": "39ea9c28-d608-4990-a28b-be34f30564bc",
   "metadata": {
    "id": "CzqNVDOTz9DH"
   },
   "source": [
    "### Re-organize geo info for this tile"
   ]
  },
  {
   "cell_type": "code",
   "execution_count": 12,
   "id": "ca22aed1-1f97-45d6-9d90-5bba50e087ba",
   "metadata": {},
   "outputs": [
    {
     "name": "stdout",
     "output_type": "stream",
     "text": [
      "300 features selected\n"
     ]
    }
   ],
   "source": [
    "# Down-select and re-format any relevant geospatial entities (\"gents\").\n",
    "gents = []\n",
    "for feature in features.to_dict('records'):\n",
    "\n",
    "    geomxy = shapely.ops.transform(proj_forward, feature['geometry'])\n",
    "    if geomxy.is_empty:\n",
    "        continue\n",
    "    gtype = geomxy.geom_type\n",
    "\n",
    "    for rule in rules:\n",
    "        if gtype == rule['gtype']:\n",
    "            osm_key = rule['osm_key']\n",
    "            if osm_key in feature:\n",
    "                osm_value = str(feature[osm_key])\n",
    "                if osm_value in rule['osm_values']:\n",
    "                    gents.append({\n",
    "                        'feature': feature,\n",
    "                        'category': rule['gent_category'],\n",
    "                        'label': rule['gent_label'],\n",
    "                        'geomxy': geomxy,\n",
    "                        'gtype': gtype\n",
    "                    })\n",
    "print('%d features selected' % len(gents))\n"
   ]
  },
  {
   "cell_type": "code",
   "execution_count": 13,
   "id": "15d99b53-19b5-4dc6-849d-ad1cf33386cb",
   "metadata": {},
   "outputs": [],
   "source": [
    "# Create a \"land/water\" polygon.\n",
    "lons = [lon0, lon1, lon1, lon0, lon0]\n",
    "lats = [lat0, lat0, lat1, lat1, lat0]\n",
    "lonlat_bounds = shapely.Polygon(list(zip(lons, lats)))\n",
    "landwater = get_land_water(lonlat_bounds, features)\n",
    "landwaterxy = shapely.ops.transform(proj_forward, landwater)\n",
    "gents.append({\n",
    "    'category': 'waterway',\n",
    "    'label': 'land',\n",
    "    'geomxy': landwaterxy,\n",
    "    'gtype': landwaterxy.geom_type\n",
    "})\n"
   ]
  },
  {
   "cell_type": "code",
   "execution_count": 14,
   "id": "741503cf-7180-444f-8e68-201a4b874889",
   "metadata": {},
   "outputs": [],
   "source": [
    "# Get the bounds for this tile in projected coordinates.\n",
    "buffer = roi['tile_size'] / 2\n",
    "center_x, center_y = proj_forward(center_lon, center_lat)\n",
    "x0, y0 = center_x - buffer, center_y - buffer\n",
    "x1, y1 = center_x + buffer, center_y + buffer\n",
    "xx = [x0, x1, x1, x0, x0]\n",
    "yy = [y0, y0, y1, y1, y0]\n",
    "tile_bbox = shapely.Polygon(list(zip(xx, yy)))"
   ]
  },
  {
   "cell_type": "code",
   "execution_count": 15,
   "id": "836c8241-480b-425c-aa50-9a7039b57ffa",
   "metadata": {},
   "outputs": [
    {
     "name": "stdout",
     "output_type": "stream",
     "text": [
      "219 geospatial entities\n"
     ]
    },
    {
     "data": {
      "text/html": [
       "<div>\n",
       "<style scoped>\n",
       "    .dataframe tbody tr th:only-of-type {\n",
       "        vertical-align: middle;\n",
       "    }\n",
       "\n",
       "    .dataframe tbody tr th {\n",
       "        vertical-align: top;\n",
       "    }\n",
       "\n",
       "    .dataframe thead th {\n",
       "        text-align: right;\n",
       "    }\n",
       "</style>\n",
       "<table border=\"1\" class=\"dataframe\">\n",
       "  <thead>\n",
       "    <tr style=\"text-align: right;\">\n",
       "      <th></th>\n",
       "      <th>category</th>\n",
       "      <th>label</th>\n",
       "      <th>geometry</th>\n",
       "      <th>gtype</th>\n",
       "      <th>xoff</th>\n",
       "      <th>yoff</th>\n",
       "    </tr>\n",
       "  </thead>\n",
       "  <tbody>\n",
       "    <tr>\n",
       "      <th>0</th>\n",
       "      <td>amenity</td>\n",
       "      <td>commercial</td>\n",
       "      <td>POINT (418.4354396635317 1.3595715957635548)</td>\n",
       "      <td>Point</td>\n",
       "      <td>221049.424774</td>\n",
       "      <td>189514.680608</td>\n",
       "    </tr>\n",
       "    <tr>\n",
       "      <th>1</th>\n",
       "      <td>amenity</td>\n",
       "      <td>commercial</td>\n",
       "      <td>POINT (1194.7591855522187 1242.6530638959666)</td>\n",
       "      <td>Point</td>\n",
       "      <td>221049.424774</td>\n",
       "      <td>189514.680608</td>\n",
       "    </tr>\n",
       "    <tr>\n",
       "      <th>2</th>\n",
       "      <td>amenity</td>\n",
       "      <td>commercial</td>\n",
       "      <td>POINT (671.1252223148767 236.52948677458335)</td>\n",
       "      <td>Point</td>\n",
       "      <td>221049.424774</td>\n",
       "      <td>189514.680608</td>\n",
       "    </tr>\n",
       "  </tbody>\n",
       "</table>\n",
       "</div>"
      ],
      "text/plain": [
       "  category       label                                       geometry  gtype  \\\n",
       "0  amenity  commercial   POINT (418.4354396635317 1.3595715957635548)  Point   \n",
       "1  amenity  commercial  POINT (1194.7591855522187 1242.6530638959666)  Point   \n",
       "2  amenity  commercial   POINT (671.1252223148767 236.52948677458335)  Point   \n",
       "\n",
       "            xoff           yoff  \n",
       "0  221049.424774  189514.680608  \n",
       "1  221049.424774  189514.680608  \n",
       "2  221049.424774  189514.680608  "
      ]
     },
     "execution_count": 15,
     "metadata": {},
     "output_type": "execute_result"
    }
   ],
   "source": [
    "# Re-project all geospatial entities and clip them to the bounds of this tile.\n",
    "tile_gents = []\n",
    "for gent in gents:\n",
    "    geomxy = shapely.affinity.translate(\n",
    "        gent['geomxy'].intersection(tile_bbox),\n",
    "        xoff=-x0, yoff=-y0\n",
    "    )\n",
    "    if geomxy.is_empty:\n",
    "        continue\n",
    "    tile_gents.append({\n",
    "        'category': gent['category'],\n",
    "        'label': gent['label'],\n",
    "        'geometry': geomxy,\n",
    "        'gtype': gent['gtype'],\n",
    "        'xoff': x0,\n",
    "        'yoff': y0,\n",
    "    })\n",
    "print('%d geospatial entities' % len(tile_gents))\n",
    "pd.DataFrame(tile_gents).head(3)"
   ]
  },
  {
   "cell_type": "markdown",
   "id": "2ec68ef6-4d63-4ecd-beba-c55eef51edb9",
   "metadata": {},
   "source": [
    "### Apply MPP encoding to all entities in this tile"
   ]
  },
  {
   "cell_type": "code",
   "execution_count": 16,
   "id": "18145826-2e10-4ea7-9961-82bc7a833940",
   "metadata": {},
   "outputs": [
    {
     "name": "stdout",
     "output_type": "stream",
     "text": [
      "400 elements in encodings\n"
     ]
    }
   ],
   "source": [
    "# Define an encoder to use.\n",
    "from geo_encodings import MPPEncoder\n",
    "encoder = MPPEncoder(\n",
    "    region=[0, 0, tile_size, tile_size],\n",
    "    resolution=encoding_resolution,\n",
    "    center=True\n",
    ")\n",
    "geo_encoding_dim = len(encoder)\n",
    "print('%d elements in encodings' % geo_encoding_dim)\n"
   ]
  },
  {
   "cell_type": "code",
   "execution_count": 17,
   "id": "f3fba8c5-262d-450a-b83d-1bc06e7afe35",
   "metadata": {},
   "outputs": [],
   "source": [
    "# Apply encodings.\n",
    "for gent in tile_gents:\n",
    "    gent['encoding'] = encoder.encode(gent['geometry']).values()\n"
   ]
  },
  {
   "cell_type": "markdown",
   "id": "f5d23843-6bac-40d7-95d4-191641b05ed4",
   "metadata": {},
   "source": [
    "### Get one-hot label vectors for each entity"
   ]
  },
  {
   "cell_type": "code",
   "execution_count": 29,
   "id": "1bb645e3-6c09-4cb6-b8a7-43c52c3f10b0",
   "metadata": {},
   "outputs": [],
   "source": [
    "# We will also need the one-hot label vectors for each entity.\n",
    "for gent in tile_gents:\n",
    "    label_name = '%s : %s' % (gent['category'], gent['label'])\n",
    "    label_id = label_lookup[label_name]\n",
    "    label_onehot = np.full(label_count, 0, dtype=float)\n",
    "    label_onehot[label_id] = 1\n",
    "    gent['onehot'] = label_onehot\n",
    "                            \n"
   ]
  },
  {
   "cell_type": "code",
   "execution_count": 36,
   "id": "65b15d1f-5573-4156-bd12-8e8cb07232d8",
   "metadata": {},
   "outputs": [
    {
     "name": "stdout",
     "output_type": "stream",
     "text": [
      "(219, 400)\n",
      "(219, 22)\n",
      "(219, 422)\n"
     ]
    }
   ],
   "source": [
    "# Display that encoding as a heat map.\n",
    "mpps = np.vstack([z['encoding'] for z in tile_gents])\n",
    "print(mpps.shape)\n",
    "onehots = np.vstack([z['onehot'] for z in tile_gents])\n",
    "print(onehots.shape)\n",
    "\n",
    "tile_encoding = np.hstack([onehots, mpps])\n",
    "print(tile_encoding.shape)"
   ]
  },
  {
   "cell_type": "code",
   "execution_count": 41,
   "id": "c3bd8214-7f46-47fc-888e-18e80b208c25",
   "metadata": {},
   "outputs": [
    {
     "data": {
      "image/png": "[encoded data removed]",
      "text/plain": [
       "<Figure size 640x480 with 2 Axes>"
      ]
     },
     "metadata": {},
     "output_type": "display_data"
    }
   ],
   "source": [
    "import numpy as np\n",
    "import matplotlib.pyplot as plt\n",
    "\n",
    "data = tile_encoding\n",
    "\n",
    "plt.imshow(data, cmap='viridis', aspect='equal')  # 'viridis' is a good default colormap\n",
    "plt.colorbar(label=\"Value\")  # add a color scale bar\n",
    "plt.title(\"Full Encoding For Tile\")\n",
    "plt.xlabel(\"Encoding Index\")\n",
    "plt.ylabel(\"Entity Number\")\n",
    "plt.show()\n"
   ]
  },
  {
   "cell_type": "markdown",
   "id": "f4823385-1733-4305-8630-48f50247d8b9",
   "metadata": {},
   "source": [
    "### Initial embedding for this tile"
   ]
  },
  {
   "cell_type": "code",
   "execution_count": null,
   "id": "56d5f185-be86-492c-81d2-0fdaac23ab36",
   "metadata": {},
   "outputs": [],
   "source": [
    "# Get initial embedding for this tile."
   ]
  },
  {
   "cell_type": "code",
   "execution_count": null,
   "id": "b4d3fb19-8258-4d77-a70b-22020b1abfe7",
   "metadata": {},
   "outputs": [],
   "source": [
    "# Get final embedding for this tile."
   ]
  },
  {
   "cell_type": "code",
   "execution_count": null,
   "id": "7d1jVi51VRy_",
   "metadata": {
    "id": "7d1jVi51VRy_"
   },
   "outputs": [],
   "source": []
  }
 ],
 "metadata": {
  "colab": {
   "provenance": []
  },
  "kernelspec": {
   "display_name": "Python 3 (ipykernel)",
   "language": "python",
   "name": "python3"
  },
  "language_info": {
   "codemirror_mode": {
    "name": "ipython",
    "version": 3
   },
   "file_extension": ".py",
   "mimetype": "text/x-python",
   "name": "python",
   "nbconvert_exporter": "python",
   "pygments_lexer": "ipython3",
   "version": "3.12.4"
  }
 },
 "nbformat": 4,
 "nbformat_minor": 5
}
