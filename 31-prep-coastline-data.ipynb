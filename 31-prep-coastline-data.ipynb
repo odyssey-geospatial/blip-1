{
 "cells": [
  {
   "cell_type": "markdown",
   "id": "8442774e-1761-467d-88f3-60d178ebb536",
   "metadata": {},
   "source": [
    "### VERGE: Vector-mode Regional Geospatial Embedding\n",
    "\n",
    "# Prepare coastline data for the region we are handling\n",
    "\n",
    "For the VERGE effort,\n",
    "one thing we want to know is the overall \"land/water\" polygon for a given tile. \n",
    "But OSM makes it a bit tricky to get that. Part of the problem is that \n",
    "world-wide coastlines are not included in OSM. \n",
    "Instead, we have to use a separately available\n",
    "shapefile that gives that information. But since it's global it's unweildy.\n",
    "So in this notebook we pull out the parts that are relevant for \n",
    "our study region. \n"
   ]
  },
  {
   "cell_type": "code",
   "execution_count": null,
   "id": "623ab84b-5f12-4bef-8d6c-84cbae3986c5",
   "metadata": {},
   "outputs": [],
   "source": [
    "import geopandas\n",
    "from rtree import index\n",
    "import folium"
   ]
  },
  {
   "cell_type": "code",
   "execution_count": null,
   "id": "2169254a-2115-41ed-88b0-a12a6f0fe8e9",
   "metadata": {},
   "outputs": [],
   "source": [
    "# Define our region of interest.\n",
    "\n",
    "# New Hampshire and Vermont\n",
    "lat0, lon0 = 42.670095, -73.419252\n",
    "lat1, lon1 = 45.386662, -70.897890\n"
   ]
  },
  {
   "cell_type": "code",
   "execution_count": null,
   "id": "ae9c3887-175b-483f-a3a3-23b21072e211",
   "metadata": {},
   "outputs": [],
   "source": [
    "# Read the big file containing world-wide land/water areas.\n",
    "fname = 'data/land-polygons-split-4326/land_polygons.shp'\n",
    "global_gdf = geopandas.read_file(fname)\n",
    "print('%d polygons globally' % len(global_gdf))"
   ]
  },
  {
   "cell_type": "code",
   "execution_count": null,
   "id": "b7f74c3e-4948-471f-9470-9a4f221bf38d",
   "metadata": {},
   "outputs": [],
   "source": [
    "# Put all of those into a spatial index.\n",
    "spatial_index = index.Index()\n",
    "\n",
    "for idx, geom in enumerate(global_gdf.geometry):\n",
    "    if geom is not None:\n",
    "        spatial_index.insert(idx, geom.bounds)  # bounds = (minx, miny, maxx, maxy)\n"
   ]
  },
  {
   "cell_type": "code",
   "execution_count": null,
   "id": "ac97b41f-7348-461c-9d00-e987d5235eaf",
   "metadata": {},
   "outputs": [],
   "source": [
    "# Get the polygons covering our region.\n",
    "query_bounds = (lon0, lat0, lon1, lat1)\n",
    "matches = list(spatial_index.intersection(query_bounds))\n",
    "regional_gdf = global_gdf.iloc[matches]\n",
    "print('%d land/water polygons in our region' % len(regional_gdf))\n"
   ]
  },
  {
   "cell_type": "code",
   "execution_count": null,
   "id": "e9268632-9453-4670-acea-62eb69d41fd0",
   "metadata": {},
   "outputs": [],
   "source": [
    "# See what we got.\n",
    "center_lon = (lon0 + lon1) / 2.0\n",
    "center_lat = (lat0 + lat1) / 2.0\n",
    "\n",
    "map_center = [center_lat, center_lon]\n",
    "m = folium.Map(location=map_center, zoom_start=7)\n",
    "for _, row in regional_gdf.iterrows():\n",
    "    if row['geometry'].geom_type in ['Polygon', 'MultiPolygon']:\n",
    "        geo_json = folium.GeoJson(row.geometry)\n",
    "        geo_json.add_to(m)\n",
    "m\n"
   ]
  },
  {
   "cell_type": "code",
   "execution_count": null,
   "id": "a8fe61ae-a210-4f39-a50e-bb51d633ddd0",
   "metadata": {},
   "outputs": [],
   "source": [
    "# Save it.\n",
    "fname = 'data/coastlines'\n",
    "regional_gdf.to_file(fname, driver=\"ESRI Shapefile\")"
   ]
  },
  {
   "cell_type": "code",
   "execution_count": null,
   "id": "92483e64-7950-4805-8018-e9efa9ecbc56",
   "metadata": {},
   "outputs": [],
   "source": []
  }
 ],
 "metadata": {
  "kernelspec": {
   "display_name": "Python 3 (ipykernel)",
   "language": "python",
   "name": "python3"
  },
  "language_info": {
   "codemirror_mode": {
    "name": "ipython",
    "version": 3
   },
   "file_extension": ".py",
   "mimetype": "text/x-python",
   "name": "python",
   "nbconvert_exporter": "python",
   "pygments_lexer": "ipython3",
   "version": "3.12.4"
  }
 },
 "nbformat": 4,
 "nbformat_minor": 5
}
