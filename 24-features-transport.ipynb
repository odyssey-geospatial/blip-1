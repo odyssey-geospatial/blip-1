{
 "cells": [
  {
   "cell_type": "markdown",
   "id": "6016c820-db3c-4fa7-96c2-bf1de6ee5f5b",
   "metadata": {},
   "source": [
    "# EDA on map feature types\n",
    "\n",
    "Various transport-related features"
   ]
  },
  {
   "cell_type": "code",
   "execution_count": null,
   "id": "0d5e1af2-e0d9-4052-8a27-a50b6e266c26",
   "metadata": {},
   "outputs": [],
   "source": [
    "import numpy as np\n",
    "import pandas as pd\n",
    "import pyproj\n",
    "import shapely\n",
    "import osmnx\n",
    "\n",
    "import plotly\n",
    "from plotly.subplots import make_subplots\n",
    "from plotly.graph_objects import Scatter\n",
    "\n",
    "from geo_encodings import draw_shape\n",
    "\n",
    "import polars as pl\n",
    "pl.Config.set_tbl_rows(25)\n"
   ]
  },
  {
   "cell_type": "code",
   "execution_count": null,
   "id": "47eac53a-61db-45b5-91a2-b20f6b45d3c1",
   "metadata": {},
   "outputs": [],
   "source": [
    "# Define a bounding box to pull things from.\n",
    "\n",
    "# Somewhere in Belarus.\n",
    "lat0, lon0 = 53.107846, 28.792399\n",
    "lat1, lon1 = 53.221441, 28.989799\n",
    "\n",
    "# Minsk.\n",
    "lat0, lon0 = 53.894162, 27.536065\n",
    "lat1, lon1 = 53.910152, 27.570615\n",
    "\n",
    "# # Milkovo, Kamchatka.\n",
    "# lat0, lon0 = 54.680048, 158.585918\n",
    "# lat1, lon1 = 54.714276, 158.656632\n",
    "\n",
    "# # Asagiri, Japan.\n",
    "# lat0, lon0 = 32.228572, 130.881277\n",
    "# lat1, lon1 = 32.262670, 130.906660\n",
    "\n",
    "# # Melo Uruguay.\n",
    "# lat0, lon0 = -32.395782, -54.201407\n",
    "# lat1, lon1 = -32.338938, -54.122384\n",
    "\n",
    "# # Libreville Gabon.\n",
    "# lat0, lon0 = 0.354229, 9.393414\n",
    "# lat1, lon1 = 0.477928, 9.496069\n",
    "\n",
    "# # Portsmouth NH.\n",
    "# lat0, lon0 = 43.065028, -70.793336\n",
    "# lat1, lon1 = 43.094909, -70.722353\n",
    "\n",
    "# Handy derived stuff.\n",
    "query_bounds = [lon0, lat0, lon1, lat1]\n",
    "center_lon = (lon0 + lon1) / 2\n",
    "center_lat = (lat0 + lat1) / 2\n"
   ]
  },
  {
   "cell_type": "code",
   "execution_count": null,
   "id": "9e82e7af-2aa8-412d-8642-6800cf20687c",
   "metadata": {},
   "outputs": [],
   "source": [
    "# Define a local map projection\n",
    "offset = 20000\n",
    "proj_def = f\"\"\"\n",
    "+proj=tmerc +lat_0={center_lat} +lon_0={center_lon} \n",
    "+k=1.0 +x_0={offset} +y_0={offset} +datum=WGS84 +units=m +no_defs\n",
    "\"\"\"\n",
    "ltm_crs = pyproj.CRS.from_proj4(proj_def)\n",
    "wgs84_crs = pyproj.CRS.from_epsg(4326)\n",
    "proj_forward = pyproj.Transformer.from_crs(wgs84_crs, ltm_crs, always_xy=True).transform\n",
    "proj_inverse = pyproj.Transformer.from_crs(ltm_crs, wgs84_crs, always_xy=True).transform\n"
   ]
  },
  {
   "cell_type": "markdown",
   "id": "d2699be4-083d-4a7d-96cd-9299dbcc2e15",
   "metadata": {},
   "source": [
    "## Transport features"
   ]
  },
  {
   "cell_type": "code",
   "execution_count": null,
   "id": "51dc12ee-dd4d-4b8d-9f15-91f1404df0c1",
   "metadata": {},
   "outputs": [],
   "source": [
    "tags = {\n",
    "    'railway': True,\n",
    "    'aeroway': True,\n",
    "    'bridge': True,\n",
    "    'tunnel': True\n",
    "}\n",
    "features = osmnx.features.features_from_bbox(query_bounds, tags=tags).reset_index()\n",
    "features['gtype'] = [g.geom_type for g in features['geometry']]\n",
    "features['geomxy'] = [\n",
    "    shapely.ops.transform(proj_forward, rec['geometry'])\n",
    "    for rec in features.to_dict('records')\n",
    "]\n",
    "print('%d features total' % len(features))"
   ]
  },
  {
   "cell_type": "code",
   "execution_count": null,
   "id": "79ba4232-39cf-4389-ad8f-a2e1d49f8074",
   "metadata": {},
   "outputs": [],
   "source": [
    "for c in sorted(features.columns):\n",
    "    print(c)"
   ]
  },
  {
   "cell_type": "code",
   "execution_count": null,
   "id": "95c2f012-0617-45f3-9dda-bd6c01ffa5ad",
   "metadata": {},
   "outputs": [],
   "source": [
    "features['tunnel'].value_counts()"
   ]
  },
  {
   "cell_type": "code",
   "execution_count": null,
   "id": "06189170-7c50-42fb-a819-62b0a5e26b6c",
   "metadata": {},
   "outputs": [],
   "source": [
    "features[['bridge', 'gtype']].value_counts()"
   ]
  },
  {
   "cell_type": "code",
   "execution_count": null,
   "id": "a40a6394-ac43-499e-95ce-a07533ab27e9",
   "metadata": {},
   "outputs": [],
   "source": [
    "translator = [\n",
    "    {\n",
    "        'category': 'railway',\n",
    "        'label': 'rail',\n",
    "        'gtype': 'LineString',\n",
    "        'keys': {'railway': ['rail']},\n",
    "    },\n",
    "    {\n",
    "        'category': 'railway',\n",
    "        'label': 'tram',\n",
    "        'gtype': 'LineString',\n",
    "        'keys': {'railway': ['tram']},\n",
    "    },\n",
    "    {\n",
    "        'category': 'railway',\n",
    "        'label': 'rail stop',\n",
    "        'gtype': 'Point',\n",
    "        'keys': {'railway': ['stop', 'station', 'tram_stop', 'platform']},\n",
    "    },\n",
    "    {\n",
    "        'category': 'bridge',\n",
    "        'label': 'bridge',\n",
    "        'gtype': 'LineString',\n",
    "        'keys': {'bridge': ['yes']},\n",
    "    },\n",
    "    {\n",
    "        'category': 'tunnel',\n",
    "        'label': 'tunnel',\n",
    "        'gtype': 'LineString',\n",
    "        'keys': {'tunnel': ['yes']},\n",
    "    },\n",
    "]\n"
   ]
  },
  {
   "cell_type": "code",
   "execution_count": null,
   "id": "fbde99f9-9ffe-46c7-96f9-1567bb94f6eb",
   "metadata": {},
   "outputs": [],
   "source": [
    "# Apply the translator. That is, go through the list of features, and check each one against the records \n",
    "# of \"translator\" that we just defined. If any match, then save the geometries along with their \n",
    "# labels. Generate a report on any that were missed.\n",
    "\n",
    "keepers = []\n",
    "missed = []\n",
    "\n",
    "for feature in features.to_dict('records'):\n",
    "\n",
    "    matched = False\n",
    "    \n",
    "    # Check geometry type first. \n",
    "    for fclass in translator:\n",
    "        if feature['gtype'] == fclass['gtype']:\n",
    "\n",
    "            # Check any keys for this feature class.\n",
    "            all_match = True\n",
    "            for key_name in fclass['keys']:\n",
    "                key_values = fclass['keys'][key_name]\n",
    "                if key_name not in feature or feature[key_name] not in key_values:\n",
    "                    all_match = False\n",
    "            if all_match:\n",
    "                keepers.append({\n",
    "                    'category': fclass['category'],\n",
    "                    'label': fclass['label'],\n",
    "                    'gtype': feature['gtype'],\n",
    "                    'geom': feature['geomxy'],\n",
    "                })\n",
    "                matched = True\n",
    "    if not matched:\n",
    "        missed.append({\n",
    "            'railway': feature['railway'],\n",
    "            'gtype': feature['gtype']\n",
    "        })"
   ]
  },
  {
   "cell_type": "code",
   "execution_count": null,
   "id": "ad8c78f1-3430-4b11-85bf-0e3e7546fa9b",
   "metadata": {},
   "outputs": [],
   "source": [
    "print('%d records unmatched' % len(missed))\n",
    "m = pl.DataFrame(missed).select(['railway', 'gtype'])\n",
    "print(m.group_by(['railway', 'gtype']).agg(pl.len()).sort(by='len', descending=True))"
   ]
  },
  {
   "cell_type": "code",
   "execution_count": null,
   "id": "2c75420e-ede2-406f-ad9e-519e5318dfc9",
   "metadata": {},
   "outputs": [],
   "source": [
    "df = pl.DataFrame(keepers)\n",
    "print('%d records matched' % len(df))\n",
    "pl.Config.set_tbl_rows(25)\n",
    "print(df.group_by(pl.col(['label', 'gtype'])).agg(pl.len().alias('n')).sort(by='n', descending=True))"
   ]
  },
  {
   "cell_type": "code",
   "execution_count": null,
   "id": "49170f7e-5347-437c-a36e-6cdda569ad15",
   "metadata": {},
   "outputs": [],
   "source": [
    "# # Vis\n",
    "# colors = {\n",
    "#     \"highway\": \"magenta\",       \n",
    "#     \"primary road\": \"#d7191c\",      \n",
    "#     \"secondary road\": \"#fdae61\",     \n",
    "#     \"tertiary road\": \"#ffffbf\",      \n",
    "#     \"residential road\": \"#abd9e9\",   \n",
    "#     \"service road\": \"#cccccc\",         \n",
    "#     'transit stop': 'green',\n",
    "#     'street lamp': 'yellow',\n",
    "#     'traffic signals': 'orange',\n",
    "#     'crosswalk': 'black'\n",
    "# }\n",
    "# used = set()\n",
    "# fig = make_subplots(1, 1)\n",
    "# for rec in df.rows(named=True):\n",
    "#     label = rec['label']\n",
    "#     if label in ['pedestrian way', 'service road']:\n",
    "#         continue\n",
    "#     color = colors.get(label, 'gray')\n",
    "#     showlegend = label not in used\n",
    "#     used.add(label)\n",
    "#     draw_shape(rec['geom'], fig, name=label, color=color, showlegend=showlegend)\n",
    "# fig['layout']['width'] = 800\n",
    "# fig['layout']['height'] = 800\n",
    "# fig.show()\n"
   ]
  },
  {
   "cell_type": "code",
   "execution_count": null,
   "id": "14095c8a-b05e-4369-8b88-44daa29d2a57",
   "metadata": {},
   "outputs": [],
   "source": []
  }
 ],
 "metadata": {
  "kernelspec": {
   "display_name": "Python 3 (ipykernel)",
   "language": "python",
   "name": "python3"
  },
  "language_info": {
   "codemirror_mode": {
    "name": "ipython",
    "version": 3
   },
   "file_extension": ".py",
   "mimetype": "text/x-python",
   "name": "python",
   "nbconvert_exporter": "python",
   "pygments_lexer": "ipython3",
   "version": "3.12.4"
  }
 },
 "nbformat": 4,
 "nbformat_minor": 5
}
