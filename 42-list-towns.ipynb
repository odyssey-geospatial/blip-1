{
 "cells": [
  {
   "cell_type": "code",
   "execution_count": null,
   "id": "14095c8a-b05e-4369-8b88-44daa29d2a57",
   "metadata": {},
   "outputs": [],
   "source": [
    "import requests\n",
    "\n",
    "url = \"https://www2.census.gov/geo/tiger/TIGER2023/PLACE/tl_2023_us_place.zip\"\n",
    "output_file = \"tl_2023_us_place.zip\"\n",
    "\n",
    "# Download the file\n",
    "response = requests.get(url)\n",
    "with open(output_file, \"wb\") as f:\n",
    "    f.write(response.content)\n",
    "\n",
    "print(\"Download complete.\")\n"
   ]
  },
  {
   "cell_type": "code",
   "execution_count": null,
   "id": "2115ec52-c891-4e6c-a378-eea8fc7c3807",
   "metadata": {},
   "outputs": [],
   "source": []
  }
 ],
 "metadata": {
  "kernelspec": {
   "display_name": "Python 3 (ipykernel)",
   "language": "python",
   "name": "python3"
  },
  "language_info": {
   "codemirror_mode": {
    "name": "ipython",
    "version": 3
   },
   "file_extension": ".py",
   "mimetype": "text/x-python",
   "name": "python",
   "nbconvert_exporter": "python",
   "pygments_lexer": "ipython3",
   "version": "3.12.4"
  }
 },
 "nbformat": 4,
 "nbformat_minor": 5
}
