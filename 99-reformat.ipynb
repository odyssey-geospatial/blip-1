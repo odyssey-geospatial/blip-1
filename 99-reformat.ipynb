{
 "cells": [
  {
   "cell_type": "code",
   "execution_count": null,
   "id": "fd5f7284-dc31-4e56-90bd-68066d554f50",
   "metadata": {},
   "outputs": [],
   "source": [
    "from utils import rules"
   ]
  },
  {
   "cell_type": "code",
   "execution_count": null,
   "id": "5a60cd84-076d-45c4-958a-542a99b762e0",
   "metadata": {},
   "outputs": [],
   "source": [
    "orecs = []\n",
    "for k in rules:\n",
    "    for rec in rules[k]:\n",
    "        for osm_key in rec['keys']:\n",
    "            osm_values = rec['keys'][osm_key]\n",
    "            orec = {\n",
    "                'osm_key': osm_key,\n",
    "                'osm_values': osm_values,\n",
    "                'gtype': rec['gtype'],\n",
    "                'gent_category': rec['category'],\n",
    "                'gent_label': rec['label']\n",
    "            }\n",
    "            orecs.append(orec)"
   ]
  },
  {
   "cell_type": "code",
   "execution_count": null,
   "id": "a7366fef-6582-427b-b13d-61694c300e8b",
   "metadata": {},
   "outputs": [],
   "source": [
    "import json\n",
    "print(json.dumps(orecs, indent=4))"
   ]
  },
  {
   "cell_type": "code",
   "execution_count": null,
   "id": "63092f3f-cbd3-4be1-b20d-851ade42306b",
   "metadata": {},
   "outputs": [],
   "source": []
  }
 ],
 "metadata": {
  "kernelspec": {
   "display_name": "Python 3 (ipykernel)",
   "language": "python",
   "name": "python3"
  },
  "language_info": {
   "codemirror_mode": {
    "name": "ipython",
    "version": 3
   },
   "file_extension": ".py",
   "mimetype": "text/x-python",
   "name": "python",
   "nbconvert_exporter": "python",
   "pygments_lexer": "ipython3",
   "version": "3.12.4"
  }
 },
 "nbformat": 4,
 "nbformat_minor": 5
}
