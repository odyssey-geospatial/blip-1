{
 "cells": [
  {
   "cell_type": "markdown",
   "id": "e86b8916-bdd0-46e6-8195-8de0a4a06ab4",
   "metadata": {
    "id": "e86b8916-bdd0-46e6-8195-8de0a4a06ab4"
   },
   "source": [
    "### VERGE: Vector-mode Regional Geospatial Encoding\n",
    "# Split definition\n",
    "\n",
    "Divide the input instances into training and vlidation sets.\n"
   ]
  },
  {
   "cell_type": "markdown",
   "id": "8M2z1JqEbum-",
   "metadata": {
    "id": "8M2z1JqEbum-"
   },
   "source": [
    "## Processing Setup"
   ]
  },
  {
   "cell_type": "code",
   "execution_count": 11,
   "id": "SDCVXcwwbuNz",
   "metadata": {
    "id": "SDCVXcwwbuNz"
   },
   "outputs": [],
   "source": [
    "# Google colab setup\n",
    "# import os\n",
    "# from google.colab import drive\n",
    "# drive.mount('/content/drive')\n",
    "# project_home = '/content/drive/MyDrive/Projects/verge'\n",
    "# os.chdir(project_home)"
   ]
  },
  {
   "cell_type": "code",
   "execution_count": 12,
   "id": "rexpq0-tAp12",
   "metadata": {
    "id": "rexpq0-tAp12"
   },
   "outputs": [],
   "source": [
    "# !pip install geo_encodings"
   ]
  },
  {
   "cell_type": "code",
   "execution_count": 13,
   "id": "7CvwllV6ATky",
   "metadata": {
    "id": "7CvwllV6ATky"
   },
   "outputs": [],
   "source": [
    "# Local processing setup\n",
    "project_home = '..'"
   ]
  },
  {
   "cell_type": "markdown",
   "id": "0cXRuWo0AWx0",
   "metadata": {
    "id": "0cXRuWo0AWx0"
   },
   "source": [
    "## Notebook setup"
   ]
  },
  {
   "cell_type": "code",
   "execution_count": 14,
   "id": "b54d7995-33a4-44b6-a248-4d97c86ce57c",
   "metadata": {
    "id": "b54d7995-33a4-44b6-a248-4d97c86ce57c"
   },
   "outputs": [],
   "source": [
    "import pandas as pd\n",
    "import numpy as np\n",
    "import glob\n",
    "import pickle\n",
    "import os\n"
   ]
  },
  {
   "cell_type": "markdown",
   "id": "445ca7e3-ead1-4ddd-b908-e3ecf2d2aef2",
   "metadata": {
    "id": "445ca7e3-ead1-4ddd-b908-e3ecf2d2aef2"
   },
   "source": [
    "## Parameters"
   ]
  },
  {
   "cell_type": "code",
   "execution_count": 15,
   "id": "78ad6c64-0b24-4315-ae3c-6b3b21f6175d",
   "metadata": {
    "id": "78ad6c64-0b24-4315-ae3c-6b3b21f6175d"
   },
   "outputs": [],
   "source": [
    "# The name of the ROI to use.\n",
    "roi_name = 'ne-laptop'\n",
    "\n",
    "# The name of the general-purpose data directory.\n",
    "data_home = '%s/data' % (project_home)\n",
    "\n",
    "# The name of the ROI-specific data directory.\n",
    "roi_home = '%s/data/%s' % (project_home, roi_name)\n",
    "\n",
    "# A unique identifier for this run. This will be a component of any\n",
    "# output file names.\n",
    "run_id = '102'\n",
    "\n",
    "# Fraction of cases to use for training.\n",
    "train_fraction = 0.8\n",
    "\n",
    "# Always...\n",
    "np.random.seed(5)"
   ]
  },
  {
   "cell_type": "markdown",
   "id": "qCD2RJu73g26",
   "metadata": {
    "id": "qCD2RJu73g26"
   },
   "source": [
    "## Processing\n"
   ]
  },
  {
   "cell_type": "code",
   "execution_count": 16,
   "id": "daa09ea7-158e-4621-95e6-725f5d7e6ed3",
   "metadata": {},
   "outputs": [
    {
     "name": "stdout",
     "output_type": "stream",
     "text": [
      "1056 tiles\n",
      "20 unique AOIs\n"
     ]
    }
   ],
   "source": [
    "fname = '%s/tiles.csv' % roi_home\n",
    "tile_info = pd.read_csv(fname)\n",
    "print('%d tiles' % len(tile_info))\n",
    "\n",
    "aoi_tags = np.unique(tile_info['aoi_tag'].values)\n",
    "print('%d unique AOIs' % len(aoi_tags))"
   ]
  },
  {
   "cell_type": "code",
   "execution_count": 17,
   "id": "e3dd5a42-df0f-4d6e-99bc-66bf2f52b4ab",
   "metadata": {},
   "outputs": [],
   "source": [
    "# Add a column for the split, with a defult vlue of \"train\".\n",
    "# It will be re-set below.\n",
    "tile_info['split'] = 'train'\n",
    "splits = tile_info['split'].values"
   ]
  },
  {
   "cell_type": "code",
   "execution_count": 18,
   "id": "4fb905cf-ae4a-424c-b11e-1292882eb863",
   "metadata": {},
   "outputs": [
    {
     "data": {
      "text/html": [
       "<div>\n",
       "<style scoped>\n",
       "    .dataframe tbody tr th:only-of-type {\n",
       "        vertical-align: middle;\n",
       "    }\n",
       "\n",
       "    .dataframe tbody tr th {\n",
       "        vertical-align: top;\n",
       "    }\n",
       "\n",
       "    .dataframe thead th {\n",
       "        text-align: right;\n",
       "    }\n",
       "</style>\n",
       "<table border=\"1\" class=\"dataframe\">\n",
       "  <thead>\n",
       "    <tr style=\"text-align: right;\">\n",
       "      <th></th>\n",
       "      <th>aoi_tag</th>\n",
       "      <th>tile_tag</th>\n",
       "      <th>lon0</th>\n",
       "      <th>lat0</th>\n",
       "      <th>lon1</th>\n",
       "      <th>lat1</th>\n",
       "      <th>center_lon</th>\n",
       "      <th>center_lat</th>\n",
       "      <th>split</th>\n",
       "    </tr>\n",
       "  </thead>\n",
       "  <tbody>\n",
       "    <tr>\n",
       "      <th>0</th>\n",
       "      <td>0735w-413n</td>\n",
       "      <td>005-005</td>\n",
       "      <td>-73.50000</td>\n",
       "      <td>41.300000</td>\n",
       "      <td>-73.476879</td>\n",
       "      <td>41.318544</td>\n",
       "      <td>-73.488440</td>\n",
       "      <td>41.309272</td>\n",
       "      <td>train</td>\n",
       "    </tr>\n",
       "    <tr>\n",
       "      <th>1</th>\n",
       "      <td>0735w-413n</td>\n",
       "      <td>005-006</td>\n",
       "      <td>-73.50037</td>\n",
       "      <td>41.308994</td>\n",
       "      <td>-73.477246</td>\n",
       "      <td>41.327538</td>\n",
       "      <td>-73.488808</td>\n",
       "      <td>41.318266</td>\n",
       "      <td>train</td>\n",
       "    </tr>\n",
       "    <tr>\n",
       "      <th>2</th>\n",
       "      <td>0735w-413n</td>\n",
       "      <td>005-007</td>\n",
       "      <td>-73.50074</td>\n",
       "      <td>41.317988</td>\n",
       "      <td>-73.477613</td>\n",
       "      <td>41.336533</td>\n",
       "      <td>-73.489176</td>\n",
       "      <td>41.327260</td>\n",
       "      <td>train</td>\n",
       "    </tr>\n",
       "    <tr>\n",
       "      <th>3</th>\n",
       "      <td>0735w-413n</td>\n",
       "      <td>005-008</td>\n",
       "      <td>-73.50111</td>\n",
       "      <td>41.326983</td>\n",
       "      <td>-73.477980</td>\n",
       "      <td>41.345527</td>\n",
       "      <td>-73.489545</td>\n",
       "      <td>41.336255</td>\n",
       "      <td>train</td>\n",
       "    </tr>\n",
       "    <tr>\n",
       "      <th>4</th>\n",
       "      <td>0735w-413n</td>\n",
       "      <td>005-009</td>\n",
       "      <td>-73.50148</td>\n",
       "      <td>41.335977</td>\n",
       "      <td>-73.478347</td>\n",
       "      <td>41.354521</td>\n",
       "      <td>-73.489914</td>\n",
       "      <td>41.345249</td>\n",
       "      <td>train</td>\n",
       "    </tr>\n",
       "  </tbody>\n",
       "</table>\n",
       "</div>"
      ],
      "text/plain": [
       "      aoi_tag tile_tag      lon0       lat0       lon1       lat1  center_lon  \\\n",
       "0  0735w-413n  005-005 -73.50000  41.300000 -73.476879  41.318544  -73.488440   \n",
       "1  0735w-413n  005-006 -73.50037  41.308994 -73.477246  41.327538  -73.488808   \n",
       "2  0735w-413n  005-007 -73.50074  41.317988 -73.477613  41.336533  -73.489176   \n",
       "3  0735w-413n  005-008 -73.50111  41.326983 -73.477980  41.345527  -73.489545   \n",
       "4  0735w-413n  005-009 -73.50148  41.335977 -73.478347  41.354521  -73.489914   \n",
       "\n",
       "   center_lat  split  \n",
       "0   41.309272  train  \n",
       "1   41.318266  train  \n",
       "2   41.327260  train  \n",
       "3   41.336255  train  \n",
       "4   41.345249  train  "
      ]
     },
     "execution_count": 18,
     "metadata": {},
     "output_type": "execute_result"
    }
   ],
   "source": [
    "tile_info.head()"
   ]
  },
  {
   "cell_type": "code",
   "execution_count": 19,
   "id": "38bf350b-da9d-45b4-b659-546940359ce1",
   "metadata": {},
   "outputs": [],
   "source": [
    "# Replace split designation for a fraction of the AOIs.\n",
    "for aoi_tag in aoi_tags:\n",
    "    if np.random.random() > train_fraction:\n",
    "        iok = tile_info['aoi_tag'] == aoi_tag\n",
    "        splits[iok] = 'val'\n",
    "        "
   ]
  },
  {
   "cell_type": "code",
   "execution_count": 20,
   "id": "5dbc36b9-b096-48af-b4cc-5e46987c3d9a",
   "metadata": {},
   "outputs": [
    {
     "data": {
      "text/plain": [
       "aoi_tag     split\n",
       "0731w-413n  train    63\n",
       "0733w-413n  train    63\n",
       "0731w-415n  train    63\n",
       "0732w-413n  val      63\n",
       "0735w-414n  train    63\n",
       "0735w-413n  train    63\n",
       "0734w-414n  train    63\n",
       "0731w-414n  val      63\n",
       "0733w-414n  train    62\n",
       "0732w-444n  train    61\n",
       "0732w-415n  train    60\n",
       "0733w-424n  train    59\n",
       "0735w-415n  train    58\n",
       "0732w-445n  train    52\n",
       "0733w-445n  val      44\n",
       "0733w-423n  train    41\n",
       "0735w-446n  train    39\n",
       "0732w-418n  train    36\n",
       "0732w-426n  train    22\n",
       "0733w-444n  train    18\n",
       "Name: count, dtype: int64"
      ]
     },
     "execution_count": 20,
     "metadata": {},
     "output_type": "execute_result"
    }
   ],
   "source": [
    "tile_info['split'] = splits\n",
    "tile_info[['aoi_tag', 'split']].value_counts()"
   ]
  },
  {
   "cell_type": "code",
   "execution_count": 21,
   "id": "aaa966ad-a056-4ead-b3a6-bf3a927fc7e5",
   "metadata": {},
   "outputs": [
    {
     "data": {
      "text/plain": [
       "split\n",
       "train    886\n",
       "val      170\n",
       "Name: count, dtype: int64"
      ]
     },
     "execution_count": 21,
     "metadata": {},
     "output_type": "execute_result"
    }
   ],
   "source": [
    "tile_info['split'].value_counts()"
   ]
  },
  {
   "cell_type": "code",
   "execution_count": 22,
   "id": "899fd353-0e6e-42e7-aaf1-49e46d3f1720",
   "metadata": {
    "id": "899fd353-0e6e-42e7-aaf1-49e46d3f1720"
   },
   "outputs": [
    {
     "name": "stdout",
     "output_type": "stream",
     "text": [
      "saved splits to ../data/ne-laptop/splits-102.csv\n"
     ]
    }
   ],
   "source": [
    "# Save the split records\n",
    "fname = '%s/splits-%s.csv' % (roi_home, run_id)\n",
    "tile_info[['aoi_tag', 'tile_tag', 'split']].to_csv(fname, index=False)\n",
    "print('saved splits to %s' % fname)"
   ]
  },
  {
   "cell_type": "code",
   "execution_count": null,
   "id": "a63cc972-4db9-44c7-976d-70d48888d7da",
   "metadata": {},
   "outputs": [],
   "source": []
  }
 ],
 "metadata": {
  "accelerator": "GPU",
  "colab": {
   "gpuType": "A100",
   "provenance": []
  },
  "kernelspec": {
   "display_name": "Python 3 (ipykernel)",
   "language": "python",
   "name": "python3"
  },
  "language_info": {
   "codemirror_mode": {
    "name": "ipython",
    "version": 3
   },
   "file_extension": ".py",
   "mimetype": "text/x-python",
   "name": "python",
   "nbconvert_exporter": "python",
   "pygments_lexer": "ipython3",
   "version": "3.10.1"
  }
 },
 "nbformat": 4,
 "nbformat_minor": 5
}
