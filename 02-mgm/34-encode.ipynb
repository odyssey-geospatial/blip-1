{
 "cells": [
  {
   "cell_type": "markdown",
   "id": "1dc8646d-83e6-4f48-8ea0-7df821dad8e9",
   "metadata": {
    "id": "1dc8646d-83e6-4f48-8ea0-7df821dad8e9"
   },
   "source": [
    "### VERGE: Vector-mode Regional Geospatial Embeddings\n",
    "\n",
    "# Encode geospatial data for VERGE processing\n",
    "\n",
    "Elsewhere we assembled geospatial data for a bunch of tiles.\n",
    "Here we come up with encodings for each such entitiy.\n",
    "The encodings will consist of a concatenation of a Multi-Point Proximity (MPP) encoding\n",
    "and a one-hot vector indicating the entity type."
   ]
  },
  {
   "cell_type": "markdown",
   "id": "PUsGDRtWRwWU",
   "metadata": {
    "id": "PUsGDRtWRwWU"
   },
   "source": [
    "## Processing setup"
   ]
  },
  {
   "cell_type": "code",
   "execution_count": 1,
   "id": "TradNao5RubY",
   "metadata": {
    "colab": {
     "base_uri": "https://localhost:8080/"
    },
    "executionInfo": {
     "elapsed": 526,
     "status": "ok",
     "timestamp": 1753784131843,
     "user": {
      "displayName": "John Collins",
      "userId": "16643596247369517939"
     },
     "user_tz": 240
    },
    "id": "TradNao5RubY",
    "outputId": "17cd11fe-d084-4add-b939-6fbe3847cee0"
   },
   "outputs": [],
   "source": [
    "# Google colab setup\n",
    "# import os\n",
    "# from google.colab import drive\n",
    "# drive.mount('/content/drive')\n",
    "# project_home = '/content/drive/MyDrive/Projects/verge'\n",
    "# os.chdir(project_home)"
   ]
  },
  {
   "cell_type": "code",
   "execution_count": 2,
   "id": "6werPiQKRzWL",
   "metadata": {
    "colab": {
     "base_uri": "https://localhost:8080/"
    },
    "executionInfo": {
     "elapsed": 9726,
     "status": "ok",
     "timestamp": 1753784141566,
     "user": {
      "displayName": "John Collins",
      "userId": "16643596247369517939"
     },
     "user_tz": 240
    },
    "id": "6werPiQKRzWL",
    "outputId": "ce9f08ff-cdfd-4400-dcc4-217090907fd9"
   },
   "outputs": [],
   "source": [
    "# !pip install geo-encodings"
   ]
  },
  {
   "cell_type": "code",
   "execution_count": 3,
   "id": "ddQx34FJgQNk",
   "metadata": {
    "executionInfo": {
     "elapsed": 3,
     "status": "ok",
     "timestamp": 1753784141570,
     "user": {
      "displayName": "John Collins",
      "userId": "16643596247369517939"
     },
     "user_tz": 240
    },
    "id": "ddQx34FJgQNk"
   },
   "outputs": [],
   "source": [
    "# Local processing setup\n",
    "project_home = '..'"
   ]
  },
  {
   "cell_type": "markdown",
   "id": "8mklkKwDgTJr",
   "metadata": {
    "id": "8mklkKwDgTJr"
   },
   "source": [
    "## Source"
   ]
  },
  {
   "cell_type": "code",
   "execution_count": 4,
   "id": "1ccf4cd8-7581-4f1b-8b4f-5c7b78faefe2",
   "metadata": {
    "executionInfo": {
     "elapsed": 8,
     "status": "ok",
     "timestamp": 1753784141579,
     "user": {
      "displayName": "John Collins",
      "userId": "16643596247369517939"
     },
     "user_tz": 240
    },
    "id": "1ccf4cd8-7581-4f1b-8b4f-5c7b78faefe2"
   },
   "outputs": [],
   "source": [
    "# The name of the ROI to use.\n",
    "roi_name = 'ne-dev'\n",
    "\n",
    "# The name of the general-purpose data directory.\n",
    "data_home = '%s/data' % (project_home)\n",
    "\n",
    "# The name of the ROI-specific data directory.\n",
    "roi_home = '%s/data/%s' % (project_home, roi_name)\n"
   ]
  },
  {
   "cell_type": "markdown",
   "id": "JXr75ACqRz26",
   "metadata": {
    "id": "JXr75ACqRz26"
   },
   "source": [
    "## Setup"
   ]
  },
  {
   "cell_type": "code",
   "execution_count": 5,
   "id": "4763c195-85b1-472a-8226-54b8dc137951",
   "metadata": {
    "executionInfo": {
     "elapsed": 991,
     "status": "ok",
     "timestamp": 1753784142565,
     "user": {
      "displayName": "John Collins",
      "userId": "16643596247369517939"
     },
     "user_tz": 240
    },
    "id": "4763c195-85b1-472a-8226-54b8dc137951"
   },
   "outputs": [],
   "source": [
    "import pandas as pd\n",
    "import numpy as np\n",
    "import glob\n",
    "import geopandas\n",
    "import os\n",
    "import pickle\n",
    "import json\n",
    "from geo_encodings import MPPEncoder"
   ]
  },
  {
   "cell_type": "markdown",
   "id": "826034c6-7dd0-4110-9ba4-285cee0a275e",
   "metadata": {
    "id": "826034c6-7dd0-4110-9ba4-285cee0a275e"
   },
   "source": [
    "## Data prep"
   ]
  },
  {
   "cell_type": "code",
   "execution_count": 6,
   "id": "da8d2541-fac6-431e-ab0f-dfd217fc05ae",
   "metadata": {
    "executionInfo": {
     "elapsed": 7,
     "status": "ok",
     "timestamp": 1753784142567,
     "user": {
      "displayName": "John Collins",
      "userId": "16643596247369517939"
     },
     "user_tz": 240
    },
    "id": "da8d2541-fac6-431e-ab0f-dfd217fc05ae"
   },
   "outputs": [],
   "source": [
    "# Read the ROI definition.\n",
    "fname = '%s/roi.json' % roi_home\n",
    "with open(fname) as source:\n",
    "    roi = json.load(source)\n",
    "\n",
    "tile_size = roi['tile_size']\n",
    "tile_shift = roi['tile_shift']\n",
    "encoding_resolution = roi['encoding_resolution']"
   ]
  },
  {
   "cell_type": "code",
   "execution_count": 7,
   "id": "e3e313df-516d-4412-8e45-5e1ecfe2bd80",
   "metadata": {
    "colab": {
     "base_uri": "https://localhost:8080/"
    },
    "executionInfo": {
     "elapsed": 9,
     "status": "ok",
     "timestamp": 1753784142572,
     "user": {
      "displayName": "John Collins",
      "userId": "16643596247369517939"
     },
     "user_tz": 240
    },
    "id": "e3e313df-516d-4412-8e45-5e1ecfe2bd80",
    "outputId": "b24681f3-2d26-411d-fa6c-2a48489bc6e4"
   },
   "outputs": [
    {
     "name": "stdout",
     "output_type": "stream",
     "text": [
      "22 labels\n"
     ]
    }
   ],
   "source": [
    "# Read the list of labels.\n",
    "fname = '%s/labels.csv' % data_home\n",
    "labels = pd.read_csv(fname)\n",
    "num_classes = len(labels)\n",
    "print('%d labels' % num_classes)\n",
    "\n",
    "label_id_lookup = {\n",
    "    z['label']: z['id']\n",
    "    for z in labels.to_dict('records')\n",
    "}"
   ]
  },
  {
   "cell_type": "code",
   "execution_count": 8,
   "id": "140b7b2e-d2b1-4db1-b5fb-5ab088d3f62c",
   "metadata": {
    "colab": {
     "base_uri": "https://localhost:8080/"
    },
    "executionInfo": {
     "elapsed": 4,
     "status": "ok",
     "timestamp": 1753784142598,
     "user": {
      "displayName": "John Collins",
      "userId": "16643596247369517939"
     },
     "user_tz": 240
    },
    "id": "140b7b2e-d2b1-4db1-b5fb-5ab088d3f62c",
    "outputId": "77922269-b565-4b47-aad0-fa0d70efc43c"
   },
   "outputs": [
    {
     "name": "stdout",
     "output_type": "stream",
     "text": [
      "400 elements in encodings\n"
     ]
    }
   ],
   "source": [
    "# Set up the MPP encoder.\n",
    "encoder = MPPEncoder(\n",
    "    region=[0, 0, tile_size, tile_size],\n",
    "    resolution=encoding_resolution,\n",
    "    center=True\n",
    ")\n",
    "print('%d elements in encodings' % len(encoder))"
   ]
  },
  {
   "cell_type": "markdown",
   "id": "14f9df2f-3bbf-437f-832c-119064c6cc7a",
   "metadata": {
    "id": "14f9df2f-3bbf-437f-832c-119064c6cc7a"
   },
   "source": [
    "## Processing"
   ]
  },
  {
   "cell_type": "code",
   "execution_count": 9,
   "id": "a2f5a8ae-8b00-4ee7-92c1-b9bab9a52fa4",
   "metadata": {
    "colab": {
     "base_uri": "https://localhost:8080/"
    },
    "executionInfo": {
     "elapsed": 39,
     "status": "ok",
     "timestamp": 1753784142638,
     "user": {
      "displayName": "John Collins",
      "userId": "16643596247369517939"
     },
     "user_tz": 240
    },
    "id": "a2f5a8ae-8b00-4ee7-92c1-b9bab9a52fa4",
    "outputId": "d0884af8-14e4-433a-a2c3-86b105ab5ad2"
   },
   "outputs": [
    {
     "name": "stdout",
     "output_type": "stream",
     "text": [
      "20 AOIs in this ROI (ne-dev)\n"
     ]
    }
   ],
   "source": [
    "# Get a list of AOI tags.\n",
    "globstring = '%s/tiles/*' % roi_home\n",
    "tile_dnames = glob.glob(globstring)\n",
    "aoi_names = [\n",
    "    z[z.rfind('/') + 1 :]\n",
    "    for z in tile_dnames\n",
    "]\n",
    "print('%d AOIs in this ROI (%s)' % (len(aoi_names), roi_name))"
   ]
  },
  {
   "cell_type": "code",
   "execution_count": 10,
   "id": "15617c27-abeb-4c5e-b2a6-6f4500880957",
   "metadata": {
    "executionInfo": {
     "elapsed": 4,
     "status": "ok",
     "timestamp": 1753784142638,
     "user": {
      "displayName": "John Collins",
      "userId": "16643596247369517939"
     },
     "user_tz": 240
    },
    "id": "15617c27-abeb-4c5e-b2a6-6f4500880957"
   },
   "outputs": [],
   "source": [
    "# In the loop below, we will also accumulate a histogram of class labels.\n",
    "# This will be saved and used during model training to balance sampling.\n",
    "class_counts = {z: 0 for z in range(num_classes)}"
   ]
  },
  {
   "cell_type": "code",
   "execution_count": 11,
   "id": "00621818-4f5a-4e62-917c-156f1d768e84",
   "metadata": {
    "colab": {
     "base_uri": "https://localhost:8080/"
    },
    "executionInfo": {
     "elapsed": 2092505,
     "status": "ok",
     "timestamp": 1753800925967,
     "user": {
      "displayName": "John Collins",
      "userId": "16643596247369517939"
     },
     "user_tz": 240
    },
    "id": "00621818-4f5a-4e62-917c-156f1d768e84",
    "outputId": "51cad3fd-03dc-4fa8-d930-e24ea3e59c7a"
   },
   "outputs": [
    {
     "name": "stdout",
     "output_type": "stream",
     "text": [
      "\n",
      "handling AOI 0732w-415n (0 / 20)\n",
      "60 tiles\n",
      "wrote ../data/ne-dev/encodings/0732w-415n.pkl\n",
      "\n",
      "handling AOI 0732w-444n (1 / 20)\n",
      "61 tiles\n",
      "wrote ../data/ne-dev/encodings/0732w-444n.pkl\n",
      "\n",
      "handling AOI 0731w-415n (2 / 20)\n",
      "63 tiles\n",
      "wrote ../data/ne-dev/encodings/0731w-415n.pkl\n"
     ]
    }
   ],
   "source": [
    "# Loop over AOIs\n",
    "\n",
    "for k, aoi_name in enumerate(aoi_names[:3]):\n",
    "\n",
    "    print('\\nhandling AOI %s (%d / %d)' % (aoi_name, k, len(aoi_names)))\n",
    "\n",
    "    # This will hold all encodings for this AOI\n",
    "    tile_encodings_for_this_aoi = []\n",
    "\n",
    "    # Get a list of all tile files for this AOI.\n",
    "    globstring = '%s/tiles/%s/*.pq' % (roi_home, aoi_name)\n",
    "    fnames = glob.glob(globstring)\n",
    "    print('%d tiles' % len(fnames))\n",
    "\n",
    "    # Loop over tiles.\n",
    "    for fname in fnames:\n",
    "\n",
    "        # Extract the base name for this tile.\n",
    "        ix0 = fname.rfind('/') + 1\n",
    "        ix1 = fname.rfind('.')\n",
    "        tile_name = fname[ix0 : ix1]\n",
    "\n",
    "        tile_vectors = []\n",
    "        tile_labels = []\n",
    "        gdf = geopandas.read_parquet(fname)\n",
    "        for _, rec in gdf.sample(frac=1).iterrows():\n",
    "\n",
    "            # Geometric encoding vector\n",
    "            encoding = encoder.encode(rec['geometry']).values()\n",
    "\n",
    "            # One-hot label vector\n",
    "            etype = np.zeros(num_classes)\n",
    "            label_string = '%s : %s' % (rec['category'], rec['label'])\n",
    "            label_id = label_id_lookup[label_string]\n",
    "            etype[label_id] = 1.0\n",
    "\n",
    "            # Save the label as an integer too. This will make training easier.\n",
    "            tile_labels.append(label_id)\n",
    "\n",
    "            # Keep track of class counts across all tiles.\n",
    "            class_counts[label_id] += 1\n",
    "\n",
    "            # Concatenate the encoding and type vectors.\n",
    "            vector = np.hstack((etype, encoding))\n",
    "            tile_vectors.append(vector)\n",
    "\n",
    "        # Combine all per-feature vectors into one big feature matrix.\n",
    "        tile_features = np.vstack(tile_vectors)\n",
    "\n",
    "        tile_encodings_for_this_aoi.append({\n",
    "            'aoi_name': aoi_name,\n",
    "            'tile_name': tile_name,\n",
    "            'features': tile_features,\n",
    "            'labels': np.array(tile_labels),\n",
    "        })\n",
    "\n",
    "    # Save all of the encodings for this tile.\n",
    "    fname = '%s/encodings/%s.pkl' % (roi_home, aoi_name)\n",
    "    os.makedirs(os.path.dirname(fname), exist_ok=True)\n",
    "    with open(fname, 'wb') as dest:\n",
    "        pickle.dump(tile_encodings_for_this_aoi, dest)\n",
    "    print('wrote %s' % (fname))\n"
   ]
  },
  {
   "cell_type": "code",
   "execution_count": 17,
   "id": "ff5c7505-e269-4283-901b-6330dab73dac",
   "metadata": {
    "executionInfo": {
     "elapsed": 3,
     "status": "ok",
     "timestamp": 1753800926002,
     "user": {
      "displayName": "John Collins",
      "userId": "16643596247369517939"
     },
     "user_tz": 240
    },
    "id": "ff5c7505-e269-4283-901b-6330dab73dac"
   },
   "outputs": [],
   "source": [
    "# Save the label probabilities.\n",
    "total = 0.0\n",
    "for key in class_counts:\n",
    "    total += class_counts[key]\n",
    "\n",
    "records = [\n",
    "    {\n",
    "        'label': z,\n",
    "        'count': class_counts[z],\n",
    "        'prob': class_counts[z] / total\n",
    "    } for z in range(num_classes)\n",
    "]\n",
    "fname = '%s/class_info.csv' % roi_home\n",
    "pd.DataFrame(records).to_csv(fname, index=False)"
   ]
  },
  {
   "cell_type": "markdown",
   "id": "qrAY8WfeTHde",
   "metadata": {
    "id": "qrAY8WfeTHde"
   },
   "source": [
    "## QA and visualizations"
   ]
  },
  {
   "cell_type": "code",
   "execution_count": 18,
   "id": "fb3c8c0f-d91b-4952-8992-7e0aba8b591a",
   "metadata": {
    "executionInfo": {
     "elapsed": 2,
     "status": "ok",
     "timestamp": 1753800926325,
     "user": {
      "displayName": "John Collins",
      "userId": "16643596247369517939"
     },
     "user_tz": 240
    },
    "id": "fb3c8c0f-d91b-4952-8992-7e0aba8b591a"
   },
   "outputs": [
    {
     "name": "stdout",
     "output_type": "stream",
     "text": [
      "3\n"
     ]
    }
   ],
   "source": [
    "import glob\n",
    "globstring = '%s/encodings/*.pkl' % roi_home\n",
    "fnames = glob.glob(globstring)\n",
    "print(len(fnames))"
   ]
  },
  {
   "cell_type": "code",
   "execution_count": 19,
   "id": "3db6eb96-8205-4d33-b322-222601bbcaf8",
   "metadata": {},
   "outputs": [],
   "source": [
    "with open(fnames[0], 'rb') as source:\n",
    "    a = pickle.load(source)"
   ]
  },
  {
   "cell_type": "code",
   "execution_count": 20,
   "id": "9a0be4b5-0745-4c30-a8d0-d010e7224864",
   "metadata": {},
   "outputs": [
    {
     "data": {
      "text/plain": [
       "dict_keys(['aoi_name', 'tile_name', 'features', 'labels'])"
      ]
     },
     "execution_count": 20,
     "metadata": {},
     "output_type": "execute_result"
    }
   ],
   "source": [
    "a[0].keys()"
   ]
  },
  {
   "cell_type": "code",
   "execution_count": 22,
   "id": "15ec05ca-f2e8-45f8-af9c-d64c8dffce03",
   "metadata": {},
   "outputs": [
    {
     "data": {
      "text/plain": [
       "numpy.ndarray"
      ]
     },
     "execution_count": 22,
     "metadata": {},
     "output_type": "execute_result"
    }
   ],
   "source": [
    "type(a[0]['labels'])"
   ]
  },
  {
   "cell_type": "code",
   "execution_count": null,
   "id": "c6709f6d-b367-4101-9468-04e0aec438bf",
   "metadata": {},
   "outputs": [],
   "source": []
  }
 ],
 "metadata": {
  "colab": {
   "provenance": []
  },
  "kernelspec": {
   "display_name": "Python 3 (ipykernel)",
   "language": "python",
   "name": "python3"
  },
  "language_info": {
   "codemirror_mode": {
    "name": "ipython",
    "version": 3
   },
   "file_extension": ".py",
   "mimetype": "text/x-python",
   "name": "python",
   "nbconvert_exporter": "python",
   "pygments_lexer": "ipython3",
   "version": "3.12.4"
  }
 },
 "nbformat": 4,
 "nbformat_minor": 5
}
