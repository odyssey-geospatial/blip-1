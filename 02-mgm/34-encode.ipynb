{
 "cells": [
  {
   "cell_type": "markdown",
   "id": "1dc8646d-83e6-4f48-8ea0-7df821dad8e9",
   "metadata": {
    "id": "1dc8646d-83e6-4f48-8ea0-7df821dad8e9"
   },
   "source": [
    "### VERGE: Vector-mode Regional Geospatial Embeddings\n",
    "\n",
    "# Encode geospatial data for VERGE processing\n",
    "\n",
    "Elsewhere we assembled geospatial data for a bunch of tiles.\n",
    "Here we come up with encodings for each such entitiy.\n",
    "The encodings will consist of a concatenation of a Multi-Point Proximity (MPP) encoding\n",
    "and a one-hot vector indicating the entity type."
   ]
  },
  {
   "cell_type": "markdown",
   "id": "PUsGDRtWRwWU",
   "metadata": {
    "id": "PUsGDRtWRwWU"
   },
   "source": [
    "## Processing setup"
   ]
  },
  {
   "cell_type": "code",
   "execution_count": 1,
   "id": "TradNao5RubY",
   "metadata": {
    "colab": {
     "base_uri": "https://localhost:8080/"
    },
    "executionInfo": {
     "elapsed": 539,
     "status": "ok",
     "timestamp": 1753976636680,
     "user": {
      "displayName": "John Collins",
      "userId": "16643596247369517939"
     },
     "user_tz": 240
    },
    "id": "TradNao5RubY",
    "outputId": "0c5726dd-ca68-4750-e538-6b5799818306"
   },
   "outputs": [],
   "source": [
    "# Google colab setup\n",
    "# import os\n",
    "# from google.colab import drive\n",
    "# drive.mount('/content/drive')\n",
    "# project_home = '/content/drive/MyDrive/Projects/verge'\n",
    "# os.chdir(project_home)"
   ]
  },
  {
   "cell_type": "code",
   "execution_count": 2,
   "id": "6werPiQKRzWL",
   "metadata": {
    "colab": {
     "base_uri": "https://localhost:8080/"
    },
    "executionInfo": {
     "elapsed": 12248,
     "status": "ok",
     "timestamp": 1753976648925,
     "user": {
      "displayName": "John Collins",
      "userId": "16643596247369517939"
     },
     "user_tz": 240
    },
    "id": "6werPiQKRzWL",
    "outputId": "b253f318-e341-4d7e-d174-4636e1ca1e2f"
   },
   "outputs": [],
   "source": [
    "# !pip install geo-encodings"
   ]
  },
  {
   "cell_type": "code",
   "execution_count": 3,
   "id": "ddQx34FJgQNk",
   "metadata": {
    "executionInfo": {
     "elapsed": 3,
     "status": "ok",
     "timestamp": 1753976648929,
     "user": {
      "displayName": "John Collins",
      "userId": "16643596247369517939"
     },
     "user_tz": 240
    },
    "id": "ddQx34FJgQNk"
   },
   "outputs": [],
   "source": [
    "# Local processing setup\n",
    "project_home = '..'"
   ]
  },
  {
   "cell_type": "markdown",
   "id": "8mklkKwDgTJr",
   "metadata": {
    "id": "8mklkKwDgTJr"
   },
   "source": [
    "## Source"
   ]
  },
  {
   "cell_type": "code",
   "execution_count": 4,
   "id": "1ccf4cd8-7581-4f1b-8b4f-5c7b78faefe2",
   "metadata": {
    "executionInfo": {
     "elapsed": 1,
     "status": "ok",
     "timestamp": 1753976648932,
     "user": {
      "displayName": "John Collins",
      "userId": "16643596247369517939"
     },
     "user_tz": 240
    },
    "id": "1ccf4cd8-7581-4f1b-8b4f-5c7b78faefe2"
   },
   "outputs": [],
   "source": [
    "# The name of the ROI to use.\n",
    "roi_name = 'ne-dev'\n",
    "\n",
    "# The name of the general-purpose data directory.\n",
    "data_home = '%s/data' % (project_home)\n",
    "\n",
    "# The name of the ROI-specific data directory.\n",
    "roi_home = '%s/data/%s' % (project_home, roi_name)\n"
   ]
  },
  {
   "cell_type": "markdown",
   "id": "JXr75ACqRz26",
   "metadata": {
    "id": "JXr75ACqRz26"
   },
   "source": [
    "## Setup"
   ]
  },
  {
   "cell_type": "code",
   "execution_count": 5,
   "id": "4763c195-85b1-472a-8226-54b8dc137951",
   "metadata": {
    "executionInfo": {
     "elapsed": 1407,
     "status": "ok",
     "timestamp": 1753976650340,
     "user": {
      "displayName": "John Collins",
      "userId": "16643596247369517939"
     },
     "user_tz": 240
    },
    "id": "4763c195-85b1-472a-8226-54b8dc137951"
   },
   "outputs": [],
   "source": [
    "import pandas as pd\n",
    "import numpy as np\n",
    "import glob\n",
    "import geopandas\n",
    "import os\n",
    "import pickle\n",
    "import json\n",
    "from geo_encodings import MPPEncoder"
   ]
  },
  {
   "cell_type": "markdown",
   "id": "826034c6-7dd0-4110-9ba4-285cee0a275e",
   "metadata": {
    "id": "826034c6-7dd0-4110-9ba4-285cee0a275e"
   },
   "source": [
    "## Data prep"
   ]
  },
  {
   "cell_type": "code",
   "execution_count": 6,
   "id": "da8d2541-fac6-431e-ab0f-dfd217fc05ae",
   "metadata": {
    "executionInfo": {
     "elapsed": 20,
     "status": "ok",
     "timestamp": 1753976650363,
     "user": {
      "displayName": "John Collins",
      "userId": "16643596247369517939"
     },
     "user_tz": 240
    },
    "id": "da8d2541-fac6-431e-ab0f-dfd217fc05ae"
   },
   "outputs": [],
   "source": [
    "# Read the ROI definition.\n",
    "fname = '%s/roi.json' % roi_home\n",
    "with open(fname) as source:\n",
    "    roi = json.load(source)\n",
    "\n",
    "tile_size = roi['tile_size']\n",
    "tile_shift = roi['tile_shift']\n",
    "encoding_resolution = roi['encoding_resolution']"
   ]
  },
  {
   "cell_type": "code",
   "execution_count": 7,
   "id": "e3e313df-516d-4412-8e45-5e1ecfe2bd80",
   "metadata": {
    "colab": {
     "base_uri": "https://localhost:8080/"
    },
    "executionInfo": {
     "elapsed": 40,
     "status": "ok",
     "timestamp": 1753976650404,
     "user": {
      "displayName": "John Collins",
      "userId": "16643596247369517939"
     },
     "user_tz": 240
    },
    "id": "e3e313df-516d-4412-8e45-5e1ecfe2bd80",
    "outputId": "eb528b4f-f98e-4f92-d02d-3938d66d8c15"
   },
   "outputs": [
    {
     "name": "stdout",
     "output_type": "stream",
     "text": [
      "22 labels\n"
     ]
    }
   ],
   "source": [
    "# Read the list of labels.\n",
    "fname = '%s/labels.csv' % data_home\n",
    "labels = pd.read_csv(fname)\n",
    "num_classes = len(labels)\n",
    "print('%d labels' % num_classes)\n",
    "\n",
    "label_id_lookup = {\n",
    "    z['label']: z['id']\n",
    "    for z in labels.to_dict('records')\n",
    "}"
   ]
  },
  {
   "cell_type": "code",
   "execution_count": 8,
   "id": "140b7b2e-d2b1-4db1-b5fb-5ab088d3f62c",
   "metadata": {
    "colab": {
     "base_uri": "https://localhost:8080/"
    },
    "executionInfo": {
     "elapsed": 42,
     "status": "ok",
     "timestamp": 1753976650445,
     "user": {
      "displayName": "John Collins",
      "userId": "16643596247369517939"
     },
     "user_tz": 240
    },
    "id": "140b7b2e-d2b1-4db1-b5fb-5ab088d3f62c",
    "outputId": "0a43893c-b65e-4c79-92b6-2862b977ae22"
   },
   "outputs": [
    {
     "name": "stdout",
     "output_type": "stream",
     "text": [
      "400 elements in encodings\n"
     ]
    }
   ],
   "source": [
    "# Set up the MPP encoder.\n",
    "encoder = MPPEncoder(\n",
    "    region=[0, 0, tile_size, tile_size],\n",
    "    resolution=encoding_resolution,\n",
    "    center=True\n",
    ")\n",
    "print('%d elements in encodings' % len(encoder))"
   ]
  },
  {
   "cell_type": "markdown",
   "id": "14f9df2f-3bbf-437f-832c-119064c6cc7a",
   "metadata": {
    "id": "14f9df2f-3bbf-437f-832c-119064c6cc7a"
   },
   "source": [
    "## Processing"
   ]
  },
  {
   "cell_type": "code",
   "execution_count": 9,
   "id": "a2f5a8ae-8b00-4ee7-92c1-b9bab9a52fa4",
   "metadata": {
    "colab": {
     "base_uri": "https://localhost:8080/"
    },
    "executionInfo": {
     "elapsed": 3,
     "status": "ok",
     "timestamp": 1753976650449,
     "user": {
      "displayName": "John Collins",
      "userId": "16643596247369517939"
     },
     "user_tz": 240
    },
    "id": "a2f5a8ae-8b00-4ee7-92c1-b9bab9a52fa4",
    "outputId": "31dc764c-6d99-42a7-fff3-cd70d342305a"
   },
   "outputs": [
    {
     "name": "stdout",
     "output_type": "stream",
     "text": [
      "20 AOIs in this ROI (ne-dev)\n"
     ]
    }
   ],
   "source": [
    "# Get a list of AOI tags.\n",
    "globstring = '%s/tiles/*' % roi_home\n",
    "tile_dnames = glob.glob(globstring)\n",
    "aoi_names = [\n",
    "    z[z.rfind('/') + 1 :]\n",
    "    for z in tile_dnames\n",
    "]\n",
    "print('%d AOIs in this ROI (%s)' % (len(aoi_names), roi_name))"
   ]
  },
  {
   "cell_type": "code",
   "execution_count": 10,
   "id": "15617c27-abeb-4c5e-b2a6-6f4500880957",
   "metadata": {
    "executionInfo": {
     "elapsed": 1,
     "status": "ok",
     "timestamp": 1753976650450,
     "user": {
      "displayName": "John Collins",
      "userId": "16643596247369517939"
     },
     "user_tz": 240
    },
    "id": "15617c27-abeb-4c5e-b2a6-6f4500880957"
   },
   "outputs": [],
   "source": [
    "# In the loop below, we will also accumulate a histogram of class labels.\n",
    "# This will be saved and used during model training to balance sampling.\n",
    "class_counts = {z: 0 for z in range(num_classes)}"
   ]
  },
  {
   "cell_type": "code",
   "execution_count": 11,
   "id": "00621818-4f5a-4e62-917c-156f1d768e84",
   "metadata": {
    "colab": {
     "base_uri": "https://localhost:8080/"
    },
    "executionInfo": {
     "elapsed": 13403094,
     "status": "ok",
     "timestamp": 1753990053545,
     "user": {
      "displayName": "John Collins",
      "userId": "16643596247369517939"
     },
     "user_tz": 240
    },
    "id": "00621818-4f5a-4e62-917c-156f1d768e84",
    "outputId": "2ff2cc40-3a35-4b31-be96-9e0560a50dc7"
   },
   "outputs": [
    {
     "name": "stdout",
     "output_type": "stream",
     "text": [
      "\n",
      "handling AOI 0732w-415n (0 / 20)\n",
      "60 tiles in this AOI\n",
      "wrote ../data/ne-dev/encodings/0732w-415n.pkl\n",
      "\n",
      "handling AOI 0732w-444n (1 / 20)\n",
      "61 tiles in this AOI\n",
      "wrote ../data/ne-dev/encodings/0732w-444n.pkl\n",
      "\n",
      "handling AOI 0731w-415n (2 / 20)\n",
      "63 tiles in this AOI\n",
      "wrote ../data/ne-dev/encodings/0731w-415n.pkl\n",
      "\n",
      "handling AOI 0732w-426n (3 / 20)\n",
      "22 tiles in this AOI\n",
      "wrote ../data/ne-dev/encodings/0732w-426n.pkl\n",
      "\n",
      "handling AOI 0732w-418n (4 / 20)\n",
      "36 tiles in this AOI\n",
      "wrote ../data/ne-dev/encodings/0732w-418n.pkl\n",
      "\n",
      "handling AOI 0733w-444n (5 / 20)\n",
      "18 tiles in this AOI\n",
      "wrote ../data/ne-dev/encodings/0733w-444n.pkl\n",
      "\n",
      "handling AOI 0735w-415n (6 / 20)\n",
      "58 tiles in this AOI\n",
      "wrote ../data/ne-dev/encodings/0735w-415n.pkl\n",
      "\n",
      "handling AOI 0733w-445n (7 / 20)\n",
      "44 tiles in this AOI\n",
      "wrote ../data/ne-dev/encodings/0733w-445n.pkl\n",
      "\n",
      "handling AOI 0733w-423n (8 / 20)\n",
      "41 tiles in this AOI\n",
      "wrote ../data/ne-dev/encodings/0733w-423n.pkl\n",
      "\n",
      "handling AOI 0735w-414n (9 / 20)\n",
      "63 tiles in this AOI\n",
      "wrote ../data/ne-dev/encodings/0735w-414n.pkl\n",
      "\n",
      "handling AOI 0732w-413n (10 / 20)\n",
      "63 tiles in this AOI\n",
      "wrote ../data/ne-dev/encodings/0732w-413n.pkl\n",
      "\n",
      "handling AOI 0733w-414n (11 / 20)\n",
      "62 tiles in this AOI\n",
      "wrote ../data/ne-dev/encodings/0733w-414n.pkl\n",
      "\n",
      "handling AOI 0731w-414n (12 / 20)\n",
      "63 tiles in this AOI\n",
      "wrote ../data/ne-dev/encodings/0731w-414n.pkl\n",
      "\n",
      "handling AOI 0735w-446n (13 / 20)\n",
      "39 tiles in this AOI\n",
      "wrote ../data/ne-dev/encodings/0735w-446n.pkl\n",
      "\n",
      "handling AOI 0733w-413n (14 / 20)\n",
      "63 tiles in this AOI\n",
      "wrote ../data/ne-dev/encodings/0733w-413n.pkl\n",
      "\n",
      "handling AOI 0731w-413n (15 / 20)\n",
      "63 tiles in this AOI\n",
      "wrote ../data/ne-dev/encodings/0731w-413n.pkl\n",
      "\n",
      "handling AOI 0732w-445n (16 / 20)\n",
      "52 tiles in this AOI\n",
      "wrote ../data/ne-dev/encodings/0732w-445n.pkl\n",
      "\n",
      "handling AOI 0734w-414n (17 / 20)\n",
      "63 tiles in this AOI\n",
      "wrote ../data/ne-dev/encodings/0734w-414n.pkl\n",
      "\n",
      "handling AOI 0733w-424n (18 / 20)\n",
      "59 tiles in this AOI\n",
      "wrote ../data/ne-dev/encodings/0733w-424n.pkl\n",
      "\n",
      "handling AOI 0735w-413n (19 / 20)\n",
      "63 tiles in this AOI\n",
      "wrote ../data/ne-dev/encodings/0735w-413n.pkl\n"
     ]
    }
   ],
   "source": [
    "# Loop over AOIs\n",
    "\n",
    "for k, aoi_name in enumerate(aoi_names):\n",
    "\n",
    "    fname = '%s/encodings/%s.pkl' % (roi_home, aoi_name)\n",
    "    if os.path.exists(fname):\n",
    "      print('\\nskipping %s' % (fname))\n",
    "      continue\n",
    "\n",
    "    print('\\nhandling AOI %s (%d / %d)' % (aoi_name, k, len(aoi_names)))\n",
    "\n",
    "    # This will hold all encodings for this AOI\n",
    "    tile_encodings_for_this_aoi = []\n",
    "\n",
    "    # Get a list of all tile files for this AOI.\n",
    "    globstring = '%s/tiles/%s/*.pq' % (roi_home, aoi_name)\n",
    "    fnames = glob.glob(globstring)\n",
    "    print('%d tiles in this AOI' % len(fnames))\n",
    "\n",
    "    # Loop over tiles.\n",
    "    for fname in fnames:\n",
    "\n",
    "        # Extract the base name for this tile.\n",
    "        ix0 = fname.rfind('/') + 1\n",
    "        ix1 = fname.rfind('.')\n",
    "        tile_name = fname[ix0 : ix1]\n",
    "\n",
    "        tile_vectors = []\n",
    "        tile_labels = []\n",
    "        gdf = geopandas.read_parquet(fname)\n",
    "        for _, rec in gdf.sample(frac=1).iterrows():\n",
    "\n",
    "            # Geometric encoding vector\n",
    "            encoding = encoder.encode(rec['geometry']).values()\n",
    "\n",
    "            # One-hot label vector\n",
    "            etype = np.zeros(num_classes)\n",
    "            label_string = '%s : %s' % (rec['category'], rec['label'])\n",
    "            label_id = label_id_lookup[label_string]\n",
    "            etype[label_id] = 1.0\n",
    "\n",
    "            # Save the label as an integer too. This will make training easier.\n",
    "            tile_labels.append(label_id)\n",
    "\n",
    "            # Keep track of class counts across all tiles.\n",
    "            class_counts[label_id] += 1\n",
    "\n",
    "            # Concatenate the encoding and type vectors.\n",
    "            vector = np.hstack((etype, encoding))\n",
    "            tile_vectors.append(vector)\n",
    "\n",
    "        # Combine all per-feature vectors into one big feature matrix.\n",
    "        tile_features = np.vstack(tile_vectors)\n",
    "\n",
    "        tile_encodings_for_this_aoi.append({\n",
    "            'aoi_name': aoi_name,\n",
    "            'tile_name': tile_name,\n",
    "            'features': tile_features,\n",
    "            'labels': np.array(tile_labels),\n",
    "        })\n",
    "\n",
    "    # Save all of the encodings for this tile.\n",
    "    fname = '%s/encodings/%s.pkl' % (roi_home, aoi_name)\n",
    "    os.makedirs(os.path.dirname(fname), exist_ok=True)\n",
    "    with open(fname, 'wb') as dest:\n",
    "        pickle.dump(tile_encodings_for_this_aoi, dest)\n",
    "    print('wrote %s' % (fname))\n"
   ]
  },
  {
   "cell_type": "code",
   "execution_count": 12,
   "id": "ff5c7505-e269-4283-901b-6330dab73dac",
   "metadata": {
    "executionInfo": {
     "elapsed": 25,
     "status": "ok",
     "timestamp": 1753990053566,
     "user": {
      "displayName": "John Collins",
      "userId": "16643596247369517939"
     },
     "user_tz": 240
    },
    "id": "ff5c7505-e269-4283-901b-6330dab73dac"
   },
   "outputs": [],
   "source": [
    "# Save the label probabilities.\n",
    "total = 0.0\n",
    "for key in class_counts:\n",
    "    total += class_counts[key]\n",
    "\n",
    "records = [\n",
    "    {\n",
    "        'label': z,\n",
    "        'count': class_counts[z],\n",
    "        'prob': class_counts[z] / total\n",
    "    } for z in range(num_classes)\n",
    "]\n",
    "fname = '%s/class_info.csv' % roi_home\n",
    "pd.DataFrame(records).to_csv(fname, index=False)"
   ]
  },
  {
   "cell_type": "markdown",
   "id": "qrAY8WfeTHde",
   "metadata": {
    "id": "qrAY8WfeTHde"
   },
   "source": [
    "## QA and visualizations"
   ]
  },
  {
   "cell_type": "code",
   "execution_count": 13,
   "id": "fb3c8c0f-d91b-4952-8992-7e0aba8b591a",
   "metadata": {
    "colab": {
     "base_uri": "https://localhost:8080/"
    },
    "executionInfo": {
     "elapsed": 3,
     "status": "ok",
     "timestamp": 1753990053570,
     "user": {
      "displayName": "John Collins",
      "userId": "16643596247369517939"
     },
     "user_tz": 240
    },
    "id": "fb3c8c0f-d91b-4952-8992-7e0aba8b591a",
    "outputId": "ae85e159-8b10-470c-ba92-1aef63e61a70"
   },
   "outputs": [
    {
     "name": "stdout",
     "output_type": "stream",
     "text": [
      "20\n"
     ]
    }
   ],
   "source": [
    "import glob\n",
    "globstring = '%s/encodings/*.pkl' % roi_home\n",
    "fnames = glob.glob(globstring)\n",
    "print(len(fnames))"
   ]
  },
  {
   "cell_type": "code",
   "execution_count": 14,
   "id": "3db6eb96-8205-4d33-b322-222601bbcaf8",
   "metadata": {
    "executionInfo": {
     "elapsed": 1,
     "status": "ok",
     "timestamp": 1753990053572,
     "user": {
      "displayName": "John Collins",
      "userId": "16643596247369517939"
     },
     "user_tz": 240
    },
    "id": "3db6eb96-8205-4d33-b322-222601bbcaf8"
   },
   "outputs": [],
   "source": [
    "with open(fnames[0], 'rb') as source:\n",
    "    a = pickle.load(source)"
   ]
  },
  {
   "cell_type": "code",
   "execution_count": 15,
   "id": "9a0be4b5-0745-4c30-a8d0-d010e7224864",
   "metadata": {
    "colab": {
     "base_uri": "https://localhost:8080/"
    },
    "executionInfo": {
     "elapsed": 3,
     "status": "ok",
     "timestamp": 1753990053575,
     "user": {
      "displayName": "John Collins",
      "userId": "16643596247369517939"
     },
     "user_tz": 240
    },
    "id": "9a0be4b5-0745-4c30-a8d0-d010e7224864",
    "outputId": "fcfa1db8-c7b2-4ff6-dcb2-f66212fc85c1"
   },
   "outputs": [
    {
     "data": {
      "text/plain": [
       "dict_keys(['aoi_name', 'tile_name', 'features', 'labels'])"
      ]
     },
     "execution_count": 15,
     "metadata": {},
     "output_type": "execute_result"
    }
   ],
   "source": [
    "a[0].keys()"
   ]
  },
  {
   "cell_type": "code",
   "execution_count": 16,
   "id": "15ec05ca-f2e8-45f8-af9c-d64c8dffce03",
   "metadata": {
    "colab": {
     "base_uri": "https://localhost:8080/"
    },
    "executionInfo": {
     "elapsed": 4,
     "status": "ok",
     "timestamp": 1753990053579,
     "user": {
      "displayName": "John Collins",
      "userId": "16643596247369517939"
     },
     "user_tz": 240
    },
    "id": "15ec05ca-f2e8-45f8-af9c-d64c8dffce03",
    "outputId": "3eb8b646-0a5b-4c40-ffb0-33ac07f8b607"
   },
   "outputs": [
    {
     "data": {
      "text/plain": [
       "numpy.ndarray"
      ]
     },
     "execution_count": 16,
     "metadata": {},
     "output_type": "execute_result"
    }
   ],
   "source": [
    "type(a[0]['labels'])"
   ]
  },
  {
   "cell_type": "code",
   "execution_count": null,
   "id": "c6709f6d-b367-4101-9468-04e0aec438bf",
   "metadata": {
    "executionInfo": {
     "elapsed": 1,
     "status": "ok",
     "timestamp": 1753990053579,
     "user": {
      "displayName": "John Collins",
      "userId": "16643596247369517939"
     },
     "user_tz": 240
    },
    "id": "c6709f6d-b367-4101-9468-04e0aec438bf"
   },
   "outputs": [],
   "source": []
  }
 ],
 "metadata": {
  "colab": {
   "provenance": []
  },
  "kernelspec": {
   "display_name": "Python 3 (ipykernel)",
   "language": "python",
   "name": "python3"
  },
  "language_info": {
   "codemirror_mode": {
    "name": "ipython",
    "version": 3
   },
   "file_extension": ".py",
   "mimetype": "text/x-python",
   "name": "python",
   "nbconvert_exporter": "python",
   "pygments_lexer": "ipython3",
   "version": "3.12.4"
  }
 },
 "nbformat": 4,
 "nbformat_minor": 5
}
