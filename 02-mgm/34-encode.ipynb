{
 "cells": [
  {
   "cell_type": "markdown",
   "id": "1dc8646d-83e6-4f48-8ea0-7df821dad8e9",
   "metadata": {
    "id": "1dc8646d-83e6-4f48-8ea0-7df821dad8e9"
   },
   "source": [
    "### VERGE: Vector-mode Regional Geospatial Embeddings\n",
    "\n",
    "# Encode geospatial data for VERGE processing\n",
    "\n",
    "Elsewhere we assembled geospatial data for a bunch of tiles.\n",
    "Here we come up with encodings for each such entitiy.\n",
    "The encodings will consist of a concatenation of a Multi-Point Proximity (MPP) encoding\n",
    "and a one-hot vector indicating the entity type."
   ]
  },
  {
   "cell_type": "markdown",
   "id": "PUsGDRtWRwWU",
   "metadata": {
    "id": "PUsGDRtWRwWU"
   },
   "source": [
    "## Processing setup"
   ]
  },
  {
   "cell_type": "code",
   "execution_count": 1,
   "id": "TradNao5RubY",
   "metadata": {
    "colab": {
     "base_uri": "https://localhost:8080/"
    },
    "executionInfo": {
     "elapsed": 585,
     "status": "ok",
     "timestamp": 1753546561103,
     "user": {
      "displayName": "John Collins",
      "userId": "16643596247369517939"
     },
     "user_tz": 240
    },
    "id": "TradNao5RubY",
    "outputId": "55cbb7cf-0ffc-43b5-e86f-160d8c73e57d"
   },
   "outputs": [],
   "source": [
    "# # Google colab setup\n",
    "# import os\n",
    "# from google.colab import drive\n",
    "# drive.mount('/content/drive')\n",
    "# project_home = '/content/drive/MyDrive/Projects/verge'\n",
    "# os.chdir(project_home)"
   ]
  },
  {
   "cell_type": "code",
   "execution_count": 2,
   "id": "6werPiQKRzWL",
   "metadata": {
    "colab": {
     "base_uri": "https://localhost:8080/"
    },
    "executionInfo": {
     "elapsed": 6627,
     "status": "ok",
     "timestamp": 1753546567726,
     "user": {
      "displayName": "John Collins",
      "userId": "16643596247369517939"
     },
     "user_tz": 240
    },
    "id": "6werPiQKRzWL",
    "outputId": "c5d92626-ecf6-42a6-9a12-c003503eb50c"
   },
   "outputs": [],
   "source": [
    "# !pip install geo-encodings"
   ]
  },
  {
   "cell_type": "code",
   "execution_count": 3,
   "id": "ddQx34FJgQNk",
   "metadata": {
    "executionInfo": {
     "elapsed": 21,
     "status": "ok",
     "timestamp": 1753546567727,
     "user": {
      "displayName": "John Collins",
      "userId": "16643596247369517939"
     },
     "user_tz": 240
    },
    "id": "ddQx34FJgQNk"
   },
   "outputs": [],
   "source": [
    "# Local processing setup\n",
    "project_home = '..'"
   ]
  },
  {
   "cell_type": "markdown",
   "id": "8mklkKwDgTJr",
   "metadata": {
    "id": "8mklkKwDgTJr"
   },
   "source": [
    "## Source"
   ]
  },
  {
   "cell_type": "code",
   "execution_count": 4,
   "id": "1ccf4cd8-7581-4f1b-8b4f-5c7b78faefe2",
   "metadata": {
    "executionInfo": {
     "elapsed": 2,
     "status": "ok",
     "timestamp": 1753546567730,
     "user": {
      "displayName": "John Collins",
      "userId": "16643596247369517939"
     },
     "user_tz": 240
    },
    "id": "1ccf4cd8-7581-4f1b-8b4f-5c7b78faefe2"
   },
   "outputs": [],
   "source": [
    "# The name of the ROI to use.\n",
    "roi_name = 'ne-dev'\n",
    "\n",
    "# The name of the general-purpose data directory.\n",
    "data_home = '%s/data' % (project_home)\n",
    "\n",
    "# The name of the ROI-specific data directory.\n",
    "roi_home = '%s/data/%s' % (project_home, roi_name)\n"
   ]
  },
  {
   "cell_type": "markdown",
   "id": "JXr75ACqRz26",
   "metadata": {
    "id": "JXr75ACqRz26"
   },
   "source": [
    "## Setup"
   ]
  },
  {
   "cell_type": "code",
   "execution_count": 5,
   "id": "4763c195-85b1-472a-8226-54b8dc137951",
   "metadata": {
    "executionInfo": {
     "elapsed": 696,
     "status": "ok",
     "timestamp": 1753546568427,
     "user": {
      "displayName": "John Collins",
      "userId": "16643596247369517939"
     },
     "user_tz": 240
    },
    "id": "4763c195-85b1-472a-8226-54b8dc137951"
   },
   "outputs": [],
   "source": [
    "import pandas as pd\n",
    "import numpy as np\n",
    "import glob\n",
    "import geopandas\n",
    "import os\n",
    "import pickle\n",
    "import json\n",
    "from geo_encodings import MPPEncoder"
   ]
  },
  {
   "cell_type": "markdown",
   "id": "826034c6-7dd0-4110-9ba4-285cee0a275e",
   "metadata": {
    "id": "826034c6-7dd0-4110-9ba4-285cee0a275e"
   },
   "source": [
    "## Data prep"
   ]
  },
  {
   "cell_type": "code",
   "execution_count": 6,
   "id": "da8d2541-fac6-431e-ab0f-dfd217fc05ae",
   "metadata": {
    "executionInfo": {
     "elapsed": 12,
     "status": "ok",
     "timestamp": 1753546568443,
     "user": {
      "displayName": "John Collins",
      "userId": "16643596247369517939"
     },
     "user_tz": 240
    },
    "id": "da8d2541-fac6-431e-ab0f-dfd217fc05ae"
   },
   "outputs": [],
   "source": [
    "# Read the ROI definition.\n",
    "fname = '%s/roi.json' % roi_home\n",
    "with open(fname) as source:\n",
    "    roi = json.load(source)\n",
    "\n",
    "tile_size = roi['tile_size']\n",
    "tile_shift = roi['tile_shift']\n",
    "encoding_resolution = roi['encoding_resolution']"
   ]
  },
  {
   "cell_type": "code",
   "execution_count": 7,
   "id": "e3e313df-516d-4412-8e45-5e1ecfe2bd80",
   "metadata": {
    "colab": {
     "base_uri": "https://localhost:8080/"
    },
    "executionInfo": {
     "elapsed": 30,
     "status": "ok",
     "timestamp": 1753546568472,
     "user": {
      "displayName": "John Collins",
      "userId": "16643596247369517939"
     },
     "user_tz": 240
    },
    "id": "e3e313df-516d-4412-8e45-5e1ecfe2bd80",
    "outputId": "f8451b31-81c7-45b7-c579-cdd7a4c9aa0e"
   },
   "outputs": [
    {
     "name": "stdout",
     "output_type": "stream",
     "text": [
      "22 labels\n"
     ]
    }
   ],
   "source": [
    "# Read the list of labels.\n",
    "fname = '%s/labels.csv' % data_home\n",
    "labels = pd.read_csv(fname)\n",
    "num_classes = len(labels)\n",
    "print('%d labels' % num_classes)\n",
    "\n",
    "label_id_lookup = {\n",
    "    z['label']: z['id']\n",
    "    for z in labels.to_dict('records')\n",
    "}"
   ]
  },
  {
   "cell_type": "code",
   "execution_count": 8,
   "id": "140b7b2e-d2b1-4db1-b5fb-5ab088d3f62c",
   "metadata": {
    "colab": {
     "base_uri": "https://localhost:8080/"
    },
    "executionInfo": {
     "elapsed": 25,
     "status": "ok",
     "timestamp": 1753546568496,
     "user": {
      "displayName": "John Collins",
      "userId": "16643596247369517939"
     },
     "user_tz": 240
    },
    "id": "140b7b2e-d2b1-4db1-b5fb-5ab088d3f62c",
    "outputId": "d2a02d5e-1b50-4139-a20e-9ea25d87eaae"
   },
   "outputs": [
    {
     "name": "stdout",
     "output_type": "stream",
     "text": [
      "400 elements in encodings\n"
     ]
    }
   ],
   "source": [
    "# Set up the MPP encoder.\n",
    "encoder = MPPEncoder(\n",
    "    region=[0, 0, tile_size, tile_size],\n",
    "    resolution=encoding_resolution,\n",
    "    center=True\n",
    ")\n",
    "print('%d elements in encodings' % len(encoder))"
   ]
  },
  {
   "cell_type": "markdown",
   "id": "14f9df2f-3bbf-437f-832c-119064c6cc7a",
   "metadata": {
    "id": "14f9df2f-3bbf-437f-832c-119064c6cc7a"
   },
   "source": [
    "## Processing"
   ]
  },
  {
   "cell_type": "code",
   "execution_count": 9,
   "id": "a2f5a8ae-8b00-4ee7-92c1-b9bab9a52fa4",
   "metadata": {
    "colab": {
     "base_uri": "https://localhost:8080/"
    },
    "executionInfo": {
     "elapsed": 5,
     "status": "ok",
     "timestamp": 1753546568515,
     "user": {
      "displayName": "John Collins",
      "userId": "16643596247369517939"
     },
     "user_tz": 240
    },
    "id": "a2f5a8ae-8b00-4ee7-92c1-b9bab9a52fa4",
    "outputId": "1c4d771e-8211-4f9a-a2da-ef379712ad26"
   },
   "outputs": [
    {
     "name": "stdout",
     "output_type": "stream",
     "text": [
      "20 AOIs in this ROI (ne-dev)\n"
     ]
    }
   ],
   "source": [
    "# Get a list of AOI tags.\n",
    "globstring = '%s/tiles/*' % roi_home\n",
    "tile_dnames = glob.glob(globstring)\n",
    "aoi_names = [\n",
    "    z[z.rfind('/') + 1 :]\n",
    "    for z in tile_dnames\n",
    "]\n",
    "print('%d AOIs in this ROI (%s)' % (len(aoi_names), roi_name))"
   ]
  },
  {
   "cell_type": "code",
   "execution_count": 10,
   "id": "15617c27-abeb-4c5e-b2a6-6f4500880957",
   "metadata": {},
   "outputs": [],
   "source": [
    "# In he loop below, we will also accumulate a histogram of class labels. \n",
    "# This will be saved and used during model training to balance sampling.\n",
    "class_counts = {z: 0 for z in range(num_classes)}"
   ]
  },
  {
   "cell_type": "code",
   "execution_count": 12,
   "id": "00621818-4f5a-4e62-917c-156f1d768e84",
   "metadata": {
    "colab": {
     "base_uri": "https://localhost:8080/"
    },
    "executionInfo": {
     "elapsed": 9474878,
     "status": "ok",
     "timestamp": 1753561467346,
     "user": {
      "displayName": "John Collins",
      "userId": "16643596247369517939"
     },
     "user_tz": 240
    },
    "id": "00621818-4f5a-4e62-917c-156f1d768e84",
    "outputId": "b7bd6ff0-1dae-4932-a012-7aad04916503"
   },
   "outputs": [
    {
     "name": "stdout",
     "output_type": "stream",
     "text": [
      "\n",
      "handling AOI 0732w-415n (0 / 20)\n",
      "60 tiles\n",
      "\n",
      "handling AOI 0732w-444n (1 / 20)\n",
      "61 tiles\n",
      "\n",
      "handling AOI 0731w-415n (2 / 20)\n",
      "63 tiles\n",
      "\n",
      "handling AOI 0732w-426n (3 / 20)\n",
      "22 tiles\n",
      "\n",
      "handling AOI 0732w-418n (4 / 20)\n",
      "36 tiles\n"
     ]
    }
   ],
   "source": [
    "# Loop over tiles\n",
    "\n",
    "for k, aoi_name in enumerate(aoi_names[:5]):\n",
    "\n",
    "    print('\\nhandling AOI %s (%d / %d)' % (aoi_name, k, len(aoi_names)))\n",
    "\n",
    "    # # This will hold all encodings for this AOI\n",
    "    # tile_encodings_for_aoi = []\n",
    "\n",
    "    # Get a list of all tiles for this AOI.\n",
    "    globstring = '%s/tiles/%s/*.pq' % (roi_home, aoi_name)\n",
    "    fnames = glob.glob(globstring)\n",
    "    print('%d tiles' % len(fnames))\n",
    "\n",
    "    # # Loop over tiles. \n",
    "    # for fname in fnames:\n",
    "    #     tile_vectors = []\n",
    "    #     gdf = geopandas.read_parquet(fname)\n",
    "    #     # for _, rec in gdf.iterrows():\n",
    "    #     for _, rec in gdf.sample(frac=1).iterrows():\n",
    "    #         encoding = encoder.encode(rec['geometry']).values()\n",
    "    #         etype = np.zeros(label_count)\n",
    "    #         label_string = '%s : %s' % (rec['category'], rec['label'])\n",
    "    #         label_id = label_id_lookup[label_string]\n",
    "    #         etype[label_id] = 1.0\n",
    "\n",
    "    #         # Concatenate the encoding and type vectors.\n",
    "    #         vector = np.hstack((etype, encoding))\n",
    "    #         tile_vectors.append(vector)\n",
    "    #     tile_encoding = np.vstack(tile_vectors)\n",
    "    #     tile_encodings_for_aoi.append(tile_encoding)\n",
    "        \n",
    "    # Loop over tiles. \n",
    "    for fname in fnames:\n",
    "\n",
    "        # Extract the base name for this tile.\n",
    "        ix0 = fname.rfind('/') + 1\n",
    "        ix1 = fname.rfind('.')\n",
    "        tile_name = fname[ix0 : ix1] \n",
    "        \n",
    "        tile_vectors = []\n",
    "        tile_labels = []\n",
    "        gdf = geopandas.read_parquet(fname)\n",
    "        for _, rec in gdf.sample(frac=1).iterrows():\n",
    "            \n",
    "            # Geometric encoding vector\n",
    "            encoding = encoder.encode(rec['geometry']).values()\n",
    "\n",
    "            # One-hot label vector\n",
    "            etype = np.zeros(num_classes)\n",
    "            label_string = '%s : %s' % (rec['category'], rec['label'])\n",
    "            label_id = label_id_lookup[label_string]\n",
    "            etype[label_id] = 1.0\n",
    "\n",
    "            # Save the label as an integer too. This will make training easier. \n",
    "            tile_labels.append(label_id)\n",
    "            class_counts[label_id] += 1\n",
    "\n",
    "            # Concatenate the encoding and type vectors.\n",
    "            vector = np.hstack((etype, encoding))\n",
    "            tile_vectors.append(vector)\n",
    "\n",
    "        # Combine all per-feature vectors into one big feature matrix.\n",
    "        tile_features = np.vstack(tile_vectors)\n",
    "\n",
    "        # Save the encodings as a NPZ file.\n",
    "        ofname = '%s/encodings/%s/%s.npz' % (roi_home, aoi_name, tile_name)\n",
    "        os.makedirs(os.path.dirname(ofname), exist_ok=True)\n",
    "        np.savez_compressed(ofname, features=tile_features, labels=tile_labels)\n",
    "        # print('wrote: %s' % ofname)\n",
    "\n",
    "\n",
    "    # # Save all of the encodings for this tile.\n",
    "    # fname = '%s/encodings/%s.pkl' % (roi_home, aoi_name)\n",
    "    # os.makedirs(os.path.dirname(fname), exist_ok=True)\n",
    "    # with open(fname, 'wb') as dest:\n",
    "    #     pickle.dump(tile_encodings_for_aoi, dest)\n",
    "    # print('wrote %s' % (fname))\n"
   ]
  },
  {
   "cell_type": "code",
   "execution_count": 15,
   "id": "ff5c7505-e269-4283-901b-6330dab73dac",
   "metadata": {},
   "outputs": [],
   "source": [
    "# Save the label probabilities.\n",
    "total = 0.0\n",
    "for key in class_counts:\n",
    "    total += class_counts[key]\n",
    "\n",
    "records = [\n",
    "    {\n",
    "        'label': z,q\n",
    "        'count': class_counts[z],\n",
    "        'prob': class_counts[z] / total\n",
    "    } for z in range(num_classes)\n",
    "]\n",
    "fname = '%s/class_info.csv' % roi_home\n",
    "pd.DataFrame(records).to_csv(fname, index=False)"
   ]
  },
  {
   "cell_type": "markdown",
   "id": "qrAY8WfeTHde",
   "metadata": {
    "id": "qrAY8WfeTHde"
   },
   "source": [
    "## QA and visualizations"
   ]
  },
  {
   "cell_type": "code",
   "execution_count": null,
   "id": "1fd8e6f7-18c4-46c9-a576-2dae5e2e8e67",
   "metadata": {},
   "outputs": [],
   "source": [
    "import glob\n",
    "globstring = '%s/encodings/*/*.npz' % (roi_home)\n",
    "fnames = glob.glob(globstring)\n",
    "print('%d files' % len(fnames))\n",
    "print(fnames[0])"
   ]
  },
  {
   "cell_type": "code",
   "execution_count": null,
   "id": "e6beca89-6208-4877-9c25-fdd8fbce0559",
   "metadata": {},
   "outputs": [],
   "source": [
    "data = np.load(fnames[0])\n",
    "print(data['features'].shape, data['labels'].shape)"
   ]
  },
  {
   "cell_type": "code",
   "execution_count": null,
   "id": "d89aa67b-4409-407a-be60-2bfd085ac669",
   "metadata": {},
   "outputs": [],
   "source": [
    "data['labels']"
   ]
  },
  {
   "cell_type": "code",
   "execution_count": null,
   "id": "186a8b50-742f-4f72-81c3-fedee858e351",
   "metadata": {
    "executionInfo": {
     "elapsed": 2,
     "status": "ok",
     "timestamp": 1753561467361,
     "user": {
      "displayName": "John Collins",
      "userId": "16643596247369517939"
     },
     "user_tz": 240
    },
    "id": "186a8b50-742f-4f72-81c3-fedee858e351"
   },
   "outputs": [],
   "source": [
    "# import numpy as np\n",
    "# import matplotlib.pyplot as plt\n",
    "\n",
    "# # Create a 2D array (example data)\n",
    "# data = tile_encodings_for_aoi[0]\n",
    "\n",
    "# # Plot as heatmap\n",
    "# plt.imshow(data, cmap='viridis', origin='upper')\n",
    "# plt.colorbar(label='Intensity')\n",
    "# plt.title('encodings')\n",
    "# plt.ylabel('entity number')\n",
    "# plt.xlabel('encoding element')\n",
    "# plt.show()\n"
   ]
  },
  {
   "cell_type": "code",
   "execution_count": null,
   "id": "fb3c8c0f-d91b-4952-8992-7e0aba8b591a",
   "metadata": {
    "executionInfo": {
     "elapsed": 1,
     "status": "ok",
     "timestamp": 1753561467368,
     "user": {
      "displayName": "John Collins",
      "userId": "16643596247369517939"
     },
     "user_tz": 240
    },
    "id": "fb3c8c0f-d91b-4952-8992-7e0aba8b591a"
   },
   "outputs": [],
   "source": [
    "# gdf[['category', 'label']].value_counts().sort_index()"
   ]
  }
 ],
 "metadata": {
  "colab": {
   "provenance": []
  },
  "kernelspec": {
   "display_name": "Python 3 (ipykernel)",
   "language": "python",
   "name": "python3"
  },
  "language_info": {
   "codemirror_mode": {
    "name": "ipython",
    "version": 3
   },
   "file_extension": ".py",
   "mimetype": "text/x-python",
   "name": "python",
   "nbconvert_exporter": "python",
   "pygments_lexer": "ipython3",
   "version": "3.12.4"
  }
 },
 "nbformat": 4,
 "nbformat_minor": 5
}
