{
 "cells": [
  {
   "cell_type": "markdown",
   "id": "1dc8646d-83e6-4f48-8ea0-7df821dad8e9",
   "metadata": {
    "id": "1dc8646d-83e6-4f48-8ea0-7df821dad8e9"
   },
   "source": [
    "### VERGE: Vector-mode Regional Geospatial Embeddings\n",
    "\n",
    "# Encode geospatial data for VERGE processing\n",
    "\n",
    "Elsewhere we assembled geospatial data for a bunch of tiles.\n",
    "Here we come up with encodings for each such entitiy.\n",
    "The encodings will consist of a concatenation of a Multi-Point Proximity (MPP) encoding\n",
    "and a one-hot vector indicating the entity type."
   ]
  },
  {
   "cell_type": "markdown",
   "id": "PUsGDRtWRwWU",
   "metadata": {
    "id": "PUsGDRtWRwWU"
   },
   "source": [
    "## Colab setup"
   ]
  },
  {
   "cell_type": "code",
   "execution_count": null,
   "id": "TradNao5RubY",
   "metadata": {
    "colab": {
     "base_uri": "https://localhost:8080/"
    },
    "executionInfo": {
     "elapsed": 754,
     "status": "ok",
     "timestamp": 1750875355619,
     "user": {
      "displayName": "John Collins",
      "userId": "16643596247369517939"
     },
     "user_tz": 240
    },
    "id": "TradNao5RubY",
    "outputId": "a27d2f88-b1b3-42fb-f6bc-d38eb0f7383d"
   },
   "outputs": [],
   "source": [
    "from google.colab import drive\n",
    "drive.mount('/content/drive')\n",
    "project_home = '/content/drive/MyDrive/Projects/verge'"
   ]
  },
  {
   "cell_type": "code",
   "execution_count": null,
   "id": "6werPiQKRzWL",
   "metadata": {
    "colab": {
     "base_uri": "https://localhost:8080/"
    },
    "executionInfo": {
     "elapsed": 6337,
     "status": "ok",
     "timestamp": 1750875361965,
     "user": {
      "displayName": "John Collins",
      "userId": "16643596247369517939"
     },
     "user_tz": 240
    },
    "id": "6werPiQKRzWL",
    "outputId": "2992c0bb-555e-4361-fa11-8510959fa4e4"
   },
   "outputs": [],
   "source": [
    "!pip install geo-encodings"
   ]
  },
  {
   "cell_type": "markdown",
   "id": "JXr75ACqRz26",
   "metadata": {
    "id": "JXr75ACqRz26"
   },
   "source": [
    "## Setup"
   ]
  },
  {
   "cell_type": "code",
   "execution_count": null,
   "id": "4763c195-85b1-472a-8226-54b8dc137951",
   "metadata": {
    "executionInfo": {
     "elapsed": 1,
     "status": "ok",
     "timestamp": 1750875361970,
     "user": {
      "displayName": "John Collins",
      "userId": "16643596247369517939"
     },
     "user_tz": 240
    },
    "id": "4763c195-85b1-472a-8226-54b8dc137951"
   },
   "outputs": [],
   "source": [
    "import pandas as pd\n",
    "import numpy as np\n",
    "import glob\n",
    "import geopandas\n",
    "import os\n",
    "import pickle\n",
    "\n",
    "from geo_encodings import MPPEncoder"
   ]
  },
  {
   "cell_type": "markdown",
   "id": "f1c39a9d-cbf7-4868-b9fe-bc7d6fd5fa71",
   "metadata": {
    "id": "f1c39a9d-cbf7-4868-b9fe-bc7d6fd5fa71"
   },
   "source": [
    "## Setup"
   ]
  },
  {
   "cell_type": "code",
   "execution_count": null,
   "id": "3409db26-b2a3-4c25-9c5b-745e6eeb70b0",
   "metadata": {
    "executionInfo": {
     "elapsed": 1,
     "status": "ok",
     "timestamp": 1750875361973,
     "user": {
      "displayName": "John Collins",
      "userId": "16643596247369517939"
     },
     "user_tz": 240
    },
    "id": "3409db26-b2a3-4c25-9c5b-745e6eeb70b0"
   },
   "outputs": [],
   "source": [
    "# This is the dimension of the (square) AOIs. Set thi to match what was used\n",
    "# when the tiles were created.\n",
    "aoi_size = 1000\n",
    "\n",
    "# This is the resolution of the MPP encoding.\n",
    "resolution = 50"
   ]
  },
  {
   "cell_type": "markdown",
   "id": "826034c6-7dd0-4110-9ba4-285cee0a275e",
   "metadata": {
    "id": "826034c6-7dd0-4110-9ba4-285cee0a275e"
   },
   "source": [
    "## Data prep"
   ]
  },
  {
   "cell_type": "code",
   "execution_count": null,
   "id": "e3e313df-516d-4412-8e45-5e1ecfe2bd80",
   "metadata": {
    "colab": {
     "base_uri": "https://localhost:8080/"
    },
    "executionInfo": {
     "elapsed": 7,
     "status": "ok",
     "timestamp": 1750875361981,
     "user": {
      "displayName": "John Collins",
      "userId": "16643596247369517939"
     },
     "user_tz": 240
    },
    "id": "e3e313df-516d-4412-8e45-5e1ecfe2bd80",
    "outputId": "56fd0945-c727-41a8-96c5-66da5609246a"
   },
   "outputs": [],
   "source": [
    "# Read the list of labels.\n",
    "fname = '%s/data/labels.csv' % project_home\n",
    "labels = pd.read_csv(fname)\n",
    "label_count = len(labels)\n",
    "print('%d labels' % label_count)\n",
    "\n",
    "label_id_lookup = {\n",
    "    z['label']: z['id']\n",
    "    for z in labels.to_dict('records')\n",
    "}"
   ]
  },
  {
   "cell_type": "code",
   "execution_count": null,
   "id": "140b7b2e-d2b1-4db1-b5fb-5ab088d3f62c",
   "metadata": {
    "colab": {
     "base_uri": "https://localhost:8080/"
    },
    "executionInfo": {
     "elapsed": 25,
     "status": "ok",
     "timestamp": 1750875362006,
     "user": {
      "displayName": "John Collins",
      "userId": "16643596247369517939"
     },
     "user_tz": 240
    },
    "id": "140b7b2e-d2b1-4db1-b5fb-5ab088d3f62c",
    "outputId": "bb688d04-0907-4922-a863-e345bcb1f52d"
   },
   "outputs": [],
   "source": [
    "# Set up the MPP encoder.\n",
    "encoder = MPPEncoder(\n",
    "    region=[0, 0, aoi_size, aoi_size],\n",
    "    resolution=resolution,\n",
    "    center=True\n",
    ")\n",
    "print('%d elements in encodings' % len(encoder))"
   ]
  },
  {
   "cell_type": "markdown",
   "id": "14f9df2f-3bbf-437f-832c-119064c6cc7a",
   "metadata": {
    "id": "14f9df2f-3bbf-437f-832c-119064c6cc7a"
   },
   "source": [
    "## Processing"
   ]
  },
  {
   "cell_type": "code",
   "execution_count": null,
   "id": "a2f5a8ae-8b00-4ee7-92c1-b9bab9a52fa4",
   "metadata": {
    "colab": {
     "base_uri": "https://localhost:8080/"
    },
    "executionInfo": {
     "elapsed": 8,
     "status": "ok",
     "timestamp": 1750875362015,
     "user": {
      "displayName": "John Collins",
      "userId": "16643596247369517939"
     },
     "user_tz": 240
    },
    "id": "a2f5a8ae-8b00-4ee7-92c1-b9bab9a52fa4",
    "outputId": "b815c083-6026-4d91-edf9-5c817159291c"
   },
   "outputs": [],
   "source": [
    "# Get a list of AOI tags.\n",
    "globstring = '%s/data/tiles/*' % project_home\n",
    "tile_dnames = glob.glob(globstring)\n",
    "aoi_names = [\n",
    "    z[z.rfind('/') + 1 :]\n",
    "    for z in tile_dnames\n",
    "]\n",
    "print('%d AOIs' % len(aoi_names))\n"
   ]
  },
  {
   "cell_type": "code",
   "execution_count": null,
   "id": "00621818-4f5a-4e62-917c-156f1d768e84",
   "metadata": {
    "colab": {
     "base_uri": "https://localhost:8080/"
    },
    "executionInfo": {
     "elapsed": 4323394,
     "status": "ok",
     "timestamp": 1750879685408,
     "user": {
      "displayName": "John Collins",
      "userId": "16643596247369517939"
     },
     "user_tz": 240
    },
    "id": "00621818-4f5a-4e62-917c-156f1d768e84",
    "outputId": "7d190b71-4451-477e-ae22-1e7844ac4e33"
   },
   "outputs": [],
   "source": [
    "# Loop over tiles\n",
    "\n",
    "for aoi_name in aoi_names:\n",
    "    print('\\nhandling tile %s' % aoi_name)\n",
    "\n",
    "    # This will hold all encodings for this AOI\n",
    "    tile_encodings_for_aoi = []\n",
    "\n",
    "    # Get a list of all tiles for this AOI.\n",
    "    globstring = '%s/data/tiles/%s/*.pq' % (project_home, aoi_name)\n",
    "    fnames = glob.glob(globstring)\n",
    "    print('%d tiles' % len(fnames))\n",
    "    for fname in fnames:\n",
    "        tile_vectors = []\n",
    "        gdf = geopandas.read_parquet(fname)\n",
    "        # for _, rec in gdf.iterrows():\n",
    "        for _, rec in gdf.sample(frac=1).iterrows():\n",
    "            encoding = encoder.encode(rec['geometry']).values()\n",
    "            etype = np.zeros(label_count)\n",
    "            label_string = '%s : %s' % (rec['category'], rec['label'])\n",
    "            label_id = label_id_lookup[label_string]\n",
    "            etype[label_id] = 1.0\n",
    "\n",
    "            # Concatenate the encoding and type vectors.\n",
    "            vector = np.hstack((etype, encoding))\n",
    "            tile_vectors.append(vector)\n",
    "        tile_encoding = np.vstack(tile_vectors)\n",
    "        tile_encodings_for_aoi.append(tile_encoding)\n",
    "\n",
    "    # Save all of the encodings for this tile.\n",
    "    fname = '%s/data/encodings/%s.pkl' % (project_home, aoi_name)\n",
    "    os.makedirs(os.path.dirname(fname), exist_ok=True)\n",
    "    with open(fname, 'wb') as dest:\n",
    "        pickle.dump(tile_encodings_for_aoi, dest)\n",
    "    print('wrote %s' % (fname))\n"
   ]
  },
  {
   "cell_type": "markdown",
   "id": "qrAY8WfeTHde",
   "metadata": {
    "id": "qrAY8WfeTHde"
   },
   "source": [
    "## QA / visualizations"
   ]
  },
  {
   "cell_type": "code",
   "execution_count": null,
   "id": "186a8b50-742f-4f72-81c3-fedee858e351",
   "metadata": {
    "colab": {
     "base_uri": "https://localhost:8080/",
     "height": 420
    },
    "executionInfo": {
     "elapsed": 568,
     "status": "ok",
     "timestamp": 1750879685961,
     "user": {
      "displayName": "John Collins",
      "userId": "16643596247369517939"
     },
     "user_tz": 240
    },
    "id": "186a8b50-742f-4f72-81c3-fedee858e351",
    "outputId": "d4ac558c-a7e9-4396-c3a5-395b1e700109"
   },
   "outputs": [],
   "source": [
    "import numpy as np\n",
    "import matplotlib.pyplot as plt\n",
    "\n",
    "# Create a 2D array (example data)\n",
    "data = tile_encodings_for_aoi[0]\n",
    "\n",
    "# Plot as heatmap\n",
    "plt.imshow(data, cmap='viridis', origin='upper')\n",
    "plt.colorbar(label='Intensity')\n",
    "plt.title('encodings')\n",
    "plt.ylabel('entity number')\n",
    "plt.xlabel('encoding element')\n",
    "plt.show()\n"
   ]
  },
  {
   "cell_type": "code",
   "execution_count": null,
   "id": "fb3c8c0f-d91b-4952-8992-7e0aba8b591a",
   "metadata": {
    "colab": {
     "base_uri": "https://localhost:8080/",
     "height": 238
    },
    "executionInfo": {
     "elapsed": 11,
     "status": "ok",
     "timestamp": 1750879685974,
     "user": {
      "displayName": "John Collins",
      "userId": "16643596247369517939"
     },
     "user_tz": 240
    },
    "id": "fb3c8c0f-d91b-4952-8992-7e0aba8b591a",
    "outputId": "5967ba7f-16d7-42df-de7b-e179b7b704fa"
   },
   "outputs": [],
   "source": [
    "gdf[['category', 'label']].value_counts().sort_index()"
   ]
  },
  {
   "cell_type": "code",
   "execution_count": null,
   "id": "2e9bde9f-327f-40db-81f4-cb9edd13e488",
   "metadata": {
    "executionInfo": {
     "elapsed": 103,
     "status": "ok",
     "timestamp": 1750879686075,
     "user": {
      "displayName": "John Collins",
      "userId": "16643596247369517939"
     },
     "user_tz": 240
    },
    "id": "2e9bde9f-327f-40db-81f4-cb9edd13e488"
   },
   "outputs": [],
   "source": []
  },
  {
   "cell_type": "code",
   "execution_count": null,
   "id": "be1832e3-3c33-4265-bd39-a662e84cdb03",
   "metadata": {
    "executionInfo": {
     "elapsed": 105,
     "status": "ok",
     "timestamp": 1750879686083,
     "user": {
      "displayName": "John Collins",
      "userId": "16643596247369517939"
     },
     "user_tz": 240
    },
    "id": "be1832e3-3c33-4265-bd39-a662e84cdb03"
   },
   "outputs": [],
   "source": []
  }
 ],
 "metadata": {
  "colab": {
   "provenance": []
  },
  "kernelspec": {
   "display_name": "Python 3 (ipykernel)",
   "language": "python",
   "name": "python3"
  },
  "language_info": {
   "codemirror_mode": {
    "name": "ipython",
    "version": 3
   },
   "file_extension": ".py",
   "mimetype": "text/x-python",
   "name": "python",
   "nbconvert_exporter": "python",
   "pygments_lexer": "ipython3",
   "version": "3.12.4"
  }
 },
 "nbformat": 4,
 "nbformat_minor": 5
}
