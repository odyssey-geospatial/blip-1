{
 "cells": [
  {
   "cell_type": "markdown",
   "id": "1dc8646d-83e6-4f48-8ea0-7df821dad8e9",
   "metadata": {},
   "source": [
    "# Visualize encodings for geospatial entities in a tile.\n"
   ]
  },
  {
   "cell_type": "code",
   "execution_count": null,
   "id": "4763c195-85b1-472a-8226-54b8dc137951",
   "metadata": {},
   "outputs": [],
   "source": [
    "import pandas as pd\n",
    "import numpy as np\n",
    "import glob\n",
    "import geopandas\n",
    "import os\n",
    "import pickle\n",
    "\n",
    "from geo_encodings import MPPEncoder\n",
    "\n",
    "import plotly\n",
    "from plotly.subplots import make_subplots\n",
    "from plotly.graph_objects import Scatter\n",
    "from geo_encodings import draw_shape\n"
   ]
  },
  {
   "cell_type": "markdown",
   "id": "f1c39a9d-cbf7-4868-b9fe-bc7d6fd5fa71",
   "metadata": {},
   "source": [
    "## Setup"
   ]
  },
  {
   "cell_type": "code",
   "execution_count": null,
   "id": "3409db26-b2a3-4c25-9c5b-745e6eeb70b0",
   "metadata": {},
   "outputs": [],
   "source": [
    "# This is the dimension of the (square) AOIs. Set thi to match what was used\n",
    "# when the tiles were created.\n",
    "aoi_size = 1000\n",
    "\n",
    "# This is the resolution of the MPP encoding.\n",
    "resolution = 50"
   ]
  },
  {
   "cell_type": "markdown",
   "id": "826034c6-7dd0-4110-9ba4-285cee0a275e",
   "metadata": {},
   "source": [
    "## Data prep"
   ]
  },
  {
   "cell_type": "code",
   "execution_count": null,
   "id": "e3e313df-516d-4412-8e45-5e1ecfe2bd80",
   "metadata": {},
   "outputs": [],
   "source": [
    "# Read the list of labels.\n",
    "fname = 'data/labels.csv'\n",
    "labels = pd.read_csv(fname)\n",
    "label_count = len(labels)\n",
    "print('%d labels' % label_count)\n",
    "\n",
    "label_id_lookup = {\n",
    "    z['label']: z['id']\n",
    "    for z in labels.to_dict('records')\n",
    "}"
   ]
  },
  {
   "cell_type": "code",
   "execution_count": null,
   "id": "140b7b2e-d2b1-4db1-b5fb-5ab088d3f62c",
   "metadata": {},
   "outputs": [],
   "source": [
    "# Set up the MPP encoder.\n",
    "encoder = MPPEncoder(\n",
    "    region=[0, 0, aoi_size, aoi_size],\n",
    "    resolution=resolution,\n",
    "    center=True\n",
    ")\n",
    "print('%d elements in encodings' % len(encoder))"
   ]
  },
  {
   "cell_type": "markdown",
   "id": "14f9df2f-3bbf-437f-832c-119064c6cc7a",
   "metadata": {},
   "source": [
    "## Processing"
   ]
  },
  {
   "cell_type": "code",
   "execution_count": null,
   "id": "a2f5a8ae-8b00-4ee7-92c1-b9bab9a52fa4",
   "metadata": {},
   "outputs": [],
   "source": [
    "# Get a list of AOI tags.\n",
    "globstring = 'data/tiles/*'\n",
    "tile_dnames = glob.glob(globstring)\n",
    "aoi_names = [\n",
    "    z[z.rfind('/') + 1 :]\n",
    "    for z in tile_dnames\n",
    "]\n",
    "print('%d AOIs' % len(aoi_names))\n"
   ]
  },
  {
   "cell_type": "code",
   "execution_count": null,
   "id": "00621818-4f5a-4e62-917c-156f1d768e84",
   "metadata": {},
   "outputs": [],
   "source": [
    "# Loop over tiles\n",
    "keepers = []\n",
    "\n",
    "for aoi_name in aoi_names[:1]:\n",
    "    print('\\nhandling AOI %s' % aoi_name)\n",
    "\n",
    "    # This will hold all encodings for this AOI\n",
    "    tile_encodings_for_aoi = []\n",
    "\n",
    "    # Get a list of all tiles for this AOI.\n",
    "    globstring = 'data/tiles/%s/*.pq' % aoi_name\n",
    "    fnames = glob.glob(globstring)\n",
    "    print('%d tiles' % len(fnames))\n",
    "    for fname in fnames:\n",
    "        tile_vectors = []\n",
    "        gdf = geopandas.read_parquet(fname)\n",
    "        if len(gdf) < 80:\n",
    "            continue\n",
    "        print('%d elements in tile' % len(gdf))\n",
    "        \n",
    "        # for _, rec in gdf.iterrows():\n",
    "        for _, rec in gdf.sample(frac=1).iterrows():\n",
    "            encoding = encoder.encode(rec['geometry']).values()\n",
    "            etype = np.zeros(label_count)\n",
    "            label_string = '%s : %s' % (rec['category'], rec['label'])\n",
    "            label_id = label_id_lookup[label_string]\n",
    "            etype[label_id] = 1.0\n",
    "\n",
    "            # Concatenate the encoding and type vectors.\n",
    "            vector = np.hstack((etype, encoding))\n",
    "            tile_vectors.append(vector)\n",
    "        tile_encoding = np.vstack(tile_vectors)\n",
    "        tile_encodings_for_aoi.append(tile_encoding)\n",
    "\n",
    "        if len(gdf) >= 80:\n",
    "            keepers.append(gdf)\n",
    "\n",
    "    # # Save all of the encodings for this tile.\n",
    "    # fname = 'data/encodings/%s.pkl' % aoi_name\n",
    "    # os.makedirs(os.path.dirname(fname), exist_ok=True)\n",
    "    # with open(fname, 'wb') as dest:\n",
    "    #     pickle.dump(tile_encodings_for_aoi, dest)\n",
    "    # print('wrote %s' % (fname))\n",
    "        "
   ]
  },
  {
   "cell_type": "code",
   "execution_count": null,
   "id": "c0e4dce6-ad1c-4c9e-b018-862b03b453d0",
   "metadata": {},
   "outputs": [],
   "source": [
    "print('%d keepers' % len(keepers))\n",
    "index = 0\n",
    "gdf = keepers[index]\n",
    "data = tile_encodings_for_aoi[index]\n"
   ]
  },
  {
   "cell_type": "code",
   "execution_count": null,
   "id": "186a8b50-742f-4f72-81c3-fedee858e351",
   "metadata": {},
   "outputs": [],
   "source": [
    "import numpy as np\n",
    "import matplotlib.pyplot as plt\n",
    "\n",
    "# Plot as heatmap\n",
    "plt.figure(figsize=(12, 5))\n",
    "plt.imshow(data, cmap='viridis', origin='upper', aspect='auto')\n",
    "plt.colorbar(label='Value')\n",
    "plt.title('Encoding for a tile')\n",
    "plt.ylabel('entity / row index')\n",
    "plt.xlabel('encoding element')\n",
    "plt.show()\n"
   ]
  },
  {
   "cell_type": "code",
   "execution_count": null,
   "id": "fb3c8c0f-d91b-4952-8992-7e0aba8b591a",
   "metadata": {},
   "outputs": [],
   "source": [
    "gdf[['category', 'label']].value_counts().sort_index()"
   ]
  },
  {
   "cell_type": "code",
   "execution_count": null,
   "id": "be1832e3-3c33-4265-bd39-a662e84cdb03",
   "metadata": {},
   "outputs": [],
   "source": [
    "# Roadways\n",
    "gents = gdf.to_dict('records')\n",
    "fig = make_subplots(rows=1, cols=1)\n",
    "shown = set()\n",
    "shown.add('land')\n",
    "\n",
    "def add_features(label, color, linewidth):\n",
    "    for gent in gents:\n",
    "        if gent['label'] == label:\n",
    "            draw_shape(gent['geometry'], fig, irow=1, icol=1, \n",
    "                       name=label, color=color, linewidth=linewidth,\n",
    "                       showlegend=(label not in shown))\n",
    "            shown.add(label)\n",
    "\n",
    "add_features('land', color='#e0d8b0', linewidth=1)\n",
    "add_features('highway', color='red', linewidth=3)\n",
    "add_features('primary road', color='blue', linewidth=2)\n",
    "add_features('secondary road', color='green', linewidth=2)\n",
    "add_features('tertiary road', color='teal', linewidth=2)\n",
    "add_features('residential road', color='gray', linewidth=1)\n",
    "\n",
    "lo = fig['layout']\n",
    "lo['title'] = 'roadways'\n",
    "lo['width'] = 420\n",
    "lo['height'] = 350\n",
    "lo['xaxis1']['range'] = [0, 1000]\n",
    "lo['yaxis1']['range'] = [0, 1000]\n",
    "lo['xaxis1']['showticklabels'] = False\n",
    "lo['yaxis1']['showticklabels'] = False\n",
    "fig"
   ]
  },
  {
   "cell_type": "code",
   "execution_count": null,
   "id": "60225d09-a094-499a-a379-9bba6647fddb",
   "metadata": {},
   "outputs": [],
   "source": [
    "# Waterways\n",
    "fig = make_subplots(rows=1, cols=1)\n",
    "shown = set()\n",
    "shown.add('land')\n",
    "shown.add('highway')\n",
    "shown.add('primary road')\n",
    "shown.add('secondary road')\n",
    "shown.add('tertiary teal')\n",
    "shown.add('residential road')\n",
    "\n",
    "add_features('land', color='#e0d8b0', linewidth=1)\n",
    "add_features('highway', color='#bbbbbb', linewidth=1)\n",
    "add_features('primary road', color='#bbbbbb', linewidth=1)\n",
    "add_features('secondary road', color='#bbbbbb', linewidth=1)\n",
    "add_features('tertiary teal', color='#bbbbbb', linewidth=1)\n",
    "add_features('residential road', color='#bbbbbb', linewidth=1)\n",
    "\n",
    "add_features('rivers and streams', color='blue', linewidth=2)\n",
    "add_features('lakes and ponds', color='#71b8f0', linewidth=2)\n",
    "\n",
    "lo = fig['layout']\n",
    "lo['title'] = 'waterways'\n",
    "lo['width'] = 420\n",
    "lo['height'] = 350\n",
    "lo['xaxis1']['range'] = [0, 1000]\n",
    "lo['yaxis1']['range'] = [0, 1000]\n",
    "lo['xaxis1']['showticklabels'] = False\n",
    "lo['yaxis1']['showticklabels'] = False\n",
    "fig"
   ]
  },
  {
   "cell_type": "code",
   "execution_count": null,
   "id": "8b9b5cdd-60a4-4b21-b41e-bd945a3c7bd7",
   "metadata": {},
   "outputs": [],
   "source": [
    "# Amenities\n",
    "fig = make_subplots(rows=1, cols=1)\n",
    "shown = set()\n",
    "shown.add('land')\n",
    "shown.add('highway')\n",
    "shown.add('primary road')\n",
    "shown.add('secondary road')\n",
    "shown.add('tertiary teal')\n",
    "shown.add('residential road')\n",
    "\n",
    "add_features('land', color='#e0d8b0', linewidth=1)\n",
    "add_features('highway', color='#bbbbbb', linewidth=1)\n",
    "add_features('primary road', color='#bbbbbb', linewidth=1)\n",
    "add_features('secondary road', color='#bbbbbb', linewidth=1)\n",
    "add_features('tertiary teal', color='#bbbbbb', linewidth=1)\n",
    "add_features('residential road', color='#bbbbbb', linewidth=1)\n",
    "\n",
    "add_features('parking lot', color='gray', linewidth=2)\n",
    "add_features('commercial', color='blue', linewidth=2)\n",
    "add_features('food and drink', color='purple', linewidth=2)\n",
    "add_features('recreation', color='green', linewidth=2)\n",
    "\n",
    "lo = fig['layout']\n",
    "lo['title'] = 'amenities'\n",
    "lo['width'] = 420\n",
    "lo['height'] = 350\n",
    "lo['xaxis1']['range'] = [0, 1000]\n",
    "lo['yaxis1']['range'] = [0, 1000]\n",
    "lo['xaxis1']['showticklabels'] = False\n",
    "lo['yaxis1']['showticklabels'] = False\n",
    "fig"
   ]
  },
  {
   "cell_type": "code",
   "execution_count": null,
   "id": "d4c97ed6-b751-4802-b5e5-d0b3f2d19d97",
   "metadata": {},
   "outputs": [],
   "source": [
    "# landuse\n",
    "fig = make_subplots(rows=1, cols=1)\n",
    "shown = set()\n",
    "shown.add('land')\n",
    "shown.add('highway')\n",
    "shown.add('primary road')\n",
    "shown.add('secondary road')\n",
    "shown.add('tertiary teal')\n",
    "shown.add('residential road')\n",
    "\n",
    "add_features('land', color='#e0d8b0', linewidth=1)\n",
    "add_features('highway', color='#bbbbbb', linewidth=1)\n",
    "add_features('primary road', color='#bbbbbb', linewidth=1)\n",
    "add_features('secondary road', color='#bbbbbb', linewidth=1)\n",
    "add_features('tertiary teal', color='#bbbbbb', linewidth=1)\n",
    "add_features('residential road', color='#bbbbbb', linewidth=1)\n",
    "\n",
    "add_features('commercial', color='blue', linewidth=2)\n",
    "add_features('agricultural', color='green', linewidth=2)\n",
    "add_features('forest', color='darkgreen', linewidth=2)\n",
    "add_features('residential', color='magenta', linewidth=2)\n",
    "add_features('industrial', color='darkgray', linewidth=2)\n",
    "add_features('retail', color='orange', linewidth=2)\n",
    "\n",
    "lo = fig['layout']\n",
    "lo['title'] = 'landuse'\n",
    "lo['width'] = 420\n",
    "lo['height'] = 350\n",
    "lo['xaxis1']['range'] = [0, 1000]\n",
    "lo['yaxis1']['range'] = [0, 1000]\n",
    "lo['xaxis1']['showticklabels'] = False\n",
    "lo['yaxis1']['showticklabels'] = False\n",
    "fig"
   ]
  },
  {
   "cell_type": "code",
   "execution_count": null,
   "id": "5fcbe515-7ea7-4c8d-a7da-b8e1319826af",
   "metadata": {},
   "outputs": [],
   "source": []
  }
 ],
 "metadata": {
  "kernelspec": {
   "display_name": "Python 3 (ipykernel)",
   "language": "python",
   "name": "python3"
  },
  "language_info": {
   "codemirror_mode": {
    "name": "ipython",
    "version": 3
   },
   "file_extension": ".py",
   "mimetype": "text/x-python",
   "name": "python",
   "nbconvert_exporter": "python",
   "pygments_lexer": "ipython3",
   "version": "3.12.4"
  }
 },
 "nbformat": 4,
 "nbformat_minor": 5
}
