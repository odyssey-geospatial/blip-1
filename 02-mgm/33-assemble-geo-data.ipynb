{
 "cells": [
  {
   "cell_type": "markdown",
   "id": "f57c8ee4-7198-4e1e-b2cf-767657175410",
   "metadata": {
    "id": "f57c8ee4-7198-4e1e-b2cf-767657175410"
   },
   "source": [
    "### VERGE: Vector-mode Regional Geospatial Embeddings\n",
    "\n",
    "# Assemble geographical data for the VERGE project\n",
    "\n",
    "This notebook pulls and organizes the geospatial data that we will use in this effort.\n",
    "\n",
    "We have a list of AOIs, defined as lon/lat bounding boxes. Here we pull data for each one,\n",
    "and divide it up into tiles of a given size.\n",
    "\n",
    "## Outputs\n",
    "* [roi_name]/tiles/[aoi_tag]/[tile_tag].pq: geo data for a tile\n"
   ]
  },
  {
   "cell_type": "markdown",
   "id": "mVSMyRSA_eRW",
   "metadata": {
    "id": "mVSMyRSA_eRW"
   },
   "source": [
    "## Processing setup"
   ]
  },
  {
   "cell_type": "code",
   "execution_count": null,
   "id": "cjRl-DvsR-cs",
   "metadata": {
    "colab": {
     "base_uri": "https://localhost:8080/"
    },
    "executionInfo": {
     "elapsed": 5381,
     "status": "ok",
     "timestamp": 1755002873773,
     "user": {
      "displayName": "John Collins",
      "userId": "16643596247369517939"
     },
     "user_tz": 240
    },
    "id": "cjRl-DvsR-cs",
    "outputId": "a8c68fde-65ea-47b9-978b-7fc6d8d7384d"
   },
   "outputs": [],
   "source": [
    "# Google colab setup\n",
    "import os\n",
    "from google.colab import drive\n",
    "drive.mount('/content/drive')\n",
    "project_home = '/content/drive/MyDrive/Projects/verge'\n",
    "os.chdir(project_home)\n",
    "!pip install osmnx pygeohash geo-encodings"
   ]
  },
  {
   "cell_type": "code",
   "execution_count": null,
   "id": "rT3R6aP__ZMD",
   "metadata": {
    "executionInfo": {
     "elapsed": 3,
     "status": "ok",
     "timestamp": 1755002873781,
     "user": {
      "displayName": "John Collins",
      "userId": "16643596247369517939"
     },
     "user_tz": 240
    },
    "id": "rT3R6aP__ZMD"
   },
   "outputs": [],
   "source": [
    "# # Local processing setup\n",
    "# project_home = '..'"
   ]
  },
  {
   "cell_type": "markdown",
   "id": "Bv9jHnErR7Gv",
   "metadata": {
    "id": "Bv9jHnErR7Gv"
   },
   "source": [
    "## Notebook setup"
   ]
  },
  {
   "cell_type": "code",
   "execution_count": null,
   "id": "f8cfa816-f237-4de7-bfdd-61381d15f8d4",
   "metadata": {
    "executionInfo": {
     "elapsed": 3,
     "status": "ok",
     "timestamp": 1755002873786,
     "user": {
      "displayName": "John Collins",
      "userId": "16643596247369517939"
     },
     "user_tz": 240
    },
    "id": "f8cfa816-f237-4de7-bfdd-61381d15f8d4"
   },
   "outputs": [],
   "source": [
    "import numpy as np\n",
    "import pandas as pd\n",
    "import pyproj\n",
    "import shapely\n",
    "import osmnx\n",
    "import pygeohash\n",
    "import geopandas as gpd\n",
    "import os\n",
    "import copy\n",
    "import json\n",
    "\n",
    "import plotly\n",
    "from plotly.subplots import make_subplots\n",
    "from plotly.graph_objects import Scatter\n",
    "\n",
    "from geo_encodings import draw_shape\n",
    "\n",
    "import sys\n",
    "sys.path.append(project_home)\n",
    "from utils.verge import rules\n"
   ]
  },
  {
   "cell_type": "markdown",
   "id": "gLWDe0nA_o2C",
   "metadata": {
    "id": "gLWDe0nA_o2C"
   },
   "source": [
    "## Parameters"
   ]
  },
  {
   "cell_type": "code",
   "execution_count": null,
   "id": "108db641-d342-460c-aeb8-0a62ef69f7e5",
   "metadata": {
    "executionInfo": {
     "elapsed": 35,
     "status": "ok",
     "timestamp": 1755002873823,
     "user": {
      "displayName": "John Collins",
      "userId": "16643596247369517939"
     },
     "user_tz": 240
    },
    "id": "108db641-d342-460c-aeb8-0a62ef69f7e5"
   },
   "outputs": [],
   "source": [
    "# The name of the ROI to use.\n",
    "roi_name = 'newengland'\n",
    "\n",
    "# The name of the general-purpose data directory.\n",
    "data_home = '%s/data' % (project_home)\n",
    "\n",
    "# The name of the ROI-specific data directory.\n",
    "roi_home = '%s/data/%s' % (project_home, roi_name)\n",
    "\n",
    "# A tile has to contain this many entities in order to be retained.\n",
    "min_entity_count = 20\n",
    "\n",
    "# Set to True if we want to include the overall land/water polygon for each tile.\n",
    "include_land_water = True\n",
    "\n",
    "# If not None, then only process this many AOIs\n",
    "aoi_limit = None\n"
   ]
  },
  {
   "cell_type": "markdown",
   "id": "856c456d-e173-4328-a166-4ae5daf44c50",
   "metadata": {
    "id": "856c456d-e173-4328-a166-4ae5daf44c50"
   },
   "source": [
    "## Preliminaries"
   ]
  },
  {
   "cell_type": "code",
   "execution_count": null,
   "id": "e01c04e9-c85c-488c-99b1-6fffa6e72d4f",
   "metadata": {
    "executionInfo": {
     "elapsed": 250,
     "status": "ok",
     "timestamp": 1755002874113,
     "user": {
      "displayName": "John Collins",
      "userId": "16643596247369517939"
     },
     "user_tz": 240
    },
    "id": "e01c04e9-c85c-488c-99b1-6fffa6e72d4f"
   },
   "outputs": [],
   "source": [
    "# Read the ROI definition.\n",
    "fname = '%s/roi.json' % roi_home\n",
    "with open(fname) as source:\n",
    "    roi = json.load(source)\n",
    "\n",
    "tile_size = roi['tile_size']\n",
    "tile_shift = roi['tile_shift']\n",
    "encoding_resolution = roi['encoding_resolution']"
   ]
  },
  {
   "cell_type": "code",
   "execution_count": null,
   "id": "5564eba5-2617-458f-802e-5004579534d7",
   "metadata": {
    "executionInfo": {
     "elapsed": 2,
     "status": "ok",
     "timestamp": 1755002874119,
     "user": {
      "displayName": "John Collins",
      "userId": "16643596247369517939"
     },
     "user_tz": 240
    },
    "id": "5564eba5-2617-458f-802e-5004579534d7"
   },
   "outputs": [],
   "source": [
    "# Define a local map projection, using the definition from the ROI file.\n",
    "def get_projections(proj_def):\n",
    "    ltm_crs = pyproj.CRS.from_proj4(proj_def)\n",
    "    wgs84_crs = pyproj.CRS.from_epsg(4326)\n",
    "    proj_forward = pyproj.Transformer.from_crs(wgs84_crs, ltm_crs, always_xy=True).transform\n",
    "    proj_inverse = pyproj.Transformer.from_crs(ltm_crs, wgs84_crs, always_xy=True).transform\n",
    "    return proj_forward, proj_inverse\n",
    "\n",
    "proj_forward, proj_inverse = get_projections(roi['proj_def'])"
   ]
  },
  {
   "cell_type": "code",
   "execution_count": null,
   "id": "356291fd-9c07-4b4f-bbf1-c68844b7237a",
   "metadata": {
    "colab": {
     "base_uri": "https://localhost:8080/"
    },
    "executionInfo": {
     "elapsed": 135,
     "status": "ok",
     "timestamp": 1755002874257,
     "user": {
      "displayName": "John Collins",
      "userId": "16643596247369517939"
     },
     "user_tz": 240
    },
    "id": "356291fd-9c07-4b4f-bbf1-c68844b7237a",
    "outputId": "0678b9ba-3fd7-4fc1-ab62-f00eded1aaee"
   },
   "outputs": [],
   "source": [
    "# This function gets an overall land/water polygon for an AOI.\n",
    "# It does it by conasidering both the \"coastlines\" shapefile\n",
    "# and all polygonal water features.\n",
    "\n",
    "# Read the coastline file.\n",
    "if include_land_water:\n",
    "    fname = '%s/coastlines' % (roi_home)\n",
    "    coastlines_gdf = gpd.read_file(fname)\n",
    "    print('%d coastline polygons' % len(coastlines_gdf))\n",
    "\n",
    "def get_land_water(bounds, features):\n",
    "\n",
    "    # Create a baseline polygon consisting of the whole AOI.\n",
    "    landwater = copy.deepcopy(bounds)\n",
    "\n",
    "    # Intersect that with the coastlines data.\n",
    "    coastlines = shapely.union_all(coastlines_gdf['geometry'].values)\n",
    "    landwater = landwater.intersection(coastlines)\n",
    "\n",
    "    # subtract out any polygonal water feature.\n",
    "    for _, f in features.iterrows():\n",
    "        if f['geometry'].geom_type in ['Polygon', 'MultiPolygon']:\n",
    "            if f['natural'] == 'water':\n",
    "                landwater = shapely.difference(landwater, f['geometry'])\n",
    "\n",
    "    return landwater"
   ]
  },
  {
   "cell_type": "markdown",
   "id": "a75de432-8b5a-4b01-be90-272d6d3ef174",
   "metadata": {
    "id": "a75de432-8b5a-4b01-be90-272d6d3ef174"
   },
   "source": [
    "## Processing"
   ]
  },
  {
   "cell_type": "code",
   "execution_count": null,
   "id": "551fc96a-3bfa-414d-9fb3-986f1d91b2c2",
   "metadata": {
    "colab": {
     "base_uri": "https://localhost:8080/"
    },
    "executionInfo": {
     "elapsed": 273,
     "status": "ok",
     "timestamp": 1755002874526,
     "user": {
      "displayName": "John Collins",
      "userId": "16643596247369517939"
     },
     "user_tz": 240
    },
    "id": "551fc96a-3bfa-414d-9fb3-986f1d91b2c2",
    "outputId": "251a5156-d2ad-4bae-8fb3-9c6ba8ac9173"
   },
   "outputs": [],
   "source": [
    "# Read the file with the list of AOIs\n",
    "fname = '%s/aois.csv' % (roi_home)\n",
    "aois = pd.read_csv(fname).to_dict('records')\n",
    "print('%d areas of interest' % len(aois))"
   ]
  },
  {
   "cell_type": "code",
   "execution_count": null,
   "id": "5cf81929-99d9-44e3-a985-324833dc3cfd",
   "metadata": {
    "colab": {
     "base_uri": "https://localhost:8080/"
    },
    "executionInfo": {
     "elapsed": 12,
     "status": "ok",
     "timestamp": 1755002874527,
     "user": {
      "displayName": "John Collins",
      "userId": "16643596247369517939"
     },
     "user_tz": 240
    },
    "id": "5cf81929-99d9-44e3-a985-324833dc3cfd",
    "outputId": "fbb9b128-00d5-422f-c636-5cd85f874110"
   },
   "outputs": [],
   "source": [
    "aois[0]"
   ]
  },
  {
   "cell_type": "code",
   "execution_count": null,
   "id": "e9c9928b-4aca-45c0-9f80-672986c1c9f4",
   "metadata": {
    "colab": {
     "base_uri": "https://localhost:8080/",
     "height": 1000
    },
    "executionInfo": {
     "elapsed": 2176364,
     "status": "error",
     "timestamp": 1755006995705,
     "user": {
      "displayName": "John Collins",
      "userId": "16643596247369517939"
     },
     "user_tz": 240
    },
    "id": "e9c9928b-4aca-45c0-9f80-672986c1c9f4",
    "outputId": "d204277d-f7ff-4943-f956-de5ee26ff63f"
   },
   "outputs": [],
   "source": [
    "# This will save some extra info that we will need.\n",
    "tile_info = []\n",
    "\n",
    "if aoi_limit is None:\n",
    "    aoi_list = aois\n",
    "else:\n",
    "    aoi_list = aois[:aoi_limit]\n",
    "\n",
    "for k, aoi in enumerate(aoi_list):\n",
    "\n",
    "    print('\\nprocessing AOI %s (%d / %d)' % (aoi['aoi_tag'], k, len(aoi_list)))\n",
    "\n",
    "    # Use that projection to define lon/lat bounds for the query below. Make sure the bounds go\n",
    "    # a little farther out than necessary to avoid edge artifacts from map projections.\n",
    "    buffer = 0.01\n",
    "    lon0 = aoi['lon0'] - buffer\n",
    "    lat0 = aoi['lat0'] - buffer\n",
    "    lon1 = aoi['lon1'] + buffer\n",
    "    lat1 = aoi['lat1'] + buffer\n",
    "    query_bounds = [lon0, lat0, lon1, lat1]\n",
    "\n",
    "    # print('re-projected query bounds, with buffer:')\n",
    "    # print(proj_forward(lon0, lat0))\n",
    "    # print(proj_forward(lon1, lat1))\n",
    "\n",
    "    # Query for all the geospatial entities we need within the bounding box.\n",
    "    tags = {\n",
    "        'landuse': True,\n",
    "        'place': True,\n",
    "        'highway': True,\n",
    "        'railway': True,\n",
    "        #'aeroway': True,\n",
    "        'bridge': True,\n",
    "        'tunnel': True,\n",
    "        #'power': True,\n",
    "        'natural': True,\n",
    "        'waterway': True,\n",
    "        'landcover': True,\n",
    "        #'building': True,\n",
    "        'amenity': True,\n",
    "        'shop': True,\n",
    "        'leisure': True\n",
    "    }\n",
    "    features = osmnx.features.features_from_bbox(query_bounds, tags=tags).reset_index()\n",
    "    print('%d features from OSM' % len(features))\n",
    "\n",
    "    # Re-format and filter everything.\n",
    "    # BTW, \"gents\" is \"geospatial entities\".\n",
    "    gents = []\n",
    "    for feature in features.to_dict('records'):\n",
    "\n",
    "        geomxy = shapely.ops.transform(proj_forward, feature['geometry'])\n",
    "        if geomxy.is_empty:\n",
    "            continue\n",
    "        gtype = geomxy.geom_type\n",
    "\n",
    "        for rule in rules:\n",
    "            if gtype == rule['gtype']:\n",
    "                osm_key = rule['osm_key']\n",
    "                if osm_key in feature:\n",
    "                    osm_value = str(feature[osm_key])\n",
    "                    if osm_value in rule['osm_values']:\n",
    "                        gents.append({\n",
    "                            'feature': feature,\n",
    "                            'category': rule['gent_category'],\n",
    "                            'label': rule['gent_label'],\n",
    "                            'geomxy': geomxy,\n",
    "                            'gtype': gtype\n",
    "                        })\n",
    "    print('%d features selected' % len(gents))\n",
    "\n",
    "    # We need some special handling to create a general \"land/water\" polygon.\n",
    "    if include_land_water:\n",
    "        lons = [lon0, lon1, lon1, lon0, lon0]\n",
    "        lats = [lat0, lat0, lat1, lat1, lat0]\n",
    "        lonlat_bounds = shapely.Polygon(list(zip(lons, lats)))\n",
    "        landwater = get_land_water(lonlat_bounds, features)\n",
    "        landwaterxy = shapely.ops.transform(proj_forward, landwater)\n",
    "        gents.append({\n",
    "            'category': 'waterway',\n",
    "            'label': 'land',\n",
    "            'geomxy': landwaterxy,\n",
    "            'gtype': landwaterxy.geom_type\n",
    "        })\n",
    "\n",
    "    # Determine the AOI bounds in projected coordinates.\n",
    "    aoi_x0, aoi_y0 = proj_forward(aoi['lon0'], aoi['lat0'])\n",
    "    aoi_x1, aoi_y1 = proj_forward(aoi['lon1'], aoi['lat1'])\n",
    "\n",
    "    # Loop over tiles within this AOI.\n",
    "    x0 = aoi_x0\n",
    "    while x0 + tile_size < aoi_x1:\n",
    "\n",
    "        y0 = aoi_y0\n",
    "        while y0 + tile_size < aoi_y1:\n",
    "\n",
    "            # print('tile xo, yo:', x0, y0)\n",
    "\n",
    "            # Figure out the lon/lat center of this tile. We will need it\n",
    "            # for some later processing.\n",
    "            tile_lon0, tile_lat0 = proj_inverse(x0, y0)\n",
    "            tile_lon1, tile_lat1 = proj_inverse(x0 + tile_size, y0 + tile_size)\n",
    "            tile_lon_center = (tile_lon0 + tile_lon1) / 2\n",
    "            tile_lat_center = (tile_lat0 + tile_lat1) / 2\n",
    "            # xc = x0 + tile_size / 2\n",
    "            # yc = y0 + tile_size / 2\n",
    "            # tile_lon, tile_lat = proj_inverse(xc, yc)\n",
    "            # print('tile lon, lat', tile_lon, tile_lat)\n",
    "\n",
    "            # Define a bounding box in projected coordinates. It will be used\n",
    "            # to clip geospatial entities below.\n",
    "            x1 = x0 + tile_size\n",
    "            y1 = y0 + tile_size\n",
    "            xx = [x0, x1, x1, x0, x0]\n",
    "            yy = [y0, y0, y1, y1, y0]\n",
    "            tile_bbox = shapely.Polygon(list(zip(xx, yy)))\n",
    "\n",
    "            tile_gents = []\n",
    "            for gent in gents:\n",
    "                geomxy = shapely.affinity.translate(\n",
    "                    gent['geomxy'].intersection(tile_bbox),\n",
    "                    xoff=-x0, yoff=-y0\n",
    "                )\n",
    "                if geomxy.is_empty:\n",
    "                    continue\n",
    "                tile_gents.append({\n",
    "                    'category': gent['category'],\n",
    "                    'label': gent['label'],\n",
    "                    'geometry': geomxy,\n",
    "                    'gtype': gent['gtype'],\n",
    "                    'xoff': x0,\n",
    "                    'yoff': y0,\n",
    "                })\n",
    "            # print('%d geospatial entities' % len(tile_gents))\n",
    "\n",
    "            # Save that if it's big enough.\n",
    "            if len(tile_gents) >= min_entity_count:\n",
    "                tx = '%03d' % (x0 / tile_shift)\n",
    "                ty = '%03d' % (y0 / tile_shift)\n",
    "                tile_tag = '%s-%s' % (tx, ty)\n",
    "                fname = '%s/tiles/%s/%s.pq' % (roi_home, aoi['aoi_tag'], tile_tag)\n",
    "                os.makedirs(os.path.dirname(fname), exist_ok=True)\n",
    "                gdf = gpd.GeoDataFrame(tile_gents).drop_duplicates()\n",
    "                gdf.to_parquet(fname, index=False, compression=\"zstd\")\n",
    "                print('saved %s (%4d entities)' % (fname, len(gdf)))\n",
    "\n",
    "                # Save the tile info.\n",
    "                tile_info.append({\n",
    "                    'aoi_tag': aoi['aoi_tag'],\n",
    "                    'tile_tag': tile_tag,\n",
    "                    'lon0': tile_lon0,\n",
    "                    'lat0': tile_lat0,\n",
    "                    'lon1': tile_lon1,\n",
    "                    'lat1': tile_lat1,\n",
    "                    'center_lon': tile_lon_center,\n",
    "                    'center_lat': tile_lat_center,\n",
    "                })\n",
    "\n",
    "            y0 += tile_shift\n",
    "        x0 += tile_shift\n",
    "\n",
    "# Save the tile info.\n",
    "fname = '%s/tiles.csv' % roi_home\n",
    "pd.DataFrame(tile_info).to_csv(fname, index=False)\n",
    "print('\\nsaved tile info in %s' % fname)\n"
   ]
  },
  {
   "cell_type": "code",
   "execution_count": null,
   "id": "scUkwakId8SF",
   "metadata": {
    "colab": {
     "base_uri": "https://localhost:8080/"
    },
    "executionInfo": {
     "elapsed": 152,
     "status": "ok",
     "timestamp": 1755006999536,
     "user": {
      "displayName": "John Collins",
      "userId": "16643596247369517939"
     },
     "user_tz": 240
    },
    "id": "scUkwakId8SF",
    "outputId": "c90a34b0-f602-41cb-dbf2-eff5fc4cefe5"
   },
   "outputs": [],
   "source": [
    "# Save the tile info.\n",
    "fname = '%s/tiles.csv' % roi_home\n",
    "pd.DataFrame(tile_info).to_csv(fname, index=False)\n",
    "print('\\nsaved tile info in %s' % fname)\n"
   ]
  },
  {
   "cell_type": "code",
   "execution_count": null,
   "id": "2ce25ebf-22f3-4013-91d5-1eb769471595",
   "metadata": {
    "executionInfo": {
     "elapsed": 42,
     "status": "aborted",
     "timestamp": 1755006995763,
     "user": {
      "displayName": "John Collins",
      "userId": "16643596247369517939"
     },
     "user_tz": 240
    },
    "id": "2ce25ebf-22f3-4013-91d5-1eb769471595"
   },
   "outputs": [],
   "source": [
    "# for g in tile_gents:\n",
    "#     print(g['geometry'].bounds)"
   ]
  },
  {
   "cell_type": "code",
   "execution_count": null,
   "id": "27c5a5e4-c36b-4cb0-88e7-bfff6768b0cd",
   "metadata": {
    "executionInfo": {
     "elapsed": 34,
     "status": "aborted",
     "timestamp": 1755006995811,
     "user": {
      "displayName": "John Collins",
      "userId": "16643596247369517939"
     },
     "user_tz": 240
    },
    "id": "27c5a5e4-c36b-4cb0-88e7-bfff6768b0cd"
   },
   "outputs": [],
   "source": [
    "# For debugging.\n",
    "\n",
    "# def pr_feature(f):\n",
    "#     print('feature')\n",
    "#     for k in f:\n",
    "#         if str(f[k]) != 'nan':\n",
    "#             print('    ', k, f[k])\n",
    "\n",
    "# def pr_gent(g):\n",
    "#     for k in g:\n",
    "#         if k == 'feature':\n",
    "#             pr_feature(g[k])\n",
    "#         else:\n",
    "#             print(k, g[k])\n",
    "#         geomxy = shapely.ops.transform(proj_inverse, feature['geometry'])\n",
    "\n",
    "# pr_gent(gents[121])"
   ]
  },
  {
   "cell_type": "code",
   "execution_count": null,
   "id": "4oohGDK6d6do",
   "metadata": {
    "id": "4oohGDK6d6do"
   },
   "outputs": [],
   "source": []
  },
  {
   "cell_type": "code",
   "execution_count": null,
   "id": "b8f5f947-6046-45a3-8bdf-e9520f774f17",
   "metadata": {
    "executionInfo": {
     "elapsed": 1,
     "status": "aborted",
     "timestamp": 1755006995820,
     "user": {
      "displayName": "John Collins",
      "userId": "16643596247369517939"
     },
     "user_tz": 240
    },
    "id": "b8f5f947-6046-45a3-8bdf-e9520f774f17"
   },
   "outputs": [],
   "source": [
    "pd.DataFrame(gents)[['category', 'label', 'gtype']].value_counts().sort_index()"
   ]
  },
  {
   "cell_type": "markdown",
   "id": "cc0b619f-122e-4b7a-9555-876225102781",
   "metadata": {
    "id": "cc0b619f-122e-4b7a-9555-876225102781"
   },
   "source": [
    "## QA Check"
   ]
  },
  {
   "cell_type": "code",
   "execution_count": null,
   "id": "c5556f9a-5160-4f97-92d1-83e4d38c5bee",
   "metadata": {
    "executionInfo": {
     "elapsed": 32,
     "status": "aborted",
     "timestamp": 1755006995859,
     "user": {
      "displayName": "John Collins",
      "userId": "16643596247369517939"
     },
     "user_tz": 240
    },
    "id": "c5556f9a-5160-4f97-92d1-83e4d38c5bee"
   },
   "outputs": [],
   "source": [
    "# # Take a look at the land/water polygons.\n",
    "# import folium\n",
    "# center_lon = (lon0 + lon1) / 2.0\n",
    "# center_lat = (lat0 + lat1) / 2.0\n",
    "\n",
    "# map_center = [center_lat, center_lon]\n",
    "# m = folium.Map(location=map_center, zoom_start=10)\n",
    "# geo_json = folium.GeoJson(landwater)\n",
    "# geo_json.add_to(m)\n",
    "# m\n"
   ]
  },
  {
   "cell_type": "code",
   "execution_count": null,
   "id": "f78b3475-3410-46e0-b854-69bd56b247e3",
   "metadata": {
    "executionInfo": {
     "elapsed": 1,
     "status": "aborted",
     "timestamp": 1755006995870,
     "user": {
      "displayName": "John Collins",
      "userId": "16643596247369517939"
     },
     "user_tz": 240
    },
    "id": "f78b3475-3410-46e0-b854-69bd56b247e3"
   },
   "outputs": [],
   "source": [
    "# import folium\n",
    "# center_lon = (lon0 + lon1) / 2.0\n",
    "# center_lat = (lat0 + lat1) / 2.0\n",
    "\n",
    "# map_center = [center_lat, center_lon]\n",
    "# m = folium.Map(location=map_center, zoom_start=10)\n",
    "# for gent in tile_gents:\n",
    "#     g0 = gent['geometry']\n",
    "#     g1 = shapely.affinity.translate(g0, xoff=gent['xoff'], yoff=gent['yoff'])\n",
    "#     g2 = shapely.ops.transform(proj_inverse, g1)\n",
    "#     geo_json = folium.GeoJson(g2)\n",
    "#     geo_json.add_to(m)\n",
    "# m\n"
   ]
  }
 ],
 "metadata": {
  "colab": {
   "provenance": []
  },
  "kernelspec": {
   "display_name": "Python 3 (ipykernel)",
   "language": "python",
   "name": "python3"
  },
  "language_info": {
   "codemirror_mode": {
    "name": "ipython",
    "version": 3
   },
   "file_extension": ".py",
   "mimetype": "text/x-python",
   "name": "python",
   "nbconvert_exporter": "python",
   "pygments_lexer": "ipython3",
   "version": "3.10.1"
  }
 },
 "nbformat": 4,
 "nbformat_minor": 5
}
