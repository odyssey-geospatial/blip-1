{
 "cells": [
  {
   "cell_type": "markdown",
   "id": "f57c8ee4-7198-4e1e-b2cf-767657175410",
   "metadata": {
    "id": "f57c8ee4-7198-4e1e-b2cf-767657175410"
   },
   "source": [
    "### VERGE: Vector-mode Regional Geospatial Embeddings\n",
    "\n",
    "# Assemble geographical data for the VERGE project\n",
    "\n",
    "This notebook pulls and organizes the geospatial data that we will use in this effort.\n",
    "\n",
    "We have a list of cities and towns of a reasonable size in\n",
    "NH, ME, and VT.\n",
    "For each one, we will pull geo entities within a 10 km box, and\n",
    "thn will break that up into 1km boxes.\n",
    "We will only keep cases that contain a minimum amout of stuff."
   ]
  },
  {
   "cell_type": "markdown",
   "id": "mVSMyRSA_eRW",
   "metadata": {
    "id": "mVSMyRSA_eRW"
   },
   "source": [
    "## Colab or local setup"
   ]
  },
  {
   "cell_type": "code",
   "execution_count": null,
   "id": "AbbdIaVz_nch",
   "metadata": {
    "colab": {
     "base_uri": "https://localhost:8080/"
    },
    "executionInfo": {
     "elapsed": 6091,
     "status": "ok",
     "timestamp": 1750871049040,
     "user": {
      "displayName": "John Collins",
      "userId": "16643596247369517939"
     },
     "user_tz": 240
    },
    "id": "AbbdIaVz_nch",
    "outputId": "9b563416-978b-467a-d5d5-716ab76fcaa6"
   },
   "outputs": [],
   "source": [
    "# !pip install osmnx pygeohash geo-encodings"
   ]
  },
  {
   "cell_type": "code",
   "execution_count": null,
   "id": "rT3R6aP__ZMD",
   "metadata": {
    "colab": {
     "base_uri": "https://localhost:8080/"
    },
    "executionInfo": {
     "elapsed": 578,
     "status": "ok",
     "timestamp": 1750871042952,
     "user": {
      "displayName": "John Collins",
      "userId": "16643596247369517939"
     },
     "user_tz": 240
    },
    "id": "rT3R6aP__ZMD",
    "outputId": "a7fb45e1-37f5-4419-8c05-1022f802240c"
   },
   "outputs": [],
   "source": [
    "# from google.colab import drive\n",
    "# drive.mount('/content/drive')\n",
    "# project_home = '/content/drive/MyDrive/Projects/verge'"
   ]
  },
  {
   "cell_type": "code",
   "execution_count": null,
   "id": "108db641-d342-460c-aeb8-0a62ef69f7e5",
   "metadata": {},
   "outputs": [],
   "source": [
    "# If running locally:\n",
    "data_dname = '../data'"
   ]
  },
  {
   "cell_type": "markdown",
   "id": "gLWDe0nA_o2C",
   "metadata": {
    "id": "gLWDe0nA_o2C"
   },
   "source": [
    "## Setup"
   ]
  },
  {
   "cell_type": "code",
   "execution_count": null,
   "id": "f8cfa816-f237-4de7-bfdd-61381d15f8d4",
   "metadata": {
    "executionInfo": {
     "elapsed": 7,
     "status": "ok",
     "timestamp": 1750871049043,
     "user": {
      "displayName": "John Collins",
      "userId": "16643596247369517939"
     },
     "user_tz": 240
    },
    "id": "f8cfa816-f237-4de7-bfdd-61381d15f8d4"
   },
   "outputs": [],
   "source": [
    "import numpy as np\n",
    "import pandas as pd\n",
    "import pyproj\n",
    "import shapely\n",
    "import osmnx\n",
    "import pygeohash\n",
    "import geopandas as gpd\n",
    "import os\n",
    "import copy\n",
    "\n",
    "import plotly\n",
    "from plotly.subplots import make_subplots\n",
    "from plotly.graph_objects import Scatter\n",
    "\n",
    "from geo_encodings import draw_shape\n",
    "\n",
    "import sys\n",
    "sys.path.append(project_home)\n",
    "from utils.verge import rules\n"
   ]
  },
  {
   "cell_type": "markdown",
   "id": "663ce7bf-904d-41fe-a294-036f8a5d28fa",
   "metadata": {
    "id": "663ce7bf-904d-41fe-a294-036f8a5d28fa"
   },
   "source": [
    "## Parameters"
   ]
  },
  {
   "cell_type": "code",
   "execution_count": null,
   "id": "5c3e5ab8-b3c0-4fa3-80a5-f78aad6bc37e",
   "metadata": {
    "executionInfo": {
     "elapsed": 2,
     "status": "ok",
     "timestamp": 1750871049044,
     "user": {
      "displayName": "John Collins",
      "userId": "16643596247369517939"
     },
     "user_tz": 240
    },
    "id": "5c3e5ab8-b3c0-4fa3-80a5-f78aad6bc37e"
   },
   "outputs": [],
   "source": [
    "# AOIs are squares of this dimension, in meters.\n",
    "aoi_size = 10000\n",
    "\n",
    "# This is the size of the square tiles that make up the AOI.\n",
    "tile_size = 1000\n",
    "\n",
    "# Successive tiles differ by this much.\n",
    "tile_shift = 1000\n",
    "\n",
    "# A tile has to contain this many entities in order to be retained.\n",
    "min_entity_count = 20\n",
    "\n",
    "# Set to True if we want to include the overall land/water polygon for each tile.\n",
    "include_land_water = True\n"
   ]
  },
  {
   "cell_type": "markdown",
   "id": "856c456d-e173-4328-a166-4ae5daf44c50",
   "metadata": {
    "id": "856c456d-e173-4328-a166-4ae5daf44c50"
   },
   "source": [
    "## Preliminaries"
   ]
  },
  {
   "cell_type": "code",
   "execution_count": null,
   "id": "5564eba5-2617-458f-802e-5004579534d7",
   "metadata": {
    "executionInfo": {
     "elapsed": 11,
     "status": "ok",
     "timestamp": 1750871049056,
     "user": {
      "displayName": "John Collins",
      "userId": "16643596247369517939"
     },
     "user_tz": 240
    },
    "id": "5564eba5-2617-458f-802e-5004579534d7"
   },
   "outputs": [],
   "source": [
    "# Define a local map projection\n",
    "\n",
    "def get_projections(lon, lat):\n",
    "\n",
    "    center_lat = lat\n",
    "    center_lon = lon\n",
    "    x0 = aoi_size / 2\n",
    "    y0 = aoi_size / 2\n",
    "\n",
    "    proj_def = f\"\"\"\n",
    "    +proj=tmerc +lat_0={center_lat} +lon_0={center_lon}\n",
    "    +k=1.0 +x_0={x0} +y_0={y0} +datum=WGS84 +units=m +no_defs\n",
    "    \"\"\"\n",
    "\n",
    "    ltm_crs = pyproj.CRS.from_proj4(proj_def)\n",
    "    wgs84_crs = pyproj.CRS.from_epsg(4326)\n",
    "    proj_forward = pyproj.Transformer.from_crs(wgs84_crs, ltm_crs, always_xy=True).transform\n",
    "    proj_inverse = pyproj.Transformer.from_crs(ltm_crs, wgs84_crs, always_xy=True).transform\n",
    "\n",
    "    return proj_forward, proj_inverse"
   ]
  },
  {
   "cell_type": "code",
   "execution_count": null,
   "id": "d542ead2-2209-4498-8f8d-c1f3767f9d04",
   "metadata": {
    "executionInfo": {
     "elapsed": 1,
     "status": "ok",
     "timestamp": 1750871049058,
     "user": {
      "displayName": "John Collins",
      "userId": "16643596247369517939"
     },
     "user_tz": 240
    },
    "id": "d542ead2-2209-4498-8f8d-c1f3767f9d04"
   },
   "outputs": [],
   "source": [
    "# Define a polygon for the AOI bounds.\n",
    "\n",
    "def get_aoi_bbox(aoi_size):\n",
    "    x0, y0 = 0, 0\n",
    "    x1, y1 = aoi_size, aoi_size\n",
    "    xx = [x0, x1, x1, x0, x0]\n",
    "    yy = [y0, y0, y1, y1, y0]\n",
    "    aoi_bbox = shapely.Polygon(list(zip(xx, yy)))\n",
    "    return aoi_bbox"
   ]
  },
  {
   "cell_type": "code",
   "execution_count": null,
   "id": "356291fd-9c07-4b4f-bbf1-c68844b7237a",
   "metadata": {
    "colab": {
     "base_uri": "https://localhost:8080/"
    },
    "executionInfo": {
     "elapsed": 265,
     "status": "ok",
     "timestamp": 1750871049324,
     "user": {
      "displayName": "John Collins",
      "userId": "16643596247369517939"
     },
     "user_tz": 240
    },
    "id": "356291fd-9c07-4b4f-bbf1-c68844b7237a",
    "outputId": "d616adcf-a9a1-484f-a21c-0824619ebc8a"
   },
   "outputs": [],
   "source": [
    "# This function gets an overall land/water polygon for an AOI.\n",
    "# It does it by conasidering both the \"coastlines\" shapefile\n",
    "# and all polygonal water features.\n",
    "\n",
    "# Read the coastline file.\n",
    "if include_land_water:\n",
    "    fname = '%s/data/nh-vt-me-coastlines' % project_home\n",
    "    coastlines_gdf = gpd.read_file(fname)\n",
    "    print('%d coastline polygons' % len(coastlines_gdf))\n",
    "\n",
    "def get_land_water(bounds, features):\n",
    "\n",
    "    # Create a baseline polygon consisting of the whole AOI.\n",
    "    landwater = copy.deepcopy(bounds)\n",
    "\n",
    "    # Intersect that with the coastlines data.\n",
    "    coastlines = shapely.union_all(coastlines_gdf['geometry'].values)\n",
    "    landwater = landwater.intersection(coastlines)\n",
    "\n",
    "    # subtract out any polygonal water feature.\n",
    "    for _, f in features.iterrows():\n",
    "        if f['geometry'].geom_type in ['Polygon', 'MultiPolygon']:\n",
    "            if f['natural'] == 'water':\n",
    "                landwater = shapely.difference(landwater, f['geometry'])\n",
    "\n",
    "    return landwater"
   ]
  },
  {
   "cell_type": "markdown",
   "id": "a75de432-8b5a-4b01-be90-272d6d3ef174",
   "metadata": {
    "id": "a75de432-8b5a-4b01-be90-272d6d3ef174"
   },
   "source": [
    "## Processing"
   ]
  },
  {
   "cell_type": "code",
   "execution_count": null,
   "id": "551fc96a-3bfa-414d-9fb3-986f1d91b2c2",
   "metadata": {
    "colab": {
     "base_uri": "https://localhost:8080/"
    },
    "executionInfo": {
     "elapsed": 22,
     "status": "ok",
     "timestamp": 1750871049341,
     "user": {
      "displayName": "John Collins",
      "userId": "16643596247369517939"
     },
     "user_tz": 240
    },
    "id": "551fc96a-3bfa-414d-9fb3-986f1d91b2c2",
    "outputId": "343a07ac-9511-46c5-af6b-c0845c2cc621"
   },
   "outputs": [],
   "source": [
    "# Read the file with the list of AOIs\n",
    "fname = '%s/data/nh-vt-me-places-over-10k.csv' % project_home\n",
    "aois = pd.read_csv(fname).to_dict('records')\n",
    "aois = np.random.permutation(aois)\n",
    "\n",
    "# aois = [\n",
    "#     # {'name': 'Keene NH', 'lat':  42.934, 'lon': -72.278},\n",
    "#     {'name': 'Exeter NH', 'lat':  42.981163, 'lon': -70.946524},\n",
    "# ]\n",
    "\n",
    "print('%d areas of interest' % len(aois))"
   ]
  },
  {
   "cell_type": "code",
   "execution_count": null,
   "id": "e9c9928b-4aca-45c0-9f80-672986c1c9f4",
   "metadata": {
    "colab": {
     "background_save": true,
     "base_uri": "https://localhost:8080/"
    },
    "id": "e9c9928b-4aca-45c0-9f80-672986c1c9f4"
   },
   "outputs": [],
   "source": [
    "from utils.verge import rules\n",
    "\n",
    "# This will save some extra info that we will need.\n",
    "tile_info = []\n",
    "\n",
    "for aoi in aois:\n",
    "\n",
    "    print('\\nprocessing AOI:', aoi)\n",
    "    lon = aoi['Longitude']\n",
    "    lat = aoi['Latitude']\n",
    "\n",
    "    # Get a string identifier for this AOI.\n",
    "    aoi_id = pygeohash.encode(latitude=lat, longitude=lon, precision=8)\n",
    "    print('aoi_id', aoi_id)\n",
    "\n",
    "    # Get forward and inverse projections.\n",
    "    proj_forward, proj_inverse = get_projections(lon, lat)\n",
    "\n",
    "    # Use that projection to define lon/lat bounds for the query below. Make sure the bounds go\n",
    "    # a little farther out than necessary to avoid edge artifacts from map projections.\n",
    "    buf = 100\n",
    "    x0, y0 = 0, 0\n",
    "    x1, y1 = aoi_size, aoi_size\n",
    "    lon0, lat0 = proj_inverse(x0 - buf, y0 - buf)\n",
    "    lon1, lat1 = proj_inverse(x1 + buf, y1 + buf)\n",
    "    query_bounds = [lon0, lat0, lon1, lat1]\n",
    "\n",
    "    # print('re-projected query bounds, with buffer:')\n",
    "    # print(proj_forward(lon0, lat0))\n",
    "    # print(proj_forward(lon1, lat1))\n",
    "\n",
    "    # Query for all the geospatial entities we need within the bounding box.\n",
    "    tags = {\n",
    "        'landuse': True,\n",
    "        'place': True,\n",
    "        'highway': True,\n",
    "        'railway': True,\n",
    "        'aeroway': True,\n",
    "        'bridge': True,\n",
    "        'tunnel': True,\n",
    "        'power': True,\n",
    "        'natural': True,\n",
    "        'waterway': True,\n",
    "        'landcover': True,\n",
    "        'building': True,\n",
    "        'amenity': True,\n",
    "        'shop': True,\n",
    "        'leisure': True\n",
    "    }\n",
    "    features = osmnx.features.features_from_bbox(query_bounds, tags=tags).reset_index()\n",
    "    print('%d features from OSM' % len(features))\n",
    "\n",
    "    # Re-format and filter everything.\n",
    "    # BTW, \"gents\" is \"geospatial entities\".\n",
    "    gents = []\n",
    "    for feature in features.to_dict('records'):\n",
    "\n",
    "        geomxy = shapely.ops.transform(proj_forward, feature['geometry'])\n",
    "        if geomxy.is_empty:\n",
    "            continue\n",
    "        gtype = geomxy.geom_type\n",
    "\n",
    "        for rule in rules:\n",
    "            if gtype == rule['gtype']:\n",
    "                osm_key = rule['osm_key']\n",
    "                if osm_key in feature:\n",
    "                    osm_value = str(feature[osm_key])\n",
    "                    if osm_value in rule['osm_values']:\n",
    "                        gents.append({\n",
    "                            'feature': feature,\n",
    "                            'category': rule['gent_category'],\n",
    "                            'label': rule['gent_label'],\n",
    "                            'geomxy': geomxy,\n",
    "                            'gtype': gtype\n",
    "                        })\n",
    "    print('%d features selected' % len(gents))\n",
    "\n",
    "    # We need some special handling to create a general \"land/water\" polygon.\n",
    "    if include_land_water:\n",
    "        lons = [lon0, lon1, lon1, lon0, lon0]\n",
    "        lats = [lat0, lat0, lat1, lat1, lat0]\n",
    "        lonlat_bounds = shapely.Polygon(list(zip(lons, lats)))\n",
    "        landwater = get_land_water(lonlat_bounds, features)\n",
    "        landwaterxy = shapely.ops.transform(proj_forward, landwater)\n",
    "        gents.append({\n",
    "            'category': 'waterway',\n",
    "            'label': 'land',\n",
    "            'geomxy': landwaterxy,\n",
    "            'gtype': landwaterxy.geom_type\n",
    "        })\n",
    "\n",
    "    # Loop over tiles within this AOI.\n",
    "    x0 = 0\n",
    "    while x0 < aoi_size:\n",
    "\n",
    "        y0 = 0\n",
    "        while y0 < aoi_size:\n",
    "\n",
    "            # Figure out the lon/lat center of this tile. We will need it\n",
    "            # for some later processing.\n",
    "            xc = x0 + tile_size / 2\n",
    "            yc = y0 + tile_size / 2\n",
    "            tile_lon, tile_lat = proj_inverse(xc, yc)\n",
    "\n",
    "            x1 = x0 + tile_size\n",
    "            y1 = y0 + tile_size\n",
    "            xx = [x0, x1, x1, x0, x0]\n",
    "            yy = [y0, y0, y1, y1, y0]\n",
    "            tile_bbox = shapely.Polygon(list(zip(xx, yy)))\n",
    "\n",
    "            tile_gents = []\n",
    "            for gent in gents:\n",
    "                geomxy = shapely.affinity.translate(\n",
    "                    gent['geomxy'].intersection(tile_bbox),\n",
    "                    xoff=-x0, yoff=-y0\n",
    "                )\n",
    "                if geomxy.is_empty:\n",
    "                    continue\n",
    "                tile_gents.append({\n",
    "                    'category': gent['category'],\n",
    "                    'label': gent['label'],\n",
    "                    'geometry': geomxy,\n",
    "                    'gtype': gent['gtype'],\n",
    "                    'xoff': x0,\n",
    "                    'yoff': y0,\n",
    "                })\n",
    "\n",
    "            # Save that if it's big enough.\n",
    "            if len(tile_gents) >= min_entity_count:\n",
    "                tx = '%02d' % (x0 / tile_shift)\n",
    "                ty = '%02d' % (y0 / tile_shift)\n",
    "                fname = '%s/data/tiles/%s/%s-%s.pq' % (project_home, aoi_id, tx, ty)\n",
    "                os.makedirs(os.path.dirname(fname), exist_ok=True)\n",
    "                gdf = gpd.GeoDataFrame(tile_gents).drop_duplicates()\n",
    "                gdf.to_parquet(fname, index=False, compression=\"zstd\")\n",
    "                # print('wrote %s (%d)' % (fname, len(gdf)))\n",
    "\n",
    "                # Save the tile info.\n",
    "                tile_info.append({\n",
    "                    'fname': fname,\n",
    "                    'center_lon': tile_lon,\n",
    "                    'center_lat': tile_lat\n",
    "                })\n",
    "\n",
    "            y0 += tile_shift\n",
    "        x0 += tile_shift\n",
    "\n",
    "# Save the tile info.\n",
    "fname = '%s/data/tile_info.csv' % project_home\n",
    "pd.DataFrame(tile_info).to_csv(fname, index=False)\n",
    "print('saved tile info in %s' % fname)\n"
   ]
  },
  {
   "cell_type": "code",
   "execution_count": null,
   "id": "2ce25ebf-22f3-4013-91d5-1eb769471595",
   "metadata": {
    "colab": {
     "background_save": true
    },
    "id": "2ce25ebf-22f3-4013-91d5-1eb769471595"
   },
   "outputs": [],
   "source": [
    "# for g in tile_gents:\n",
    "#     print(g['geometry'].bounds)"
   ]
  },
  {
   "cell_type": "code",
   "execution_count": null,
   "id": "27c5a5e4-c36b-4cb0-88e7-bfff6768b0cd",
   "metadata": {
    "colab": {
     "background_save": true
    },
    "id": "27c5a5e4-c36b-4cb0-88e7-bfff6768b0cd"
   },
   "outputs": [],
   "source": [
    "# For debugging.\n",
    "\n",
    "# def pr_feature(f):\n",
    "#     print('feature')\n",
    "#     for k in f:\n",
    "#         if str(f[k]) != 'nan':\n",
    "#             print('    ', k, f[k])\n",
    "\n",
    "# def pr_gent(g):\n",
    "#     for k in g:\n",
    "#         if k == 'feature':\n",
    "#             pr_feature(g[k])\n",
    "#         else:\n",
    "#             print(k, g[k])\n",
    "#         geomxy = shapely.ops.transform(proj_inverse, feature['geometry'])\n",
    "\n",
    "# pr_gent(gents[121])"
   ]
  },
  {
   "cell_type": "code",
   "execution_count": null,
   "id": "b8f5f947-6046-45a3-8bdf-e9520f774f17",
   "metadata": {
    "colab": {
     "background_save": true
    },
    "id": "b8f5f947-6046-45a3-8bdf-e9520f774f17"
   },
   "outputs": [],
   "source": [
    "pd.DataFrame(gents)[['category', 'label', 'gtype']].value_counts().sort_index()"
   ]
  },
  {
   "cell_type": "markdown",
   "id": "cc0b619f-122e-4b7a-9555-876225102781",
   "metadata": {
    "id": "cc0b619f-122e-4b7a-9555-876225102781"
   },
   "source": [
    "## QA Check"
   ]
  },
  {
   "cell_type": "code",
   "execution_count": null,
   "id": "c5556f9a-5160-4f97-92d1-83e4d38c5bee",
   "metadata": {
    "colab": {
     "background_save": true
    },
    "id": "c5556f9a-5160-4f97-92d1-83e4d38c5bee"
   },
   "outputs": [],
   "source": [
    "# Take a look at the land/water polygons.\n",
    "import folium\n",
    "center_lon = (lon0 + lon1) / 2.0\n",
    "center_lat = (lat0 + lat1) / 2.0\n",
    "\n",
    "map_center = [center_lat, center_lon]\n",
    "m = folium.Map(location=map_center, zoom_start=10)\n",
    "geo_json = folium.GeoJson(landwater)\n",
    "geo_json.add_to(m)\n",
    "m\n"
   ]
  },
  {
   "cell_type": "code",
   "execution_count": null,
   "id": "f78b3475-3410-46e0-b854-69bd56b247e3",
   "metadata": {
    "colab": {
     "background_save": true
    },
    "id": "f78b3475-3410-46e0-b854-69bd56b247e3"
   },
   "outputs": [],
   "source": [
    "import folium\n",
    "center_lon = (lon0 + lon1) / 2.0\n",
    "center_lat = (lat0 + lat1) / 2.0\n",
    "\n",
    "map_center = [center_lat, center_lon]\n",
    "m = folium.Map(location=map_center, zoom_start=10)\n",
    "for gent in tile_gents:\n",
    "    g0 = gent['geometry']\n",
    "    g1 = shapely.affinity.translate(g0, xoff=gent['xoff'], yoff=gent['yoff'])\n",
    "    g2 = shapely.ops.transform(proj_inverse, g1)\n",
    "    geo_json = folium.GeoJson(g2)\n",
    "    geo_json.add_to(m)\n",
    "m\n"
   ]
  },
  {
   "cell_type": "code",
   "execution_count": null,
   "id": "3ad40885-fe6f-4a38-805e-ea0b06aaa8ef",
   "metadata": {
    "colab": {
     "background_save": true
    },
    "id": "3ad40885-fe6f-4a38-805e-ea0b06aaa8ef"
   },
   "outputs": [],
   "source": []
  },
  {
   "cell_type": "code",
   "execution_count": null,
   "id": "9c845342-ebbb-47c8-aeab-8b92208cae81",
   "metadata": {
    "colab": {
     "background_save": true
    },
    "id": "9c845342-ebbb-47c8-aeab-8b92208cae81"
   },
   "outputs": [],
   "source": []
  }
 ],
 "metadata": {
  "colab": {
   "name": "",
   "version": ""
  },
  "kernelspec": {
   "display_name": "Python 3 (ipykernel)",
   "language": "python",
   "name": "python3"
  },
  "language_info": {
   "codemirror_mode": {
    "name": "ipython",
    "version": 3
   },
   "file_extension": ".py",
   "mimetype": "text/x-python",
   "name": "python",
   "nbconvert_exporter": "python",
   "pygments_lexer": "ipython3",
   "version": "3.12.4"
  }
 },
 "nbformat": 4,
 "nbformat_minor": 5
}
