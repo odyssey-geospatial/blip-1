{
 "cells": [
  {
   "cell_type": "markdown",
   "id": "247fe97d-237c-456b-ac7c-2c19d3697703",
   "metadata": {},
   "source": [
    "# Sandbox for exploring use of H5 files"
   ]
  },
  {
   "cell_type": "code",
   "execution_count": 4,
   "id": "3a3d1d88-d652-4920-b19a-622b82d031a1",
   "metadata": {},
   "outputs": [],
   "source": [
    "import numpy as np\n",
    "import os"
   ]
  },
  {
   "cell_type": "code",
   "execution_count": 14,
   "id": "c559f7b5-19e0-4615-b05d-44a0706739bb",
   "metadata": {},
   "outputs": [
    {
     "name": "stdout",
     "output_type": "stream",
     "text": [
      "testdata/instance-0.npz\n",
      "testdata/instance-1.npz\n",
      "testdata/instance-2.npz\n",
      "testdata/instance-3.npz\n",
      "testdata/instance-4.npz\n"
     ]
    }
   ],
   "source": [
    "dname = 'testdata'\n",
    "os.makedirs(dname, exist_ok=True)\n",
    "n = 5\n",
    "\n",
    "for i in range(n):\n",
    "    row_count = 20 + np.random.randint(200)\n",
    "    col_count = 422\n",
    "    features = np.random.random((row_count, col_count))\n",
    "    labels = [np.random.randint(10) for _ in range(row_count)]\n",
    "    fname = '%s/instance-%d.npz' % (dname, i)\n",
    "    np.savez_compressed(fname, features=features, labels=labels)\n",
    "    print(fname)"
   ]
  },
  {
   "cell_type": "code",
   "execution_count": 17,
   "id": "c8e9ba0f-d6e8-4955-aae3-433f50f4e5c1",
   "metadata": {},
   "outputs": [
    {
     "name": "stdout",
     "output_type": "stream",
     "text": [
      "features (31, 422) labels (31,)\n",
      "features (151, 422) labels (151,)\n",
      "features (161, 422) labels (161,)\n",
      "features (39, 422) labels (39,)\n",
      "features (163, 422) labels (163,)\n"
     ]
    }
   ],
   "source": [
    "import glob\n",
    "globstring = 'testdata/*.npz'\n",
    "fnames = glob.glob(globstring)\n",
    "for fname in fnames:\n",
    "    data = np.load(fname)\n",
    "    features = data['features']\n",
    "    labels = data['labels']\n",
    "    print('features', features.shape, 'labels', labels.shape)"
   ]
  },
  {
   "cell_type": "code",
   "execution_count": 19,
   "id": "6d8854a7-898f-465b-9551-288f36877777",
   "metadata": {},
   "outputs": [
    {
     "data": {
      "text/plain": [
       "array([2, 3, 7, 1, 4, 4, 5, 5, 1, 0, 1, 9, 5, 5, 4, 6, 1, 2, 5, 2, 1, 4,\n",
       "       9, 9, 4, 1, 5, 4, 7, 7, 3, 7, 8, 0, 0, 0, 6, 5, 0, 0, 6, 1, 4, 5,\n",
       "       1, 5, 3, 5, 0, 4, 5, 3, 9, 1, 3, 7, 2, 0, 7, 5, 3, 2, 8, 7, 6, 7,\n",
       "       1, 6, 7, 6, 8, 0, 4, 8, 7, 8, 3, 4, 7, 6, 9, 4, 9, 1, 4, 6, 1, 4,\n",
       "       8, 8, 5, 1, 6, 1, 3, 2, 5, 7, 8, 6, 1, 3, 9, 1, 9, 0, 7, 0, 2, 6,\n",
       "       9, 3, 4, 5, 8, 2, 8, 7, 4, 2, 7, 9, 4, 7, 9, 1, 8, 2, 6, 5, 3, 0,\n",
       "       4, 5, 1, 9, 9, 3, 4, 5, 9, 0, 3, 8, 7, 2, 5, 4, 3, 2, 0, 4, 6, 6,\n",
       "       5, 0, 3, 3, 9, 2, 7, 7, 5])"
      ]
     },
     "execution_count": 19,
     "metadata": {},
     "output_type": "execute_result"
    }
   ],
   "source": [
    "labels"
   ]
  }
 ],
 "metadata": {
  "kernelspec": {
   "display_name": "Python 3 (ipykernel)",
   "language": "python",
   "name": "python3"
  },
  "language_info": {
   "codemirror_mode": {
    "name": "ipython",
    "version": 3
   },
   "file_extension": ".py",
   "mimetype": "text/x-python",
   "name": "python",
   "nbconvert_exporter": "python",
   "pygments_lexer": "ipython3",
   "version": "3.12.4"
  }
 },
 "nbformat": 4,
 "nbformat_minor": 5
}
