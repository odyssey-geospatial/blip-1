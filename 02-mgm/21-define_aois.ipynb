{
 "cells": [
  {
   "cell_type": "markdown",
   "id": "8442774e-1761-467d-88f3-60d178ebb536",
   "metadata": {},
   "source": [
    "### VERGE: Vector-mode Regional Geospatial Embedding\n",
    "\n",
    "# Define Areas Of Interest\n",
    "\n",
    "An AOI is some lon/lat box that will be further sub-divided into tiles,\n",
    "which are the units of analysis in this project. \n",
    "\n",
    "This notebook defines the tiles.\n"
   ]
  },
  {
   "cell_type": "code",
   "execution_count": null,
   "id": "623ab84b-5f12-4bef-8d6c-84cbae3986c5",
   "metadata": {},
   "outputs": [],
   "source": [
    "import pandas as pd\n",
    "import numpy as np\n",
    "import geopandas\n",
    "from rtree import index\n",
    "import folium\n",
    "import json\n",
    "import shapely\n",
    "import os"
   ]
  },
  {
   "cell_type": "markdown",
   "id": "dbadb823-79f3-4764-9816-bcdf6385e550",
   "metadata": {},
   "source": [
    "## Parameters"
   ]
  },
  {
   "cell_type": "code",
   "execution_count": null,
   "id": "a0ade688-9ea6-40cd-ac08-c52d9631f0e6",
   "metadata": {},
   "outputs": [],
   "source": [
    "# The top-level directory for this project.\n",
    "project_home = '..'\n",
    "\n",
    "# The name of the ROI to use.\n",
    "roi_name = 'ne-laptop'\n",
    "\n",
    "# The name of the general-purpose data directory.\n",
    "data_home = '%s/data' % (project_home)\n",
    "\n",
    "# The name of the ROI-specific data directory.\n",
    "roi_home = '%s/data/%s' % (project_home, roi_name)\n"
   ]
  },
  {
   "cell_type": "code",
   "execution_count": null,
   "id": "2169254a-2115-41ed-88b0-a12a6f0fe8e9",
   "metadata": {},
   "outputs": [],
   "source": [
    "# Define our region of interest.\n",
    "fname = '%s/roi.json' % roi_home\n",
    "with open(fname) as source:\n",
    "    roi = json.load(source)\n",
    "\n",
    "# Unpack these for convenience.\n",
    "lat0, lon0 = roi['lat0'], roi['lon0']\n",
    "lat1, lon1 = roi['lat1'], roi['lon1']\n"
   ]
  },
  {
   "cell_type": "code",
   "execution_count": null,
   "id": "ae9c3887-175b-483f-a3a3-23b21072e211",
   "metadata": {},
   "outputs": [],
   "source": [
    "# Read the big file containing world-wide land/water areas.\n",
    "fname = '%s/tl_rd22_us_uac20/tl_rd22_us_uac20.shp' % data_home\n",
    "global_gdf = geopandas.read_file(fname)\n",
    "print('%d urban area polygons' % len(global_gdf))"
   ]
  },
  {
   "cell_type": "code",
   "execution_count": null,
   "id": "b7f74c3e-4948-471f-9470-9a4f221bf38d",
   "metadata": {},
   "outputs": [],
   "source": [
    "# Put all of those into a spatial index.\n",
    "spatial_index = index.Index()\n",
    "\n",
    "for idx, geom in enumerate(global_gdf.geometry):\n",
    "    if geom is not None:\n",
    "        spatial_index.insert(idx, geom.bounds)  # bounds = (minx, miny, maxx, maxy)\n"
   ]
  },
  {
   "cell_type": "code",
   "execution_count": null,
   "id": "ac97b41f-7348-461c-9d00-e987d5235eaf",
   "metadata": {},
   "outputs": [],
   "source": [
    "# Get the polygons covering our region.\n",
    "query_bounds = (lon0, lat0, lon1, lat1)\n",
    "matches = list(spatial_index.intersection(query_bounds))\n",
    "regional_gdf = global_gdf.iloc[matches]\n",
    "print('%d urban polygons in our region [%s]' % (len(regional_gdf), roi['name']))"
   ]
  },
  {
   "cell_type": "code",
   "execution_count": null,
   "id": "e9268632-9453-4670-acea-62eb69d41fd0",
   "metadata": {},
   "outputs": [],
   "source": [
    "# See what we got.\n",
    "center_lon = (lon0 + lon1) / 2.0\n",
    "center_lat = (lat0 + lat1) / 2.0\n",
    "\n",
    "map_center = [center_lat, center_lon]\n",
    "m = folium.Map(location=map_center, zoom_start=7)\n",
    "for _, row in regional_gdf.iterrows():\n",
    "    if row['geometry'].geom_type in ['Polygon', 'MultiPolygon']:\n",
    "        geo_json = folium.GeoJson(row.geometry)\n",
    "        geo_json.add_to(m)\n",
    "m"
   ]
  },
  {
   "cell_type": "code",
   "execution_count": null,
   "id": "a8fe61ae-a210-4f39-a50e-bb51d633ddd0",
   "metadata": {},
   "outputs": [],
   "source": [
    "# Save it.\n",
    "fname = '%s/urban' % (roi_home)\n",
    "try:\n",
    "    regional_gdf.to_file(fname, driver=\"ESRI Shapefile\", mode='w')\n",
    "except PermissionError:\n",
    "    print(\"Write failed. Probably because the file exists and can't be overwritten.\")"
   ]
  },
  {
   "cell_type": "markdown",
   "id": "81645af4-d0ef-43c0-bbe6-2f32383cbc73",
   "metadata": {},
   "source": [
    "## Get a list of AOIs\n",
    "An AOI is a lon/lat box that has some minmum degree of overlap \n",
    "with an urban area."
   ]
  },
  {
   "cell_type": "code",
   "execution_count": null,
   "id": "8ac47e45-054b-4613-85da-c2a0b3883576",
   "metadata": {},
   "outputs": [],
   "source": [
    "# Create a multipolygon with all of the polygons in the geo frame.\n",
    "\n",
    "polys = []\n",
    "for r in regional_gdf.to_dict('records'):\n",
    "    g = r['geometry']\n",
    "    if g.geom_type == 'Polygon':\n",
    "        polys.append(g)\n",
    "    elif g.geom_type == 'MultiPolygon':\n",
    "        polys += list(g.geoms)\n",
    "\n",
    "all_urban = shapely.geometry.MultiPolygon(polys)"
   ]
  },
  {
   "cell_type": "code",
   "execution_count": null,
   "id": "48217d15-8c11-42d5-a071-aa9718aa6307",
   "metadata": {},
   "outputs": [],
   "source": [
    "# Loop over possible AOIs, checking their overlap with urban areas.\n",
    "\n",
    "dlon, dlat = 0.1, 0.1\n",
    "coverage_threshold = 0.2\n",
    "n = 0\n",
    "aois = []\n",
    "\n",
    "def aoi_name(lon, lat):\n",
    "    h = 'w' if lon < 0 else 'e'\n",
    "    a = '%04.0f%s' % (np.abs(lon) * 10, h)\n",
    "    h = 's' if lat < 0 else 'n'\n",
    "    b = '%03.0f%s' % (np.abs(lat) * 10, h)\n",
    "    return '%s-%s' % (a, b)\n",
    "    \n",
    "aoi_lon0 = np.ceil(lon0 / 0.1) * 0.1\n",
    "while aoi_lon0 + dlon < lon1:\n",
    "    aoi_lon1 = aoi_lon0 + dlon\n",
    "    \n",
    "    aoi_lat0 = np.ceil(lat0 / 0.1) * 0.1\n",
    "    while aoi_lat0 + dlat < lat1:\n",
    "        aoi_lat1 = aoi_lat0 + dlat\n",
    "        \n",
    "        coords = [\n",
    "            (aoi_lon0, aoi_lat0), \n",
    "            (aoi_lon1, aoi_lat0), \n",
    "            (aoi_lon1, aoi_lat1), \n",
    "            (aoi_lon0, aoi_lat1), \n",
    "            (aoi_lon0, aoi_lat0)\n",
    "        ]\n",
    "        aoi = shapely.geometry.Polygon(coords)\n",
    "\n",
    "        # Get overlap with urban areas.\n",
    "        overlap = aoi.intersection(all_urban)\n",
    "\n",
    "        # Check proportional coverage.\n",
    "        coverage = overlap.area / aoi.area\n",
    "\n",
    "        if coverage >= coverage_threshold:\n",
    "            nom = aoi_name(aoi_lon0, aoi_lat0)\n",
    "            aois.append({\n",
    "                'aoi_tag': nom,\n",
    "                'lon0': np.round(aoi_lon0, 1),\n",
    "                'lat0': np.round(aoi_lat0, 1),\n",
    "                'lon1': np.round(aoi_lon1, 1),\n",
    "                'lat1': np.round(aoi_lat1, 1),\n",
    "            })\n",
    "                \n",
    "            # print(nom, '%.2f %.2f %.4f' % (aoi_lon0, aoi_lat0, coverage))\n",
    "            n += 1\n",
    "\n",
    "        aoi_lat0 += dlat\n",
    "    aoi_lon0 += dlon\n",
    "print('%d aois' % n)"
   ]
  },
  {
   "cell_type": "code",
   "execution_count": null,
   "id": "0b4c58b5-0b98-47d1-bbb6-6c57ad77c2d7",
   "metadata": {},
   "outputs": [],
   "source": [
    "# Save the list of AOIs.\n",
    "fname = '%s/aois.csv' % (roi_home)\n",
    "pd.DataFrame(aois).to_csv(fname, index=False)\n",
    "print('%d records to %s' % (len(aois), fname))"
   ]
  },
  {
   "cell_type": "code",
   "execution_count": null,
   "id": "31f6859b-876f-4fb4-9309-ee49bf983ebf",
   "metadata": {},
   "outputs": [],
   "source": []
  },
  {
   "cell_type": "code",
   "execution_count": null,
   "id": "8152c35f-1edc-4e26-9488-ca27d67df5f5",
   "metadata": {},
   "outputs": [],
   "source": []
  }
 ],
 "metadata": {
  "kernelspec": {
   "display_name": "Python 3 (ipykernel)",
   "language": "python",
   "name": "python3"
  },
  "language_info": {
   "codemirror_mode": {
    "name": "ipython",
    "version": 3
   },
   "file_extension": ".py",
   "mimetype": "text/x-python",
   "name": "python",
   "nbconvert_exporter": "python",
   "pygments_lexer": "ipython3",
   "version": "3.10.1"
  }
 },
 "nbformat": 4,
 "nbformat_minor": 5
}
