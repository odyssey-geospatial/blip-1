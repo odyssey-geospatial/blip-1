{
 "cells": [
  {
   "cell_type": "markdown",
   "id": "33e104f6-2875-48dc-86fd-d3cfdffe4087",
   "metadata": {
    "id": "33e104f6-2875-48dc-86fd-d3cfdffe4087"
   },
   "source": [
    "### VERGE: vecotr-mode Regional Geospatial Embeddings\n",
    "# Initialize Region Of Interest\n",
    "\n",
    "In this project we will analyze a particular region of interest, defined by a\n",
    "lon/lat bounding box. Here we save a dict with all ROI-specific parameters."
   ]
  },
  {
   "cell_type": "markdown",
   "id": "dXo_n45CNt5T",
   "metadata": {
    "id": "dXo_n45CNt5T"
   },
   "source": [
    "## Processing Setup"
   ]
  },
  {
   "cell_type": "code",
   "execution_count": null,
   "id": "rjyGpvTwNVfs",
   "metadata": {
    "colab": {
     "base_uri": "https://localhost:8080/"
    },
    "executionInfo": {
     "elapsed": 539,
     "status": "ok",
     "timestamp": 1753525049000,
     "user": {
      "displayName": "John Collins",
      "userId": "16643596247369517939"
     },
     "user_tz": 240
    },
    "id": "rjyGpvTwNVfs",
    "outputId": "c4b20848-68b2-4337-8acc-cf0e843a6397"
   },
   "outputs": [],
   "source": [
    "# Google colab setup\n",
    "# import os\n",
    "# from google.colab import drive\n",
    "# drive.mount('/content/drive')\n",
    "# project_home = '/content/drive/MyDrive/Projects/verge'\n",
    "# os.chdir(project_home)"
   ]
  },
  {
   "cell_type": "code",
   "execution_count": null,
   "id": "3tDRMJTVNd9f",
   "metadata": {
    "executionInfo": {
     "elapsed": 4,
     "status": "ok",
     "timestamp": 1753525049006,
     "user": {
      "displayName": "John Collins",
      "userId": "16643596247369517939"
     },
     "user_tz": 240
    },
    "id": "3tDRMJTVNd9f"
   },
   "outputs": [],
   "source": [
    "# Local processing setup\n",
    "project_home = '..'"
   ]
  },
  {
   "cell_type": "code",
   "execution_count": null,
   "id": "xOX33ll5NMG-",
   "metadata": {
    "colab": {
     "base_uri": "https://localhost:8080/"
    },
    "executionInfo": {
     "elapsed": 148,
     "status": "ok",
     "timestamp": 1753525049156,
     "user": {
      "displayName": "John Collins",
      "userId": "16643596247369517939"
     },
     "user_tz": 240
    },
    "id": "xOX33ll5NMG-",
    "outputId": "1e01367e-6bd0-45cc-89b3-0e81c066d9df"
   },
   "outputs": [],
   "source": [
    "!pwd"
   ]
  },
  {
   "cell_type": "markdown",
   "id": "FqBydyHNOJA1",
   "metadata": {
    "id": "FqBydyHNOJA1"
   },
   "source": [
    "## Code"
   ]
  },
  {
   "cell_type": "code",
   "execution_count": null,
   "id": "308ec8dc-bda4-46e9-b8ef-8fbc2f08f0fc",
   "metadata": {
    "executionInfo": {
     "elapsed": 12,
     "status": "ok",
     "timestamp": 1753525049164,
     "user": {
      "displayName": "John Collins",
      "userId": "16643596247369517939"
     },
     "user_tz": 240
    },
    "id": "308ec8dc-bda4-46e9-b8ef-8fbc2f08f0fc"
   },
   "outputs": [],
   "source": [
    "import pyproj\n",
    "import numpy as np\n",
    "import json\n",
    "import os"
   ]
  },
  {
   "cell_type": "code",
   "execution_count": null,
   "id": "e62e5846-676c-4869-9812-c77590be285b",
   "metadata": {
    "executionInfo": {
     "elapsed": 1,
     "status": "ok",
     "timestamp": 1753525049166,
     "user": {
      "displayName": "John Collins",
      "userId": "16643596247369517939"
     },
     "user_tz": 240
    },
    "id": "e62e5846-676c-4869-9812-c77590be285b"
   },
   "outputs": [],
   "source": [
    "# ROI name and bounds\n",
    "roi_name = 'ne-laptop' # New England, for development on my laptop\n",
    "lat0, lon0 = 41.253746, -73.564321\n",
    "lat1, lon1 = 45.116468, -68.058533\n",
    "\n",
    "# Size of tiles, in meters.\n",
    "tile_size = 2000\n",
    "\n",
    "# Resolution of encodings, in meters.\n",
    "encoding_resolution = 100\n",
    "\n",
    "# How much to shift consecutive tiles when tiling an AOI, in meters.\n",
    "tile_shift = 1000"
   ]
  },
  {
   "cell_type": "code",
   "execution_count": null,
   "id": "1bdf4954-6f06-43c8-86f5-30e6480e18fd",
   "metadata": {
    "executionInfo": {
     "elapsed": 1,
     "status": "ok",
     "timestamp": 1753525049167,
     "user": {
      "displayName": "John Collins",
      "userId": "16643596247369517939"
     },
     "user_tz": 240
    },
    "id": "1bdf4954-6f06-43c8-86f5-30e6480e18fd"
   },
   "outputs": [],
   "source": [
    "# The name of the general-purpose data directory.\n",
    "data_home = '%s/data' % (project_home)\n",
    "os.makedirs(data_home, exist_ok=True)\n",
    "\n",
    "# The name of the ROI-specific data directory.\n",
    "roi_home = '%s/data/%s' % (project_home, roi_name)\n",
    "os.makedirs(roi_home, exist_ok=True)\n"
   ]
  },
  {
   "cell_type": "code",
   "execution_count": null,
   "id": "21fa71ad-aa46-4d39-9177-297923f43bf4",
   "metadata": {
    "executionInfo": {
     "elapsed": 53,
     "status": "ok",
     "timestamp": 1753525049224,
     "user": {
      "displayName": "John Collins",
      "userId": "16643596247369517939"
     },
     "user_tz": 240
    },
    "id": "21fa71ad-aa46-4d39-9177-297923f43bf4"
   },
   "outputs": [],
   "source": [
    "# Get a good map projection for this ROI.\n",
    "center_lat = (lat0 + lat1) / 2\n",
    "center_lon = (lon0 + lon1) / 2\n",
    "\n",
    "# Local transverse mercator projection.\n",
    "proj_def = f\"\"\"\n",
    "+proj=tmerc +lat_0={center_lat} +lon_0={center_lon}\n",
    "+k=1.0 +x_0=0 +y_0=0 +datum=WGS84 +units=m +no_defs\n",
    "\"\"\"\n",
    "ltm_crs = pyproj.CRS.from_proj4(proj_def)\n",
    "\n",
    "# Forward and inverse transforms with WGS84.\n",
    "wgs84_crs = pyproj.CRS.from_epsg(4326)\n",
    "proj_forward = pyproj.Transformer.from_crs(wgs84_crs, ltm_crs, always_xy=True).transform\n",
    "proj_inverse = pyproj.Transformer.from_crs(ltm_crs, wgs84_crs, always_xy=True).transform\n",
    "\n",
    "# Get the coords of the lower left corner.\n",
    "x0, y0 = proj_forward(lon0, lat0)\n",
    "\n",
    "# Get an offset.\n",
    "x_offset = -np.floor(x0 / 1000) * 1000\n",
    "y_offset = -np.floor(y0 / 1000) * 1000\n"
   ]
  },
  {
   "cell_type": "code",
   "execution_count": null,
   "id": "1b627154-41c9-4000-a52d-357fa7ab7136",
   "metadata": {
    "colab": {
     "base_uri": "https://localhost:8080/"
    },
    "executionInfo": {
     "elapsed": 68,
     "status": "ok",
     "timestamp": 1753525049289,
     "user": {
      "displayName": "John Collins",
      "userId": "16643596247369517939"
     },
     "user_tz": 240
    },
    "id": "1b627154-41c9-4000-a52d-357fa7ab7136",
    "outputId": "8223a37b-84ae-4596-f126-5fc22a492ddf"
   },
   "outputs": [],
   "source": [
    "# Re-define the local transverse mercator projection, with offsets.\n",
    "proj_def = f\"\"\"\n",
    "+proj=tmerc +lat_0={center_lat} +lon_0={center_lon}\n",
    "+k=1.0 +x_0={x_offset} +y_0={y_offset} +datum=WGS84 +units=m +no_defs\n",
    "\"\"\"\n",
    "ltm_crs = pyproj.CRS.from_proj4(proj_def)\n",
    "\n",
    "# Forward and inverse transforms with WGS84.\n",
    "wgs84_crs = pyproj.CRS.from_epsg(4326)\n",
    "proj_forward = pyproj.Transformer.from_crs(wgs84_crs, ltm_crs, always_xy=True).transform\n",
    "proj_inverse = pyproj.Transformer.from_crs(ltm_crs, wgs84_crs, always_xy=True).transform\n",
    "\n",
    "# Get the coords of the lower left corner.\n",
    "x0, y0 = proj_forward(lon0, lat0)\n",
    "print(x0, y0)\n"
   ]
  },
  {
   "cell_type": "code",
   "execution_count": null,
   "id": "5637490a-70d2-4a67-9c2d-765cc6ec39c8",
   "metadata": {
    "colab": {
     "base_uri": "https://localhost:8080/"
    },
    "executionInfo": {
     "elapsed": 18,
     "status": "ok",
     "timestamp": 1753525049289,
     "user": {
      "displayName": "John Collins",
      "userId": "16643596247369517939"
     },
     "user_tz": 240
    },
    "id": "5637490a-70d2-4a67-9c2d-765cc6ec39c8",
    "outputId": "a829a6cc-be06-4b40-e236-f1b46d9b90d7"
   },
   "outputs": [],
   "source": [
    "print(proj_def)"
   ]
  },
  {
   "cell_type": "code",
   "execution_count": null,
   "id": "8cc3e13c-68c1-462f-81ad-2cb1cda61458",
   "metadata": {
    "executionInfo": {
     "elapsed": 35,
     "status": "ok",
     "timestamp": 1753525049311,
     "user": {
      "displayName": "John Collins",
      "userId": "16643596247369517939"
     },
     "user_tz": 240
    },
    "id": "8cc3e13c-68c1-462f-81ad-2cb1cda61458"
   },
   "outputs": [],
   "source": [
    "# Save all that.\n",
    "import json\n",
    "roi = {\n",
    "    'name': roi_name,\n",
    "    'lon0': lon0,\n",
    "    'lat0': lat0,\n",
    "    'lon1': lon1,\n",
    "    'lat1': lat1,\n",
    "    'proj_def': proj_def,\n",
    "    'tile_size': tile_size,\n",
    "    'tile_shift': tile_shift,\n",
    "    'encoding_resolution': encoding_resolution\n",
    "}\n",
    "\n",
    "fname = '%s/roi.json' % roi_home\n",
    "with open(fname, 'w') as dest:\n",
    "    json.dump(roi, dest, indent=4)\n",
    "print('saved %s' % fname)\n"
   ]
  },
  {
   "cell_type": "code",
   "execution_count": null,
   "id": "7fcd887d-9223-4ad4-ad1f-985da3ed92d8",
   "metadata": {
    "executionInfo": {
     "elapsed": 3,
     "status": "ok",
     "timestamp": 1753525049312,
     "user": {
      "displayName": "John Collins",
      "userId": "16643596247369517939"
     },
     "user_tz": 240
    },
    "id": "7fcd887d-9223-4ad4-ad1f-985da3ed92d8"
   },
   "outputs": [],
   "source": []
  },
  {
   "cell_type": "code",
   "execution_count": null,
   "id": "2b43edf7-24a3-4c64-a2d6-f51fecd270a3",
   "metadata": {
    "executionInfo": {
     "elapsed": 4,
     "status": "ok",
     "timestamp": 1753525049314,
     "user": {
      "displayName": "John Collins",
      "userId": "16643596247369517939"
     },
     "user_tz": 240
    },
    "id": "2b43edf7-24a3-4c64-a2d6-f51fecd270a3"
   },
   "outputs": [],
   "source": []
  }
 ],
 "metadata": {
  "colab": {
   "provenance": []
  },
  "kernelspec": {
   "display_name": "Python 3 (ipykernel)",
   "language": "python",
   "name": "python3"
  },
  "language_info": {
   "codemirror_mode": {
    "name": "ipython",
    "version": 3
   },
   "file_extension": ".py",
   "mimetype": "text/x-python",
   "name": "python",
   "nbconvert_exporter": "python",
   "pygments_lexer": "ipython3",
   "version": "3.10.1"
  }
 },
 "nbformat": 4,
 "nbformat_minor": 5
}
