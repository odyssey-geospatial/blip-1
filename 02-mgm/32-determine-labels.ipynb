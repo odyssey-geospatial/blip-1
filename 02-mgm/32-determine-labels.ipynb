{
 "cells": [
  {
   "cell_type": "markdown",
   "id": "72a6e9b4-45a1-4633-900f-79b461d79faf",
   "metadata": {},
   "source": [
    "# Determine labels for geospatial entities\n",
    "\n",
    "We have a set of rules that define the labels for our geospatial entities.\n",
    "This file goes throught that list of rules to determine all of the possible labels.\n",
    "The it writes the list to a file along with a numberical ID.\n",
    "\n"
   ]
  },
  {
   "cell_type": "code",
   "execution_count": null,
   "id": "084cb965",
   "metadata": {},
   "outputs": [],
   "source": [
    "import pandas as pd\n",
    "import numpy as np\n",
    "from mgm_utilities import rules\n"
   ]
  },
  {
   "cell_type": "code",
   "execution_count": null,
   "id": "e1f373ba-ee5f-4f97-bf6a-b34acee289b4",
   "metadata": {},
   "outputs": [],
   "source": [
    "labels = set()\n",
    "for r in rules:\n",
    "    label = '%s : %s' % (r['gent_category'], r['gent_label'])\n",
    "    labels.add(label)\n",
    "\n",
    "# This is a special case, that is created differently so it is not in the rule set.\n",
    "labels.add('waterway : land')\n",
    "\n",
    "# # These will be special cases.\n",
    "# labels.add('token : mask')\n",
    "# labels.add('token : pad')"
   ]
  },
  {
   "cell_type": "code",
   "execution_count": null,
   "id": "dc4bd7d7-13f3-48dc-b4b4-8badf009f858",
   "metadata": {},
   "outputs": [],
   "source": [
    "records = []\n",
    "for k, label in enumerate(sorted(labels)):\n",
    "    records.append({'id': k, 'label': label, })\n",
    "    print(k, label)\n"
   ]
  },
  {
   "cell_type": "code",
   "execution_count": null,
   "id": "488bc1b9-014c-4062-8a1b-ea8be10d14d1",
   "metadata": {},
   "outputs": [],
   "source": [
    "fname = 'data/labels.csv'\n",
    "pd.DataFrame(records).to_csv(fname, index=False)\n",
    "print('wrote %s' % fname)"
   ]
  },
  {
   "cell_type": "code",
   "execution_count": null,
   "id": "dcb877b0-1b3c-4e3a-b805-22a5691d9565",
   "metadata": {},
   "outputs": [],
   "source": []
  },
  {
   "cell_type": "code",
   "execution_count": null,
   "id": "1a81e357",
   "metadata": {},
   "outputs": [],
   "source": []
  }
 ],
 "metadata": {
  "kernelspec": {
   "display_name": "Python 3 (ipykernel)",
   "language": "python",
   "name": "python3"
  },
  "language_info": {
   "codemirror_mode": {
    "name": "ipython",
    "version": 3
   },
   "file_extension": ".py",
   "mimetype": "text/x-python",
   "name": "python",
   "nbconvert_exporter": "python",
   "pygments_lexer": "ipython3",
   "version": "3.12.4"
  }
 },
 "nbformat": 4,
 "nbformat_minor": 5
}
