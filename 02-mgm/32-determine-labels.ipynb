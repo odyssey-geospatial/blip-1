{
 "cells": [
  {
   "cell_type": "markdown",
   "id": "72a6e9b4-45a1-4633-900f-79b461d79faf",
   "metadata": {
    "id": "72a6e9b4-45a1-4633-900f-79b461d79faf"
   },
   "source": [
    "# Determine labels for geospatial entities\n",
    "\n",
    "We have a set of rules that define the labels for our geospatial entities.\n",
    "This file goes throught that list of rules to determine all of the possible labels.\n",
    "The it writes the list to a file along with a numberical ID.\n",
    "\n"
   ]
  },
  {
   "cell_type": "markdown",
   "id": "SMJiG9S_0VcB",
   "metadata": {
    "id": "SMJiG9S_0VcB"
   },
   "source": [
    "## Processing Setup"
   ]
  },
  {
   "cell_type": "code",
   "execution_count": null,
   "id": "ropcUHsvzNic",
   "metadata": {
    "colab": {
     "base_uri": "https://localhost:8080/"
    },
    "executionInfo": {
     "elapsed": 490,
     "status": "ok",
     "timestamp": 1753525643210,
     "user": {
      "displayName": "John Collins",
      "userId": "16643596247369517939"
     },
     "user_tz": 240
    },
    "id": "ropcUHsvzNic",
    "outputId": "cbd77aa9-211f-4ce3-d5bb-f309d94baa47"
   },
   "outputs": [],
   "source": [
    "# Google colab setup\n",
    "# import os\n",
    "# from google.colab import drive\n",
    "# drive.mount('/content/drive')\n",
    "# project_home = '/content/drive/MyDrive/Projects/verge'\n",
    "# os.chdir(project_home)"
   ]
  },
  {
   "cell_type": "code",
   "execution_count": null,
   "id": "7zgWUxpxQaaz",
   "metadata": {
    "executionInfo": {
     "elapsed": 2,
     "status": "ok",
     "timestamp": 1753525645167,
     "user": {
      "displayName": "John Collins",
      "userId": "16643596247369517939"
     },
     "user_tz": 240
    },
    "id": "7zgWUxpxQaaz"
   },
   "outputs": [],
   "source": [
    "# # Local processing setup\n",
    "project_home = '..'"
   ]
  },
  {
   "cell_type": "code",
   "execution_count": null,
   "id": "b7i31XwtQdlE",
   "metadata": {
    "colab": {
     "base_uri": "https://localhost:8080/"
    },
    "executionInfo": {
     "elapsed": 106,
     "status": "ok",
     "timestamp": 1753525646345,
     "user": {
      "displayName": "John Collins",
      "userId": "16643596247369517939"
     },
     "user_tz": 240
    },
    "id": "b7i31XwtQdlE",
    "outputId": "929e049c-7ae8-43b1-cb76-083ac4528a16"
   },
   "outputs": [],
   "source": [
    "!pwd"
   ]
  },
  {
   "cell_type": "markdown",
   "id": "HTEeKpIVQSCI",
   "metadata": {
    "id": "HTEeKpIVQSCI"
   },
   "source": [
    "## Notebook setup"
   ]
  },
  {
   "cell_type": "code",
   "execution_count": null,
   "id": "084cb965",
   "metadata": {
    "executionInfo": {
     "elapsed": 642,
     "status": "ok",
     "timestamp": 1753525652149,
     "user": {
      "displayName": "John Collins",
      "userId": "16643596247369517939"
     },
     "user_tz": 240
    },
    "id": "084cb965"
   },
   "outputs": [],
   "source": [
    "import pandas as pd\n",
    "import numpy as np\n",
    "\n",
    "import sys\n",
    "sys.path.append(project_home)\n",
    "from utils.verge import rules\n"
   ]
  },
  {
   "cell_type": "markdown",
   "id": "1fed0eed-986d-407f-813b-d57e7a2cdd5d",
   "metadata": {},
   "source": [
    "## Parameters"
   ]
  },
  {
   "cell_type": "code",
   "execution_count": null,
   "id": "d10970f9-dca7-4792-b4b4-377a888e7462",
   "metadata": {
    "executionInfo": {
     "elapsed": 2,
     "status": "ok",
     "timestamp": 1753525650208,
     "user": {
      "displayName": "John Collins",
      "userId": "16643596247369517939"
     },
     "user_tz": 240
    },
    "id": "d10970f9-dca7-4792-b4b4-377a888e7462"
   },
   "outputs": [],
   "source": [
    "# The name of the ROI to use.\n",
    "roi_name = 'ne-laptop'\n",
    "\n",
    "# The name of the general-purpose data directory.\n",
    "data_home = '%s/data' % (project_home)\n",
    "\n",
    "# The name of the ROI-specific data directory.\n",
    "roi_home = '%s/data/%s' % (project_home, roi_name)\n"
   ]
  },
  {
   "cell_type": "code",
   "execution_count": null,
   "id": "e1f373ba-ee5f-4f97-bf6a-b34acee289b4",
   "metadata": {
    "executionInfo": {
     "elapsed": 39,
     "status": "ok",
     "timestamp": 1753525659838,
     "user": {
      "displayName": "John Collins",
      "userId": "16643596247369517939"
     },
     "user_tz": 240
    },
    "id": "e1f373ba-ee5f-4f97-bf6a-b34acee289b4"
   },
   "outputs": [],
   "source": [
    "labels = set()\n",
    "for r in rules:\n",
    "    label = '%s : %s' % (r['gent_category'], r['gent_label'])\n",
    "    labels.add(label)\n",
    "\n",
    "# This is a special case, that is created differently so it is not in the rule set.\n",
    "labels.add('waterway : land')\n",
    "\n",
    "# # These will be special cases.\n",
    "# labels.add('token : mask')\n",
    "# labels.add('token : pad')"
   ]
  },
  {
   "cell_type": "code",
   "execution_count": null,
   "id": "dc4bd7d7-13f3-48dc-b4b4-8badf009f858",
   "metadata": {
    "colab": {
     "base_uri": "https://localhost:8080/"
    },
    "executionInfo": {
     "elapsed": 5,
     "status": "ok",
     "timestamp": 1753525676273,
     "user": {
      "displayName": "John Collins",
      "userId": "16643596247369517939"
     },
     "user_tz": 240
    },
    "id": "dc4bd7d7-13f3-48dc-b4b4-8badf009f858",
    "outputId": "4e8d9383-b550-4c1c-ae99-ed2930ca3b10"
   },
   "outputs": [],
   "source": [
    "records = []\n",
    "for k, label in enumerate(sorted(labels)):\n",
    "    records.append({'id': k, 'label': label, })\n",
    "    print(k, label)\n"
   ]
  },
  {
   "cell_type": "code",
   "execution_count": null,
   "id": "488bc1b9-014c-4062-8a1b-ea8be10d14d1",
   "metadata": {
    "colab": {
     "base_uri": "https://localhost:8080/"
    },
    "executionInfo": {
     "elapsed": 25,
     "status": "ok",
     "timestamp": 1753525681759,
     "user": {
      "displayName": "John Collins",
      "userId": "16643596247369517939"
     },
     "user_tz": 240
    },
    "id": "488bc1b9-014c-4062-8a1b-ea8be10d14d1",
    "outputId": "8fa8ebe2-70dc-4dc2-e0db-74416114a6a7"
   },
   "outputs": [],
   "source": [
    "fname = '%s/labels.csv' % data_home\n",
    "pd.DataFrame(records).to_csv(fname, index=False)\n",
    "print('wrote %s' % fname)"
   ]
  },
  {
   "cell_type": "code",
   "execution_count": null,
   "id": "1a81e357",
   "metadata": {
    "id": "1a81e357"
   },
   "outputs": [],
   "source": []
  }
 ],
 "metadata": {
  "colab": {
   "provenance": []
  },
  "kernelspec": {
   "display_name": "Python 3 (ipykernel)",
   "language": "python",
   "name": "python3"
  },
  "language_info": {
   "codemirror_mode": {
    "name": "ipython",
    "version": 3
   },
   "file_extension": ".py",
   "mimetype": "text/x-python",
   "name": "python",
   "nbconvert_exporter": "python",
   "pygments_lexer": "ipython3",
   "version": "3.10.1"
  }
 },
 "nbformat": 4,
 "nbformat_minor": 5
}
