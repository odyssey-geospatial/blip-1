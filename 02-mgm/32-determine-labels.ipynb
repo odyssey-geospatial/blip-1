{
 "cells": [
  {
   "cell_type": "markdown",
   "id": "72a6e9b4-45a1-4633-900f-79b461d79faf",
   "metadata": {
    "id": "72a6e9b4-45a1-4633-900f-79b461d79faf"
   },
   "source": [
    "# Determine labels for geospatial entities\n",
    "\n",
    "We have a set of rules that define the labels for our geospatial entities.\n",
    "This file goes throught that list of rules to determine all of the possible labels.\n",
    "The it writes the list to a file along with a numberical ID.\n",
    "\n"
   ]
  },
  {
   "cell_type": "markdown",
   "id": "SMJiG9S_0VcB",
   "metadata": {
    "id": "SMJiG9S_0VcB"
   },
   "source": [
    "## Setup"
   ]
  },
  {
   "cell_type": "code",
   "execution_count": null,
   "id": "ropcUHsvzNic",
   "metadata": {
    "colab": {
     "base_uri": "https://localhost:8080/"
    },
    "executionInfo": {
     "elapsed": 23948,
     "status": "ok",
     "timestamp": 1750869660723,
     "user": {
      "displayName": "John Collins",
      "userId": "16643596247369517939"
     },
     "user_tz": 240
    },
    "id": "ropcUHsvzNic",
    "outputId": "59dff979-19d0-4a9f-dfda-2722051ed1ad"
   },
   "outputs": [],
   "source": [
    "# Get set up to run this notebook in Google Colab.\n",
    "from google.colab import drive\n",
    "drive.mount('/content/drive')\n",
    "project_home = '/content/drive/MyDrive/Projects/verge'"
   ]
  },
  {
   "cell_type": "code",
   "execution_count": null,
   "id": "084cb965",
   "metadata": {
    "executionInfo": {
     "elapsed": 7810,
     "status": "ok",
     "timestamp": 1750869744003,
     "user": {
      "displayName": "John Collins",
      "userId": "16643596247369517939"
     },
     "user_tz": 240
    },
    "id": "084cb965"
   },
   "outputs": [],
   "source": [
    "import pandas as pd\n",
    "import numpy as np\n",
    "\n",
    "import sys\n",
    "sys.path.append(project_home)\n",
    "from utils.verge import rules\n"
   ]
  },
  {
   "cell_type": "code",
   "execution_count": null,
   "id": "e1f373ba-ee5f-4f97-bf6a-b34acee289b4",
   "metadata": {
    "executionInfo": {
     "elapsed": 4,
     "status": "ok",
     "timestamp": 1750869749661,
     "user": {
      "displayName": "John Collins",
      "userId": "16643596247369517939"
     },
     "user_tz": 240
    },
    "id": "e1f373ba-ee5f-4f97-bf6a-b34acee289b4"
   },
   "outputs": [],
   "source": [
    "labels = set()\n",
    "for r in rules:\n",
    "    label = '%s : %s' % (r['gent_category'], r['gent_label'])\n",
    "    labels.add(label)\n",
    "\n",
    "# This is a special case, that is created differently so it is not in the rule set.\n",
    "labels.add('waterway : land')\n",
    "\n",
    "# # These will be special cases.\n",
    "# labels.add('token : mask')\n",
    "# labels.add('token : pad')"
   ]
  },
  {
   "cell_type": "code",
   "execution_count": null,
   "id": "dc4bd7d7-13f3-48dc-b4b4-8badf009f858",
   "metadata": {
    "colab": {
     "base_uri": "https://localhost:8080/"
    },
    "executionInfo": {
     "elapsed": 5,
     "status": "ok",
     "timestamp": 1750869751198,
     "user": {
      "displayName": "John Collins",
      "userId": "16643596247369517939"
     },
     "user_tz": 240
    },
    "id": "dc4bd7d7-13f3-48dc-b4b4-8badf009f858",
    "outputId": "da73094b-e5e8-4be2-95ac-891c7668a277"
   },
   "outputs": [],
   "source": [
    "records = []\n",
    "for k, label in enumerate(sorted(labels)):\n",
    "    records.append({'id': k, 'label': label, })\n",
    "    print(k, label)\n"
   ]
  },
  {
   "cell_type": "code",
   "execution_count": null,
   "id": "488bc1b9-014c-4062-8a1b-ea8be10d14d1",
   "metadata": {
    "colab": {
     "base_uri": "https://localhost:8080/"
    },
    "executionInfo": {
     "elapsed": 19,
     "status": "ok",
     "timestamp": 1750869797348,
     "user": {
      "displayName": "John Collins",
      "userId": "16643596247369517939"
     },
     "user_tz": 240
    },
    "id": "488bc1b9-014c-4062-8a1b-ea8be10d14d1",
    "outputId": "eb45ffa1-7cca-4ea7-c03b-56f1c0cfd7d5"
   },
   "outputs": [],
   "source": [
    "fname = '%s/data/labels.csv' % project_home\n",
    "pd.DataFrame(records).to_csv(fname, index=False)\n",
    "print('wrote %s' % fname)"
   ]
  },
  {
   "cell_type": "code",
   "execution_count": null,
   "id": "dcb877b0-1b3c-4e3a-b805-22a5691d9565",
   "metadata": {
    "colab": {
     "base_uri": "https://localhost:8080/"
    },
    "executionInfo": {
     "elapsed": 107,
     "status": "ok",
     "timestamp": 1750869768271,
     "user": {
      "displayName": "John Collins",
      "userId": "16643596247369517939"
     },
     "user_tz": 240
    },
    "id": "dcb877b0-1b3c-4e3a-b805-22a5691d9565",
    "outputId": "5ad31b69-d137-4b03-eefb-471c09b97bc4"
   },
   "outputs": [],
   "source": [
    "!pwd"
   ]
  },
  {
   "cell_type": "code",
   "execution_count": null,
   "id": "1a81e357",
   "metadata": {
    "id": "1a81e357"
   },
   "outputs": [],
   "source": []
  }
 ],
 "metadata": {
  "colab": {
   "provenance": []
  },
  "kernelspec": {
   "display_name": "Python 3 (ipykernel)",
   "language": "python",
   "name": "python3"
  },
  "language_info": {
   "codemirror_mode": {
    "name": "ipython",
    "version": 3
   },
   "file_extension": ".py",
   "mimetype": "text/x-python",
   "name": "python",
   "nbconvert_exporter": "python",
   "pygments_lexer": "ipython3",
   "version": "3.12.4"
  }
 },
 "nbformat": 4,
 "nbformat_minor": 5
}
