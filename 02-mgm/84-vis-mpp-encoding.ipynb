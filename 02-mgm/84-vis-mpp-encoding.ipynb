{
 "cells": [
  {
   "cell_type": "code",
   "execution_count": null,
   "id": "c5a5a0f3-f96c-4e49-889d-8b1aa8c6d283",
   "metadata": {},
   "outputs": [],
   "source": [
    "import geopandas\n",
    "import pyproj\n",
    "import shapely\n",
    "import geo_encodings\n",
    "import numpy as np"
   ]
  },
  {
   "cell_type": "code",
   "execution_count": null,
   "id": "1256444b-22a4-4819-8fa3-399523aaa3a1",
   "metadata": {},
   "outputs": [],
   "source": [
    "fname = 'data/cb_2018_us_state_500k/cb_2018_us_state_500k.shp'\n",
    "gdf = geopandas.read_file(fname)"
   ]
  },
  {
   "cell_type": "code",
   "execution_count": null,
   "id": "26af3c77-a6f6-43d6-8b29-d05b3719c3c6",
   "metadata": {},
   "outputs": [],
   "source": [
    "gdf.head(3)"
   ]
  },
  {
   "cell_type": "code",
   "execution_count": null,
   "id": "470a6957-f96b-445c-ab45-639d2a564c9a",
   "metadata": {},
   "outputs": [],
   "source": [
    "mass = None\n",
    "for rec in gdf.to_dict('records'):\n",
    "    if rec['NAME'] == 'Massachusetts':\n",
    "        mass = rec\n",
    "mass"
   ]
  },
  {
   "cell_type": "code",
   "execution_count": null,
   "id": "f805b9b2-96a3-49d3-b15f-6a86edcaf694",
   "metadata": {},
   "outputs": [],
   "source": [
    "def get_projections(lon, lat):\n",
    "\n",
    "    center_lat = lat\n",
    "    center_lon = lon\n",
    "    x0 = 180000\n",
    "    y0 = 135000\n",
    "\n",
    "    proj_def = f\"\"\"\n",
    "    +proj=tmerc +lat_0={center_lat} +lon_0={center_lon}\n",
    "    +k=1.0 +x_0={x0} +y_0={y0} +datum=WGS84 +units=m +no_defs\n",
    "    \"\"\"\n",
    "\n",
    "    ltm_crs = pyproj.CRS.from_proj4(proj_def)\n",
    "    wgs84_crs = pyproj.CRS.from_epsg(4326)\n",
    "    proj_forward = pyproj.Transformer.from_crs(wgs84_crs, ltm_crs, always_xy=True).transform\n",
    "    proj_inverse = pyproj.Transformer.from_crs(ltm_crs, wgs84_crs, always_xy=True).transform\n",
    "\n",
    "    return proj_forward, proj_inverse"
   ]
  },
  {
   "cell_type": "code",
   "execution_count": null,
   "id": "154965ac-1482-4211-8761-9898f948e747",
   "metadata": {},
   "outputs": [],
   "source": [
    "g0 = mass['geometry']\n",
    "clon = g0.centroid.xy[0][0]\n",
    "clat = g0.centroid.xy[1][0]\n",
    "proj_forward, proj_inverse = get_projections(clon, clat)\n",
    "g1 = shapely.ops.transform(proj_forward, g0)\n",
    "g1.bounds"
   ]
  },
  {
   "cell_type": "code",
   "execution_count": null,
   "id": "dab7d1a2-34d7-4181-876c-7c81c0b6c9ae",
   "metadata": {},
   "outputs": [],
   "source": [
    "\n",
    "resolution = 12000\n",
    "x0, y0, = 0, 0\n",
    "x1, y1 = 380000, 250000\n",
    "\n",
    "encoder = geo_encodings.MPPEncoder(\n",
    "    region=[x0, y0, x1, y1],\n",
    "    resolution=resolution,\n",
    "    center=True\n",
    ")\n",
    "print('%d elements in encodings' % len(encoder))"
   ]
  },
  {
   "cell_type": "code",
   "execution_count": null,
   "id": "7ab63c65-16bb-4e60-b69d-8abb5586ad7d",
   "metadata": {},
   "outputs": [],
   "source": [
    "e = encoder.encode(g1).values()\n",
    "distances = -1.0 * resolution * np.log(e)"
   ]
  },
  {
   "cell_type": "code",
   "execution_count": null,
   "id": "86f5a3e9-aecf-4060-922d-cb7f85d50710",
   "metadata": {},
   "outputs": [],
   "source": [
    "import plotly\n",
    "from plotly.subplots import make_subplots\n",
    "from plotly.graph_objects import Scatter\n",
    "from geo_encodings import draw_shape\n",
    "\n",
    "\n",
    "def circle_xy(x0, y0, radius):\n",
    "    tt = np.linspace(0, 2.0 * 3.14159)\n",
    "    xx = x0 + radius * np.cos(tt)\n",
    "    yy = y0 + radius * np.sin(tt)\n",
    "    return xx, yy\n",
    "\n",
    "\n",
    "fig = plotly.subplots.make_subplots(1, 2)\n",
    "\n",
    "# ==============\n",
    "trace = Scatter(\n",
    "    x=encoder.ref_x, y=encoder.ref_y, name='reference points', \n",
    "    mode='markers', marker={'color': 'gray', 'size': 5, 'symbol': 'cross'}\n",
    ")\n",
    "fig.append_trace(trace, 1, 1)\n",
    "draw_shape(g1, fig, 1, 1, linewidth=2, showlegend=False)\n",
    "fig['layout']['xaxis1']['range'] = [x0, x1]\n",
    "fig['layout']['yaxis1']['range'] = [y0, y1]\n",
    "\n",
    "\n",
    "# ==============\n",
    "# Draw the circular \"exclusion zones\" around each reference point.\n",
    "for i in range(len(encoder)):\n",
    "    circle_x, circle_y = circle_xy(encoder.ref_x[i], encoder.ref_y[i], distances[i])\n",
    "    trace = Scatter(\n",
    "        x=circle_x, y=circle_y, name='polygon', \n",
    "        mode='lines', marker={'color': 'magenta'}, \n",
    "        fill='toself', fillcolor = 'rgba(255, 0, 255, 0.01)',\n",
    "        line={'width': 1}, showlegend=False\n",
    "    )\n",
    "    fig.append_trace(trace, 1, 2)\n",
    "\n",
    "# trace = Scatter(\n",
    "#     x=encoder.ref_x, y=encoder.ref_y, name='reference points', \n",
    "#     mode='markers', marker={'color': 'gray', 'size': 5, 'symbol': 'cross'}\n",
    "# )\n",
    "# fig.append_trace(trace, 1, 2)\n",
    "\n",
    "# Add the actual shape.\n",
    "draw_shape(g1, fig, 1, 2, linewidth=3, color='#444444', showlegend=False)\n",
    "\n",
    "lo = fig['layout']\n",
    "lo['width'] = 1100\n",
    "lo['height'] = 400\n",
    "lo['xaxis2']['range'] = [x0, x1]\n",
    "lo['yaxis2']['range'] = [y0, y1]\n",
    "\n",
    "fig"
   ]
  },
  {
   "cell_type": "code",
   "execution_count": null,
   "id": "30e2a7e5-9b8e-44dc-905a-182b1790de13",
   "metadata": {},
   "outputs": [],
   "source": []
  }
 ],
 "metadata": {
  "kernelspec": {
   "display_name": "Python 3 (ipykernel)",
   "language": "python",
   "name": "python3"
  },
  "language_info": {
   "codemirror_mode": {
    "name": "ipython",
    "version": 3
   },
   "file_extension": ".py",
   "mimetype": "text/x-python",
   "name": "python",
   "nbconvert_exporter": "python",
   "pygments_lexer": "ipython3",
   "version": "3.12.4"
  }
 },
 "nbformat": 4,
 "nbformat_minor": 5
}
