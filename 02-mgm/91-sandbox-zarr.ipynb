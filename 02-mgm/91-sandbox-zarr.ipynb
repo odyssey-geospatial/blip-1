{
 "cells": [
  {
   "cell_type": "markdown",
   "id": "eb45addf-5f20-4e78-80a1-d615b0658012",
   "metadata": {},
   "source": [
    "# Check out \"zarr\" for handling the VERGE dataset"
   ]
  },
  {
   "cell_type": "code",
   "execution_count": null,
   "id": "357d0f94-b727-4a2d-98be-c33588b15035",
   "metadata": {},
   "outputs": [],
   "source": [
    "import zarr\n",
    "import numcodecs\n",
    "from numcodecs import Blosc\n",
    "\n",
    "import numpy as np\n",
    "from typing import List, Tuple\n",
    "import json"
   ]
  },
  {
   "cell_type": "code",
   "execution_count": null,
   "id": "cd3af3d2-4cac-4589-af49-37c5ab10f28e",
   "metadata": {},
   "outputs": [],
   "source": [
    "# The first draft of this code was produced by Claude.\n",
    "\n",
    "class ZarrVariableDatasetSeparate:\n",
    "    def __init__(self, store_path: str, mode='w'):\n",
    "        \"\"\"\n",
    "        Store each training instance as separate arrays in a Zarr group.\n",
    "        \n",
    "        Args:\n",
    "            store_path: Path to zarr store\n",
    "            mode: 'w' for write, 'r' for read, 'a' for append\n",
    "        \"\"\"\n",
    "        self.store = zarr.open(store_path, mode=mode)\n",
    "        self.metadata = self.store.attrs.get('metadata', {})\n",
    "        \n",
    "    def add_instance(self, instance_id: str, features: np.ndarray, labels: np.ndarray):\n",
    "        \"\"\"\n",
    "        Add a training instance.\n",
    "        \n",
    "        Args:\n",
    "            instance_id: Unique identifier for this instance\n",
    "            features: Shape (R, C) features matrix\n",
    "            labels: Shape (R,) array of class labels\n",
    "        \"\"\"\n",
    "        # Create group for this instance\n",
    "        instance_group = self.store.create_group(instance_id, overwrite=True)\n",
    "        \n",
    "        # Store features and labels using modern API\n",
    "        instance_group['features'] = zarr.array(features, \n",
    "                                               compressor=Blosc(cname='gzip', clevel=1))\n",
    "        instance_group['labels'] = zarr.array(labels,\n",
    "                                             compressor=Blosc(cname='gzip', clevel=1))\n",
    "        \n",
    "        # Store metadata\n",
    "        instance_group.attrs['shape'] = features.shape\n",
    "        instance_group.attrs['num_rows'] = features.shape[0]\n",
    "        instance_group.attrs['num_cols'] = features.shape[1]\n",
    "        \n",
    "        # Update global metadata\n",
    "        self.metadata[instance_id] = {\n",
    "            'shape': features.shape,\n",
    "            'num_rows': features.shape[0]\n",
    "        }\n",
    "        self.store.attrs['metadata'] = self.metadata\n",
    "        \n",
    "    def get_instance(self, instance_id: str) -> Tuple[np.ndarray, np.ndarray]:\n",
    "        \"\"\"Get a training instance by ID.\"\"\"\n",
    "        instance_group = self.store[instance_id]\n",
    "        features = instance_group['features'][:]\n",
    "        labels = instance_group['labels'][:]\n",
    "        return features, labels\n",
    "    \n",
    "    def list_instances(self) -> List[str]:\n",
    "        \"\"\"Get list of all instance IDs.\"\"\"\n",
    "        return list(self.metadata.keys())\n",
    "    \n",
    "    def get_stats(self):\n",
    "        \"\"\"Get dataset statistics.\"\"\"\n",
    "        if not self.metadata:\n",
    "            return {}\n",
    "        shapes = [info['shape'] for info in self.metadata.values()]\n",
    "        rows = [info['num_rows'] for info in self.metadata.values()]\n",
    "        return {\n",
    "            'num_instances': len(self.metadata),\n",
    "            'min_rows': min(rows),\n",
    "            'max_rows': max(rows),\n",
    "            'mean_rows': np.mean(rows),\n",
    "            'num_cols': shapes[0][1] if shapes else 0\n",
    "        }\n"
   ]
  },
  {
   "cell_type": "code",
   "execution_count": null,
   "id": "af80ebfc-4124-4076-bad6-c265a1c7c711",
   "metadata": {},
   "outputs": [],
   "source": [
    "fname = './zdata'\n",
    "dset = ZarrVariableDatasetSeparate(store_path=fname, mode='w')"
   ]
  },
  {
   "cell_type": "code",
   "execution_count": null,
   "id": "b68d9161-99de-4be4-8944-d19791c63de2",
   "metadata": {},
   "outputs": [],
   "source": [
    "nc = 8\n",
    "\n",
    "nr = np.random.randint(4) + 2\n",
    "features = np.random.random((nr, nc))\n",
    "labels = np.random.randint(5, size=(nr,))\n",
    "instance_id = 'instance-%06d' % i\n",
    "print(instance_id, features.shape, labels.shape)\n",
    "dset.add_instance(instance_id=instance_id, features=features, labels=labels)\n"
   ]
  },
  {
   "cell_type": "markdown",
   "id": "7d430204-fb85-4f2f-ad52-46ca73ef30a3",
   "metadata": {},
   "source": [
    "## Based on ChatGPT suggestion. "
   ]
  },
  {
   "cell_type": "code",
   "execution_count": 3,
   "id": "069a9f3e-2df7-46cf-91bf-daabbcedfbe3",
   "metadata": {},
   "outputs": [],
   "source": [
    "import zarr\n",
    "import numpy as np\n",
    "import os"
   ]
  },
  {
   "cell_type": "code",
   "execution_count": 4,
   "id": "77126f64-2f7a-4505-a78c-4a1654f0966c",
   "metadata": {},
   "outputs": [],
   "source": [
    "np.random.seed(1)"
   ]
  },
  {
   "cell_type": "code",
   "execution_count": 5,
   "id": "fbc71468-72f9-46b0-a70e-d624528717c7",
   "metadata": {},
   "outputs": [],
   "source": [
    "# Parameters\n",
    "root_path = './zdata3'\n",
    "\n",
    "num_instances = 50  # For example\n",
    "C = 400            # Fixed number of columns\n",
    "\n",
    "# Remove old dataset if exists\n",
    "if os.path.exists(root_path):\n",
    "    import shutil\n",
    "    shutil.rmtree(root_path)\n",
    "\n",
    "# Create Zarr root group\n",
    "root = zarr.open(root_path, mode='w')\n",
    "\n"
   ]
  },
  {
   "cell_type": "code",
   "execution_count": 6,
   "id": "8ae5b473-caa3-487f-bdef-5e6f35937497",
   "metadata": {},
   "outputs": [],
   "source": [
    "from numcodecs import Blosc\n",
    "compressor = Blosc(cname='zstd', clevel=5, shuffle=Blosc.SHUFFLE)  # Good default"
   ]
  },
  {
   "cell_type": "code",
   "execution_count": 7,
   "id": "a3cc3e13-c25e-4295-bb71-c1039a1ee8b9",
   "metadata": {},
   "outputs": [],
   "source": [
    "# Store metadata\n",
    "root.attrs['num_instances'] = num_instances\n",
    "root.attrs['num_columns'] = C\n",
    "\n",
    "# Example: write instances\n",
    "for i in range(num_instances):\n",
    "    R = np.random.randint(20, 500)  # Variable number of rows\n",
    "    features = np.random.rand(R, C).astype('float32')\n",
    "    labels = np.random.randint(0, 10, size=(R,), dtype='int32')\n",
    "\n",
    "    # Create a group for this instance\n",
    "    g = root.create_group(f'instance_{i}')\n",
    "    g.create_dataset('features', data=features, shape=features.shape, \n",
    "                 chunks=(min(100, R), C), dtype='float32', compressor=compressor)\n",
    "    g.create_dataset('labels', data=labels, shape=labels.shape,\n",
    "                 chunks=(min(100, R),), dtype='int32', compressor=compressor)\n"
   ]
  },
  {
   "cell_type": "code",
   "execution_count": 2,
   "id": "59491572-c5e1-41e3-b8ef-3cd1a0805242",
   "metadata": {},
   "outputs": [
    {
     "data": {
      "text/plain": [
       "<zarr.core.Array '/instance_0/labels' (100,) int32>"
      ]
     },
     "execution_count": 2,
     "metadata": {},
     "output_type": "execute_result"
    }
   ],
   "source": [
    "import zarr\n",
    "import numpy as np\n",
    "from numcodecs import Blosc\n",
    "import shutil\n",
    "import os\n",
    "\n",
    "if os.path.exists(\"my_dataset.zarr\"):\n",
    "    shutil.rmtree(\"my_dataset.zarr\")\n",
    "\n",
    "root = zarr.open(\"my_dataset.zarr\", mode='w')\n",
    "\n",
    "compressor = Blosc(cname='zstd', clevel=5, shuffle=Blosc.SHUFFLE)\n",
    "\n",
    "R, C = 100, 422\n",
    "features = np.random.rand(R, C).astype('float32')\n",
    "labels = np.random.randint(0, 10, size=R, dtype='int32')\n",
    "\n",
    "g = root.create_group(\"instance_0\")\n",
    "g.create_dataset(\n",
    "    \"features\",\n",
    "    data=features,\n",
    "    shape=features.shape,\n",
    "    chunks=(50, C),\n",
    "    dtype='float32',\n",
    "    compressor=compressor\n",
    ")\n",
    "g.create_dataset(\n",
    "    \"labels\",\n",
    "    data=labels,\n",
    "    shape=labels.shape,\n",
    "    chunks=(50,),\n",
    "    dtype='int32',\n",
    "    compressor=compressor\n",
    ")\n"
   ]
  },
  {
   "cell_type": "code",
   "execution_count": null,
   "id": "c0075c49-55df-48e3-99ac-1cf4c7414461",
   "metadata": {},
   "outputs": [],
   "source": []
  }
 ],
 "metadata": {
  "kernelspec": {
   "display_name": "Python 3 (ipykernel)",
   "language": "python",
   "name": "python3"
  },
  "language_info": {
   "codemirror_mode": {
    "name": "ipython",
    "version": 3
   },
   "file_extension": ".py",
   "mimetype": "text/x-python",
   "name": "python",
   "nbconvert_exporter": "python",
   "pygments_lexer": "ipython3",
   "version": "3.12.4"
  }
 },
 "nbformat": 4,
 "nbformat_minor": 5
}
