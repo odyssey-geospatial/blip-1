{
 "cells": [
  {
   "cell_type": "code",
   "execution_count": null,
   "id": "44f851fd-23e1-40e9-ad58-695ba0d3740f",
   "metadata": {},
   "outputs": [],
   "source": [
    "import geopandas"
   ]
  },
  {
   "cell_type": "code",
   "execution_count": null,
   "id": "34839ca6-c260-40b0-b9b5-a4deafaf73a8",
   "metadata": {},
   "outputs": [],
   "source": [
    "fname = 'data/land-polygons-split-4326/land_polygons.shp'\n",
    "gdf = geopandas.read_file(fname)\n",
    "len(gdf)"
   ]
  },
  {
   "cell_type": "code",
   "execution_count": null,
   "id": "cb439b21-399a-4a88-9c06-0a7b35862bec",
   "metadata": {},
   "outputs": [],
   "source": [
    "from rtree import index\n",
    "\n",
    "# Create an R-tree index\n",
    "spatial_index = index.Index()\n",
    "\n",
    "# Insert geometries into the index\n",
    "for idx, geom in enumerate(gdf.geometry):\n",
    "    if geom is not None:\n",
    "        spatial_index.insert(idx, geom.bounds)  # bounds = (minx, miny, maxx, maxy)\n"
   ]
  },
  {
   "cell_type": "code",
   "execution_count": null,
   "id": "8d3ab370-8167-42bd-96a6-c6adf1c5489d",
   "metadata": {},
   "outputs": [],
   "source": [
    "lat0, lon0 = 42.670095, -73.419252\n",
    "lat1, lon1 = 45.386662, -70.897890\n",
    "query_bounds = (lon0, lat0, lon1, lat1)\n",
    "matches = list(spatial_index.intersection(query_bounds))\n",
    "recs = gdf.iloc[matches]\n"
   ]
  },
  {
   "cell_type": "code",
   "execution_count": null,
   "id": "243f56d2-2c04-4f32-b697-6cec62c26f90",
   "metadata": {},
   "outputs": [],
   "source": [
    "import folium\n",
    "\n",
    "geom = recs.iloc[0].geometry\n",
    "centroid = geom.centroid\n",
    "map_center = [centroid.y, centroid.x]\n",
    "m = folium.Map(location=map_center, zoom_start=10)\n",
    "folium.GeoJson(geom).add_to(m)\n",
    "m"
   ]
  },
  {
   "cell_type": "code",
   "execution_count": null,
   "id": "16bf83da-9878-4ad6-a871-b4c064e67199",
   "metadata": {},
   "outputs": [],
   "source": [
    "import osmnx\n",
    "\n",
    "# Define your center and radius (in meters)\n",
    "lat, lon = 43.063915, -70.705608 \n",
    "radius = 1000  # meters\n",
    "\n",
    "# Create a bounding polygon\n",
    "gdf = osmnx.features_from_point((lat, lon), tags={\n",
    "    'natural': ['water'],          # lakes, ponds, reservoirs\n",
    "    'waterway': True,              # rivers, streams, canals\n",
    "    'landuse': ['reservoir'],      # human-made water areas\n",
    "    'intermittent': True           # optional: dry season features\n",
    "}, dist=radius)\n",
    "\n",
    "# Optional: filter out only polygons (area features)\n",
    "polygons = gdf[gdf.geometry.type.isin(['Polygon', 'MultiPolygon'])]\n",
    "\n",
    "# # Save or display\n",
    "# polygons.plot()\n"
   ]
  },
  {
   "cell_type": "code",
   "execution_count": null,
   "id": "e8cf4754-2bae-4f4f-a50d-c810edaff785",
   "metadata": {},
   "outputs": [],
   "source": [
    "for rec in gdf.to_dict('records'):\n",
    "    print(\n",
    "        rec['name'], rec['waterway'], rec['water'], rec['natural'],\n",
    "        rec['geometry'].area\n",
    "    )"
   ]
  },
  {
   "cell_type": "code",
   "execution_count": null,
   "id": "d1a7f005-c247-416e-a69f-92130b025051",
   "metadata": {},
   "outputs": [],
   "source": [
    "map_center = [lat, lon]\n",
    "m = folium.Map(location=map_center, zoom_start=10)\n",
    "for _, row in gdf.iterrows():\n",
    "    if row['geometry'].geom_type in ['Polygon', 'MultiPolygon']:\n",
    "        geo_json = folium.GeoJson(row.geometry)\n",
    "        geo_json.add_to(m)\n",
    "m\n"
   ]
  },
  {
   "cell_type": "code",
   "execution_count": null,
   "id": "fe9d8232-092d-4bcd-b825-8e6eff4d86f1",
   "metadata": {},
   "outputs": [],
   "source": [
    "gdf['gtype'] = [\n",
    "    z['geometry'].geom_type\n",
    "    for z in gdf.to_dict('records')\n",
    "]\n",
    "gdf[['waterway', 'gtype']].value_counts()"
   ]
  },
  {
   "cell_type": "code",
   "execution_count": null,
   "id": "915562fa-939c-4923-bde5-33973bb25ac7",
   "metadata": {},
   "outputs": [],
   "source": [
    "for p in polygons.to_dict('records'):\n",
    "    print()\n",
    "    for key in p:\n",
    "        if key == 'geometry':\n",
    "            continue\n",
    "        if str(p[key]) != 'nan':\n",
    "            print('%s: %s' % (key, p[key]))\n"
   ]
  },
  {
   "cell_type": "code",
   "execution_count": null,
   "id": "bf82f933-8272-4ae2-b6fd-d91adb75e10b",
   "metadata": {},
   "outputs": [],
   "source": [
    "polygons[['natural', 'water']].value_counts()"
   ]
  }
 ],
 "metadata": {
  "kernelspec": {
   "display_name": "Python 3 (ipykernel)",
   "language": "python",
   "name": "python3"
  },
  "language_info": {
   "codemirror_mode": {
    "name": "ipython",
    "version": 3
   },
   "file_extension": ".py",
   "mimetype": "text/x-python",
   "name": "python",
   "nbconvert_exporter": "python",
   "pygments_lexer": "ipython3",
   "version": "3.12.4"
  }
 },
 "nbformat": 4,
 "nbformat_minor": 5
}
