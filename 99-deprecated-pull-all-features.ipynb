{
 "cells": [
  {
   "cell_type": "markdown",
   "id": "f57c8ee4-7198-4e1e-b2cf-767657175410",
   "metadata": {},
   "source": [
    "# Pull all features for an area\n",
    "\n",
    "In this notebook, I'm developing and testing code that pulls and standardizes all \n",
    "of the map features that we are interested in, for a box of a given size."
   ]
  },
  {
   "cell_type": "code",
   "execution_count": null,
   "id": "f8cfa816-f237-4de7-bfdd-61381d15f8d4",
   "metadata": {},
   "outputs": [],
   "source": [
    "import numpy as np\n",
    "import pandas as pd\n",
    "import pyproj\n",
    "import shapely\n",
    "import osmnx\n",
    "\n",
    "import plotly\n",
    "from plotly.subplots import make_subplots\n",
    "from plotly.graph_objects import Scatter\n",
    "\n",
    "from geo_encodings import draw_shape\n",
    "\n",
    "import utils\n"
   ]
  },
  {
   "cell_type": "markdown",
   "id": "663ce7bf-904d-41fe-a294-036f8a5d28fa",
   "metadata": {},
   "source": [
    "## Parameters"
   ]
  },
  {
   "cell_type": "code",
   "execution_count": null,
   "id": "5c3e5ab8-b3c0-4fa3-80a5-f78aad6bc37e",
   "metadata": {},
   "outputs": [],
   "source": [
    "# AOIs are squares of this dimension, in meters.\n",
    "aoi_size = 1000\n",
    "\n",
    "# For testing\n",
    "lat, lon = 42.981163, -70.946524 # Exeter NH\n",
    "# lat, lon = 43.077132, -70.757544 # Portsmouth NH\n",
    "\n"
   ]
  },
  {
   "cell_type": "markdown",
   "id": "856c456d-e173-4328-a166-4ae5daf44c50",
   "metadata": {},
   "source": [
    "## Preliminaries"
   ]
  },
  {
   "cell_type": "code",
   "execution_count": null,
   "id": "5564eba5-2617-458f-802e-5004579534d7",
   "metadata": {},
   "outputs": [],
   "source": [
    "# Define a local map projection\n",
    "\n",
    "center_lat = lat\n",
    "center_lon = lon\n",
    "\n",
    "proj_def = f\"\"\"\n",
    "+proj=tmerc +lat_0={center_lat} +lon_0={center_lon} \n",
    "+k=1.0 +x_0=0 +y_0=0 +datum=WGS84 +units=m +no_defs\n",
    "\"\"\"\n",
    "\n",
    "ltm_crs = pyproj.CRS.from_proj4(proj_def)\n",
    "wgs84_crs = pyproj.CRS.from_epsg(4326)\n",
    "proj_forward = pyproj.Transformer.from_crs(wgs84_crs, ltm_crs, always_xy=True).transform\n",
    "proj_inverse = pyproj.Transformer.from_crs(ltm_crs, wgs84_crs, always_xy=True).transform\n",
    "\n"
   ]
  },
  {
   "cell_type": "code",
   "execution_count": null,
   "id": "18b039e4-ac44-416b-a3ff-3ffe34b1e12e",
   "metadata": {},
   "outputs": [],
   "source": [
    "# Use that projection to define lon/lat nbounds. Make sure the bounds go \n",
    "# a little farther out than necessary to avoid edge artifacts from map projections.\n",
    "dd = aoi_size * 0.6\n",
    "\n",
    "lon0, lat0 = proj_inverse(-dd, -dd)\n",
    "lon1, lat1 = proj_inverse(+dd, +dd)\n",
    "print(lon0, lat0, lon1, lat1)"
   ]
  },
  {
   "cell_type": "code",
   "execution_count": null,
   "id": "367032f7-e848-4309-80d0-3552d7ceb9c1",
   "metadata": {},
   "outputs": [],
   "source": [
    "# Define the boundng box to be used to query OSM.\n",
    "query_bounds = [lon0, lat0, lon1, lat1]\n",
    "center_lon = (lon0 + lon1) / 2\n",
    "center_lat = (lat0 + lat1) / 2"
   ]
  },
  {
   "cell_type": "code",
   "execution_count": null,
   "id": "6c407459-2969-4621-8cf1-3a0528342c75",
   "metadata": {},
   "outputs": [],
   "source": [
    "# tags = {\n",
    "#     'landuse': True,\n",
    "#     'place': True,\n",
    "#     'highway': True,\n",
    "#     'railway': True,\n",
    "#     'aeroway': True,\n",
    "#     'bridge': True,\n",
    "#     'tunnel': True,\n",
    "#     'power': True,\n",
    "#     'natural': True,\n",
    "#     'waterway': True,\n",
    "#     'landcover': True,\n",
    "#     'building': True,\n",
    "#     'amenity': True,\n",
    "#     'shop': True,\n",
    "#     'leisure': True\n",
    "# }\n",
    "# features = osmnx.features.features_from_bbox(query_bounds, tags=tags).reset_index()\n",
    "# print('%d features' % len(features))"
   ]
  },
  {
   "cell_type": "code",
   "execution_count": null,
   "id": "ce21c017-6154-49ad-8e64-3ab77381bb8f",
   "metadata": {},
   "outputs": [],
   "source": [
    "keepers = []\n",
    "missed = []\n",
    "\n",
    "# for key in ['highway', 'waterway', 'landuse', 'railway', 'bridge', 'tunnel', 'building', 'amenity', 'shop', 'leisure']:\n",
    "for key in ['highway', 'waterway', 'landuse', 'railway', 'bridge', 'tunnel', 'building', 'amenity', 'shop',]:\n",
    "    print(key)\n",
    "    \n",
    "    query_tags = {key: True}\n",
    "    try:\n",
    "        features = osmnx.features.features_from_bbox(query_bounds, tags=query_tags).reset_index()\n",
    "    except:\n",
    "        print('==> query failed')\n",
    "        continue\n",
    "    \n",
    "    for feature in features.to_dict('records'):\n",
    "        \n",
    "        geomxy = shapely.ops.transform(proj_forward, feature['geometry'])\n",
    "        gtype = geomxy.geom_type\n",
    "\n",
    "        value = 'unknown'\n",
    "        for k in query_tags.keys():\n",
    "            if str(feature[k]) != 'nan':\n",
    "                value = str(feature[k])\n",
    "                \n",
    "        # Apply reformatting rules\n",
    "        matched = False\n",
    "        for rule in utils.rules[key]:\n",
    "            if gtype == rule['gtype']:\n",
    "    \n",
    "                # Check any keys for this feature class.\n",
    "                all_match = True\n",
    "                for rule_key in rule['keys']:\n",
    "                    rule_values = rule['keys'][rule_key]\n",
    "                    if rule_key not in features or value not in rule_values:\n",
    "                        all_match = False\n",
    "                if all_match:\n",
    "                    keepers.append({\n",
    "                        'category': rule['category'],\n",
    "                        'label': rule['label'],\n",
    "                        'gtype': gtype,\n",
    "                        'geom': geomxy,\n",
    "                    })\n",
    "                    matched = True\n",
    "                if not matched:\n",
    "                    missed.append({\n",
    "                        'category': key,\n",
    "                        'gtype': gtype\n",
    "                    })\n",
    "            if matched:\n",
    "                break\n"
   ]
  },
  {
   "cell_type": "code",
   "execution_count": null,
   "id": "1b37e381-e59b-4c39-bf27-9f1a3a31bf7f",
   "metadata": {},
   "outputs": [],
   "source": [
    "features.iloc[1].to_dict()"
   ]
  },
  {
   "cell_type": "code",
   "execution_count": null,
   "id": "1abc461e-eb10-4f59-8aa6-3cd548e50809",
   "metadata": {},
   "outputs": [],
   "source": [
    "pd.DataFrame(keepers)[['category', 'label', 'gtype']].value_counts().sort_index()"
   ]
  },
  {
   "cell_type": "code",
   "execution_count": null,
   "id": "65463aa3-29f6-4372-803b-961469ef0a86",
   "metadata": {},
   "outputs": [],
   "source": []
  },
  {
   "cell_type": "code",
   "execution_count": null,
   "id": "e962898d-728b-4d88-944b-3e1a4a26f07d",
   "metadata": {},
   "outputs": [],
   "source": []
  }
 ],
 "metadata": {
  "kernelspec": {
   "display_name": "Python 3 (ipykernel)",
   "language": "python",
   "name": "python3"
  },
  "language_info": {
   "codemirror_mode": {
    "name": "ipython",
    "version": 3
   },
   "file_extension": ".py",
   "mimetype": "text/x-python",
   "name": "python",
   "nbconvert_exporter": "python",
   "pygments_lexer": "ipython3",
   "version": "3.10.1"
  }
 },
 "nbformat": 4,
 "nbformat_minor": 5
}
