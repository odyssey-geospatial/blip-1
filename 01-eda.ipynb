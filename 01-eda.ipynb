{
 "cells": [
  {
   "cell_type": "markdown",
   "id": "f7e1bebe-4aa8-4b2f-a14e-46764a34ea82",
   "metadata": {},
   "source": [
    "# Exploratory analysis for training an embedding model\n",
    "\n",
    "In a parallel folder, we trained a masked geospatial model to yield \"embeddings\"\n",
    "for regions. But they have the problme of not being perm-invariant WRT the ordering\n",
    "of the inputs. Material in this folder seeks to ake those embddings perm-invariant.\n",
    "\n",
    "We do this by applying a NN layer that computes a weighed sum of input vectors, where\n",
    "the weights are learned form the features themselves. \n",
    "\n",
    "That model will be trained using contrastive loss.\n",
    "\n",
    "And contrastive loss depends on an independent definition of whether a pair of regions\n",
    "is similar or dissimilar. THAT is what I'm looking into here. \n",
    "Specifially I hope to define some feature vector for a region such that \"similar\" regions\n",
    "have similar feature vectors. \n",
    "\n",
    "My first attempt at such a feature vector is one that encodes the coverage of different\n",
    "geospatial entity types in a region. So here I'm going to compute that for a bunch \n",
    "of regions andsee how the results cluster. \n",
    "\n"
   ]
  },
  {
   "cell_type": "code",
   "execution_count": 1,
   "id": "361666cc-e946-4ffe-8a72-50b7a1d1437a",
   "metadata": {},
   "outputs": [],
   "source": [
    "import pandas as pd\n",
    "import numpy as np"
   ]
  },
  {
   "cell_type": "code",
   "execution_count": 3,
   "id": "6cb11716-993e-4422-b22d-5f39908af16d",
   "metadata": {},
   "outputs": [
    {
     "data": {
      "text/html": [
       "<div>\n",
       "<style scoped>\n",
       "    .dataframe tbody tr th:only-of-type {\n",
       "        vertical-align: middle;\n",
       "    }\n",
       "\n",
       "    .dataframe tbody tr th {\n",
       "        vertical-align: top;\n",
       "    }\n",
       "\n",
       "    .dataframe thead th {\n",
       "        text-align: right;\n",
       "    }\n",
       "</style>\n",
       "<table border=\"1\" class=\"dataframe\">\n",
       "  <thead>\n",
       "    <tr style=\"text-align: right;\">\n",
       "      <th></th>\n",
       "      <th>id</th>\n",
       "      <th>label</th>\n",
       "    </tr>\n",
       "  </thead>\n",
       "  <tbody>\n",
       "    <tr>\n",
       "      <th>0</th>\n",
       "      <td>0</td>\n",
       "      <td>amenity : commercial</td>\n",
       "    </tr>\n",
       "    <tr>\n",
       "      <th>1</th>\n",
       "      <td>1</td>\n",
       "      <td>amenity : food and drink</td>\n",
       "    </tr>\n",
       "    <tr>\n",
       "      <th>2</th>\n",
       "      <td>2</td>\n",
       "      <td>amenity : parking lot</td>\n",
       "    </tr>\n",
       "  </tbody>\n",
       "</table>\n",
       "</div>"
      ],
      "text/plain": [
       "   id                     label\n",
       "0   0      amenity : commercial\n",
       "1   1  amenity : food and drink\n",
       "2   2     amenity : parking lot"
      ]
     },
     "execution_count": 3,
     "metadata": {},
     "output_type": "execute_result"
    }
   ],
   "source": [
    "# Load labels\n",
    "fname = \"../data/labels.csv\"\n",
    "labels = pd.read_csv(fname)\n",
    "labels.head(3)"
   ]
  },
  {
   "cell_type": "code",
   "execution_count": 5,
   "id": "d1924793-cd8a-47bf-9c11-9e5659b14225",
   "metadata": {},
   "outputs": [
    {
     "name": "stdout",
     "output_type": "stream",
     "text": [
      "95\n"
     ]
    }
   ],
   "source": [
    "# Check out what's in the tile files.\n",
    "import glob\n",
    "globstring = \"../data/tiles/*/*.pq\"\n",
    "fnames = glob.glob(globstring)\n",
    "print(len(fnames))"
   ]
  },
  {
   "cell_type": "code",
   "execution_count": null,
   "id": "30c6cfc8-8ccc-4c87-abcb-9bc538b4f533",
   "metadata": {},
   "outputs": [],
   "source": [
    "tile = pd.read_parquet(fnames[0])\n",
    "print"
   ]
  }
 ],
 "metadata": {
  "kernelspec": {
   "display_name": "Python 3 (ipykernel)",
   "language": "python",
   "name": "python3"
  },
  "language_info": {
   "codemirror_mode": {
    "name": "ipython",
    "version": 3
   },
   "file_extension": ".py",
   "mimetype": "text/x-python",
   "name": "python",
   "nbconvert_exporter": "python",
   "pygments_lexer": "ipython3",
   "version": "3.10.1"
  }
 },
 "nbformat": 4,
 "nbformat_minor": 5
}
